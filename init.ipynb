{
 "cells": [
  {
   "cell_type": "markdown",
   "id": "8dfc96c8-17e3-498d-8210-90019fbbc73b",
   "metadata": {},
   "source": [
    "## Norman 2022 dataset - makes no sense"
   ]
  },
  {
   "cell_type": "code",
   "execution_count": 3,
   "id": "6bc38dcf-3e47-4062-aea5-b683ab246e18",
   "metadata": {},
   "outputs": [],
   "source": [
    "import scanpy as scp\n",
    "import pandas as pd\n",
    "import numpy as np"
   ]
  },
  {
   "cell_type": "markdown",
   "id": "dd7edf7b-5149-48af-aff3-558ee20ac1c5",
   "metadata": {},
   "source": [
    "Read-in bulk data. Apparently should be used as a reference for perturbations"
   ]
  },
  {
   "cell_type": "code",
   "execution_count": 128,
   "id": "f0206ef4-7c0d-4066-847f-ee63e0bb841f",
   "metadata": {},
   "outputs": [],
   "source": [
    "bulk_raw = scp.read_h5ad('./data/K562_essential_normalized_bulk_01.h5ad')"
   ]
  },
  {
   "cell_type": "code",
   "execution_count": 129,
   "id": "05a9c3bb-732c-47ce-8eef-af0b46e01427",
   "metadata": {},
   "outputs": [
    {
     "data": {
      "text/html": [
       "<div>\n",
       "<style scoped>\n",
       "    .dataframe tbody tr th:only-of-type {\n",
       "        vertical-align: middle;\n",
       "    }\n",
       "\n",
       "    .dataframe tbody tr th {\n",
       "        vertical-align: top;\n",
       "    }\n",
       "\n",
       "    .dataframe thead th {\n",
       "        text-align: right;\n",
       "    }\n",
       "</style>\n",
       "<table border=\"1\" class=\"dataframe\">\n",
       "  <thead>\n",
       "    <tr style=\"text-align: right;\">\n",
       "      <th></th>\n",
       "      <th>gene_name</th>\n",
       "      <th>mean</th>\n",
       "      <th>std</th>\n",
       "      <th>cv</th>\n",
       "      <th>in_matrix</th>\n",
       "      <th>gini</th>\n",
       "      <th>clean_mean</th>\n",
       "      <th>clean_std</th>\n",
       "      <th>clean_cv</th>\n",
       "    </tr>\n",
       "    <tr>\n",
       "      <th>gene_id</th>\n",
       "      <th></th>\n",
       "      <th></th>\n",
       "      <th></th>\n",
       "      <th></th>\n",
       "      <th></th>\n",
       "      <th></th>\n",
       "      <th></th>\n",
       "      <th></th>\n",
       "      <th></th>\n",
       "    </tr>\n",
       "  </thead>\n",
       "  <tbody>\n",
       "    <tr>\n",
       "      <th>ENSG00000110104</th>\n",
       "      <td>CCDC86</td>\n",
       "      <td>0.701475</td>\n",
       "      <td>0.175006</td>\n",
       "      <td>0.249483</td>\n",
       "      <td>True</td>\n",
       "      <td>0.137211</td>\n",
       "      <td>0.749281</td>\n",
       "      <td>0.17782</td>\n",
       "      <td>0.237321</td>\n",
       "    </tr>\n",
       "  </tbody>\n",
       "</table>\n",
       "</div>"
      ],
      "text/plain": [
       "                gene_name      mean       std        cv  in_matrix      gini  \\\n",
       "gene_id                                                                        \n",
       "ENSG00000110104    CCDC86  0.701475  0.175006  0.249483       True  0.137211   \n",
       "\n",
       "                 clean_mean  clean_std  clean_cv  \n",
       "gene_id                                           \n",
       "ENSG00000110104    0.749281    0.17782  0.237321  "
      ]
     },
     "execution_count": 129,
     "metadata": {},
     "output_type": "execute_result"
    }
   ],
   "source": [
    "bulk_raw.var[bulk_raw.var.gene_name == gene]"
   ]
  },
  {
   "cell_type": "code",
   "execution_count": 130,
   "id": "3c1092fe-63c9-47c8-a7d6-318b6989dad9",
   "metadata": {},
   "outputs": [
    {
     "data": {
      "text/html": [
       "<div>\n",
       "<style scoped>\n",
       "    .dataframe tbody tr th:only-of-type {\n",
       "        vertical-align: middle;\n",
       "    }\n",
       "\n",
       "    .dataframe tbody tr th {\n",
       "        vertical-align: top;\n",
       "    }\n",
       "\n",
       "    .dataframe thead th {\n",
       "        text-align: right;\n",
       "    }\n",
       "</style>\n",
       "<table border=\"1\" class=\"dataframe\">\n",
       "  <thead>\n",
       "    <tr style=\"text-align: right;\">\n",
       "      <th></th>\n",
       "      <th>gene_name</th>\n",
       "      <th>mean</th>\n",
       "      <th>std</th>\n",
       "      <th>cv</th>\n",
       "      <th>in_matrix</th>\n",
       "      <th>gini</th>\n",
       "      <th>clean_mean</th>\n",
       "      <th>clean_std</th>\n",
       "      <th>clean_cv</th>\n",
       "    </tr>\n",
       "    <tr>\n",
       "      <th>gene_id</th>\n",
       "      <th></th>\n",
       "      <th></th>\n",
       "      <th></th>\n",
       "      <th></th>\n",
       "      <th></th>\n",
       "      <th></th>\n",
       "      <th></th>\n",
       "      <th></th>\n",
       "      <th></th>\n",
       "    </tr>\n",
       "  </thead>\n",
       "  <tbody>\n",
       "    <tr>\n",
       "      <th>ENSG00000110104</th>\n",
       "      <td>CCDC86</td>\n",
       "      <td>0.701475</td>\n",
       "      <td>0.175006</td>\n",
       "      <td>0.249483</td>\n",
       "      <td>True</td>\n",
       "      <td>0.137211</td>\n",
       "      <td>0.749281</td>\n",
       "      <td>0.17782</td>\n",
       "      <td>0.237321</td>\n",
       "    </tr>\n",
       "  </tbody>\n",
       "</table>\n",
       "</div>"
      ],
      "text/plain": [
       "                gene_name      mean       std        cv  in_matrix      gini  \\\n",
       "gene_id                                                                        \n",
       "ENSG00000110104    CCDC86  0.701475  0.175006  0.249483       True  0.137211   \n",
       "\n",
       "                 clean_mean  clean_std  clean_cv  \n",
       "gene_id                                           \n",
       "ENSG00000110104    0.749281    0.17782  0.237321  "
      ]
     },
     "execution_count": 130,
     "metadata": {},
     "output_type": "execute_result"
    }
   ],
   "source": [
    "bulk_raw.var[bulk_raw.var.gene_name==gene]"
   ]
  },
  {
   "cell_type": "markdown",
   "id": "322eb6f2-38e6-4350-8c3f-d741f551b889",
   "metadata": {},
   "source": [
    "Read-in scRNAseq data with perturbations. As the first step we want to explore what happens when perturbing gene CCDC86, then will see..."
   ]
  },
  {
   "cell_type": "code",
   "execution_count": 131,
   "id": "b7ba09c2-2e55-448d-a7da-50276af502a7",
   "metadata": {},
   "outputs": [],
   "source": [
    "ss_norm = scp.read_h5ad('./data/K562_essential_normalized_singlecell_01.h5ad')"
   ]
  },
  {
   "cell_type": "code",
   "execution_count": 132,
   "id": "9f9f2ed6-9242-4e2f-aa94-856120674cbb",
   "metadata": {},
   "outputs": [],
   "source": [
    "gene = 'CCDC86'\n",
    "gene_id = 'ENSG00000110104'\n",
    "gene_id2 = 'ENSG00000188976'"
   ]
  },
  {
   "cell_type": "markdown",
   "id": "5699f8f6-35aa-444e-b0ac-e097e46e5877",
   "metadata": {},
   "source": [
    "We take all the cells where this gene is perturbed and running AD test to see whether it is within the distribution or not. Where is the reference???"
   ]
  },
  {
   "cell_type": "code",
   "execution_count": null,
   "id": "bf742910-cd05-4b03-a3c0-07e379e01898",
   "metadata": {},
   "outputs": [],
   "source": []
  },
  {
   "cell_type": "code",
   "execution_count": null,
   "id": "077ebe69-8cef-4ad9-854f-1f5d09cf89b9",
   "metadata": {},
   "outputs": [],
   "source": []
  },
  {
   "cell_type": "code",
   "execution_count": 123,
   "id": "2cbd3bdd-69e7-4c95-840f-c6722c478e3d",
   "metadata": {},
   "outputs": [],
   "source": [
    "cells = ss_norm.obs[ss_norm.obs.gene == gene].index"
   ]
  },
  {
   "cell_type": "code",
   "execution_count": 124,
   "id": "86b890d1-7080-4840-a345-fd4bbe24449f",
   "metadata": {},
   "outputs": [],
   "source": [
    "counts = []\n",
    "for c in cells:\n",
    "    counts.extend(ss_norm[c, gene_id].obs.core_adjusted_UMI_count.values)"
   ]
  },
  {
   "cell_type": "code",
   "execution_count": 126,
   "id": "9387fa58-8b30-46ee-a5f5-c4a41f7943f8",
   "metadata": {},
   "outputs": [
    {
     "data": {
      "image/png": "[encoded data removed]",
      "text/plain": [
       "<Figure size 640x480 with 1 Axes>"
      ]
     },
     "metadata": {},
     "output_type": "display_data"
    }
   ],
   "source": [
    "import matplotlib.pyplot as plt\n",
    "plt.hist(counts,bins=20,alpha=0.3,density=True);"
   ]
  },
  {
   "cell_type": "code",
   "execution_count": 122,
   "id": "d6f76e01-5882-407a-ae55-01431f62c4a4",
   "metadata": {},
   "outputs": [
    {
     "data": {
      "text/plain": [
       "(15461.816, 14927.192)"
      ]
     },
     "execution_count": 122,
     "metadata": {},
     "output_type": "execute_result"
    }
   ],
   "source": [
    "np.mean(counts), np.mean(counts2)"
   ]
  },
  {
   "cell_type": "code",
   "execution_count": null,
   "id": "500bc4f5-421d-43e3-8c4e-fafa197b9ece",
   "metadata": {},
   "outputs": [],
   "source": []
  },
  {
   "cell_type": "code",
   "execution_count": null,
   "id": "4b6dd7a6-44af-40d7-a417-2713fae960f8",
   "metadata": {},
   "outputs": [],
   "source": []
  },
  {
   "cell_type": "markdown",
   "id": "8f512868-cb1a-41eb-8943-f8b70c0f22dc",
   "metadata": {},
   "source": [
    "## Norman 2019 Science dataset - makes sense"
   ]
  },
  {
   "cell_type": "code",
   "execution_count": 1,
   "id": "22be6d06-7ff8-4945-87ed-1bee53b83634",
   "metadata": {},
   "outputs": [],
   "source": [
    "from gears import PertData, GEARS\n",
    "from gears.utils import dataverse_download"
   ]
  },
  {
   "cell_type": "code",
   "execution_count": 2,
   "id": "f77c1ec1-6482-441e-bf0c-fdb5157d63c4",
   "metadata": {},
   "outputs": [
    {
     "name": "stderr",
     "output_type": "stream",
     "text": [
      "Downloading...\n",
      "100%|██████████████████████████████████████████████████████████████| 1.10G/1.10G [04:42<00:00, 3.87MiB/s]\n"
     ]
    }
   ],
   "source": [
    "## Download dataloader from dataverse\n",
    "dataverse_download('https://dataverse.harvard.edu/api/access/datafile/6979957', 'norman_umi_go.tar.gz')\n",
    "\n",
    "## Extract and set up dataloader directory\n",
    "import tarfile\n",
    "with tarfile.open('norman_umi_go.tar.gz', 'r:gz') as tar:\n",
    "    tar.extractall()"
   ]
  },
  {
   "cell_type": "code",
   "execution_count": 6,
   "id": "47ac8368-c471-45a7-a7f4-57d142e9041a",
   "metadata": {},
   "outputs": [],
   "source": [
    "df = scp.read_h5ad('./data/Norman_2019/norman_umi_go/perturb_processed.h5ad')"
   ]
  },
  {
   "cell_type": "code",
   "execution_count": 104,
   "id": "e72bcf73-3a89-4b93-b393-1b98d0c9838c",
   "metadata": {
    "scrolled": true
   },
   "outputs": [
    {
     "data": {
      "text/plain": [
       "array(['LYZ', 'GAL', 'FOXA3', 'GYPB', 'FTH1', 'PTMA', 'OAZ1', 'RANBP1',\n",
       "       'MT-CO1', 'KRT8', 'ALAS2', 'TEX30', 'SEC61G', 'FABP5', 'RAN',\n",
       "       'PRSS57', 'STAT5A', 'FKBP4', 'SMYD3', 'PSMB9'], dtype=object)"
      ]
     },
     "execution_count": 104,
     "metadata": {},
     "output_type": "execute_result"
    }
   ],
   "source": [
    "df.var.loc[df.uns['top_non_zero_de_20']['K562_FOXA3+ctrl_1+1']].values.squeeze()"
   ]
  },
  {
   "cell_type": "code",
   "execution_count": 59,
   "id": "03015865-1d9a-4fe0-a6ec-1e92b24469b5",
   "metadata": {},
   "outputs": [],
   "source": [
    "treat_cells = df.obs[df.obs.condition=='FOXA3+ctrl'].index"
   ]
  },
  {
   "cell_type": "code",
   "execution_count": 12,
   "id": "fe3df6ae-95d0-424e-b13f-7b507a86c234",
   "metadata": {},
   "outputs": [
    {
     "data": {
      "text/plain": [
       "['K562_TSC22D1+ctrl_1+1', 'K562_KLF1+MAP2K6_1+1', 'K562_ctrl_1', 'K562_CEBPE+RUNX1T1_1+1', 'K562_MAML2+ctrl_1+1', ..., 'K562_STIL+ctrl_1+1', 'K562_CDKN1C+ctrl_1+1', 'K562_ctrl+CDKN1B_1+1', 'K562_CDKN1B+CDKN1A_1+1', 'K562_C3orf72+FOXL2_1+1']\n",
       "Length: 284\n",
       "Categories (284, object): ['K562_AHR+FEV_1+1', 'K562_AHR+KLF1_1+1', 'K562_AHR+ctrl_1+1', 'K562_ARID1A+ctrl_1+1', ..., 'K562_ctrl+UBASH3B_1+1', 'K562_ctrl+ZBTB1_1+1', 'K562_ctrl+ZBTB25_1+1', 'K562_ctrl_1']"
      ]
     },
     "execution_count": 12,
     "metadata": {},
     "output_type": "execute_result"
    }
   ],
   "source": [
    "df.obs.condition_name.unique()"
   ]
  },
  {
   "cell_type": "code",
   "execution_count": 48,
   "id": "ca7572a7-7162-46c4-960f-e28e96412230",
   "metadata": {},
   "outputs": [],
   "source": [
    "ctrl_cells = df.obs[df.obs.condition=='ctrl'].index"
   ]
  },
  {
   "cell_type": "code",
   "execution_count": 63,
   "id": "6c6bbbd4-a9fe-464f-a6c2-f8cab21614b8",
   "metadata": {},
   "outputs": [],
   "source": [
    "from tqdm import tqdm"
   ]
  },
  {
   "cell_type": "code",
   "execution_count": 179,
   "id": "e6d8afc7-ea1d-4f5b-aa8a-f93f2af55ac6",
   "metadata": {},
   "outputs": [
    {
     "name": "stderr",
     "output_type": "stream",
     "text": [
      "100%|█████████████████████████████████████████████████████████████████| 409/409 [00:01<00:00, 338.64it/s]\n"
     ]
    }
   ],
   "source": [
    "treat = np.zeros(shape=(len(treat_cells),5054),dtype=np.float32)\n",
    "counter=0\n",
    "for cell in tqdm(treat_cells):\n",
    "    a = df[cell].X.toarray()\n",
    "    treat[counter, :] = a\n",
    "    counter+=1\n",
    "#treat_summa/=counter\n",
    "treat_mean = np.median(treat, axis=0)\n",
    "treat_std = np.std(treat, axis=0)"
   ]
  },
  {
   "cell_type": "code",
   "execution_count": 180,
   "id": "7283020b-9af6-46e1-98f3-7ddaf20de973",
   "metadata": {},
   "outputs": [
    {
     "name": "stderr",
     "output_type": "stream",
     "text": [
      "100%|███████████████████████████████████████████████████████████████| 7353/7353 [00:19<00:00, 368.46it/s]\n"
     ]
    }
   ],
   "source": [
    "ctrl = np.zeros(shape=(len(ctrl_cells),5054),dtype=np.float32)\n",
    "counter=0\n",
    "for cell in tqdm(ctrl_cells):\n",
    "    a = df[cell].X.toarray()\n",
    "    ctrl[counter, :] = a\n",
    "    counter+=1\n",
    "#treat_summa/=counter\n",
    "ctrl_mean = np.median(ctrl, axis=0)\n",
    "ctrl_std = np.std(ctrl, axis=0)"
   ]
  },
  {
   "cell_type": "code",
   "execution_count": 118,
   "id": "6f13b946-f50a-4c00-8c5b-6e877681a977",
   "metadata": {},
   "outputs": [],
   "source": [
    "non_zero_DE = ['LYZ', 'GAL', 'FOXA3', 'GYPB', 'FTH1', 'PTMA', 'OAZ1', 'RANBP1',\n",
    "                'MT-CO1', 'KRT8', 'ALAS2', 'TEX30', 'SEC61G', 'FABP5', 'RAN',\n",
    "                'PRSS57', 'STAT5A', 'FKBP4', 'SMYD3', 'PSMB9']"
   ]
  },
  {
   "cell_type": "code",
   "execution_count": 146,
   "id": "a814a535-5d40-49fc-8f07-0767294eaddc",
   "metadata": {},
   "outputs": [],
   "source": [
    "import matplotlib.pyplot as plt"
   ]
  },
  {
   "cell_type": "code",
   "execution_count": 183,
   "id": "a2ba0c2d-2536-4038-a806-67c766bba1d7",
   "metadata": {},
   "outputs": [],
   "source": [
    "ctrl_mean_f = ctrl_mean[(ctrl_mean!=0) & (treat_mean!=0)]\n",
    "treat_mean_f = treat_mean[(ctrl_mean!=0) & (treat_mean!=0)]\n",
    "\n",
    "ctrl_std_f = ctrl_std[(ctrl_mean!=0) & (treat_mean!=0)]\n",
    "treat_std_f = treat_std[(ctrl_mean!=0) & (treat_mean!=0)]\n",
    "\n",
    "genes = df.var.loc[(ctrl_mean!=0) & (treat_mean!=0)].values.squeeze()\n"
   ]
  },
  {
   "cell_type": "code",
   "execution_count": 185,
   "id": "f9179ffa-582b-4de7-9975-e0eaef1bde75",
   "metadata": {},
   "outputs": [],
   "source": [
    "of_interest = np.argsort(abs(ctrl_mean_f-treat_mean_f)/ctrl_mean_f)[-20:]"
   ]
  },
  {
   "cell_type": "code",
   "execution_count": 186,
   "id": "fee70d04-6e0b-41ef-abe6-1161664bf493",
   "metadata": {
    "scrolled": true
   },
   "outputs": [
    {
     "data": {
      "text/plain": [
       "array(['MDK', 'SMYD3', 'PSAP', 'MLXIP', 'SMAP2', 'BCL2L1', 'PLD3',\n",
       "       'UCHL5', 'AKT1S1', 'CD59', 'EMC8', 'GAL', 'FAM210B', 'ATF7IP2',\n",
       "       'LBR', 'GMPPA', 'TRAPPC6A', 'KRT8', 'GYPE', 'TSPAN13'],\n",
       "      dtype=object)"
      ]
     },
     "execution_count": 186,
     "metadata": {},
     "output_type": "execute_result"
    }
   ],
   "source": [
    "genes[of_interest]"
   ]
  },
  {
   "cell_type": "code",
   "execution_count": 195,
   "id": "39ecddb0-2104-4cb1-80f3-b5765613e34d",
   "metadata": {},
   "outputs": [
    {
     "data": {
      "image/png": "[encoded data removed]",
      "text/plain": [
       "<Figure size 640x480 with 1 Axes>"
      ]
     },
     "metadata": {},
     "output_type": "display_data"
    }
   ],
   "source": [
    "plt.scatter(x=genes[of_interest], y=ctrl_mean_f[of_interest],alpha=0.75,)\n",
    "plt.scatter(x=genes[of_interest], y=treat_mean_f[of_interest],  alpha=0.75,)\n",
    "\n",
    "plt.errorbar(x=genes[of_interest], y=ctrl_mean_f[of_interest], yerr=ctrl_std_f[of_interest], alpha=0.3,ls='none')\n",
    "plt.errorbar(x=genes[of_interest], y=treat_mean_f[of_interest], yerr=treat_std_f[of_interest], alpha=0.3,ls='none')\n",
    "plt.xticks(rotation=45, ha='right');"
   ]
  },
  {
   "cell_type": "code",
   "execution_count": 188,
   "id": "7bbf9150-2d11-4b93-a3c8-7044de6007ef",
   "metadata": {},
   "outputs": [],
   "source": [
    "disc_DE = genes[of_interest]"
   ]
  },
  {
   "cell_type": "code",
   "execution_count": 189,
   "id": "a0a5ba81-752b-41a3-a936-d67a392c509e",
   "metadata": {},
   "outputs": [
    {
     "data": {
      "text/plain": [
       "array(['MDK', 'SMYD3', 'PSAP', 'MLXIP', 'SMAP2', 'BCL2L1', 'PLD3',\n",
       "       'UCHL5', 'AKT1S1', 'CD59', 'EMC8', 'GAL', 'FAM210B', 'ATF7IP2',\n",
       "       'LBR', 'GMPPA', 'TRAPPC6A', 'KRT8', 'GYPE', 'TSPAN13'],\n",
       "      dtype=object)"
      ]
     },
     "execution_count": 189,
     "metadata": {},
     "output_type": "execute_result"
    }
   ],
   "source": [
    "disc_DE"
   ]
  },
  {
   "cell_type": "code",
   "execution_count": 190,
   "id": "5a4ef4d9-0d2e-46fd-90c7-008307de88c8",
   "metadata": {},
   "outputs": [
    {
     "data": {
      "text/plain": [
       "{'GAL', 'KRT8', 'SMYD3'}"
      ]
     },
     "execution_count": 190,
     "metadata": {},
     "output_type": "execute_result"
    }
   ],
   "source": [
    "set(disc_DE).intersection(set(non_zero_DE))"
   ]
  },
  {
   "cell_type": "code",
   "execution_count": null,
   "id": "c0634a5e-473a-46a6-a70b-b0bf1f646978",
   "metadata": {},
   "outputs": [],
   "source": []
  }
 ],
 "metadata": {
  "kernelspec": {
   "display_name": "Python 3 (ipykernel)",
   "language": "python",
   "name": "python3"
  },
  "language_info": {
   "codemirror_mode": {
    "name": "ipython",
    "version": 3
   },
   "file_extension": ".py",
   "mimetype": "text/x-python",
   "name": "python",
   "nbconvert_exporter": "python",
   "pygments_lexer": "ipython3",
   "version": "3.10.12"
  }
 },
 "nbformat": 4,
 "nbformat_minor": 5
}
