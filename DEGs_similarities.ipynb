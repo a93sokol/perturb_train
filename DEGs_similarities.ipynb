{
 "cells": [
  {
   "cell_type": "markdown",
   "id": "ef12ddd0-7477-444a-b17f-b5f35b700347",
   "metadata": {},
   "source": [
    "### We want to compute DEGs between the ctrl and the perturbations and build a similarity matrix. Then, compare it to the reactome similarities and see whether it is any better than the VAE_tree or not."
   ]
  },
  {
   "cell_type": "code",
   "execution_count": 12,
   "id": "78a65fb1-c51d-4ed2-8a31-0f73e4fbe33e",
   "metadata": {},
   "outputs": [],
   "source": [
    "import scanpy as scp\n",
    "import pandas as pd\n",
    "import numpy as np\n",
    "import catboost as cb\n",
    "from tqdm import tqdm\n",
    "from scipy import sparse\n",
    "from sklearn.model_selection import train_test_split\n",
    "\n",
    "from catboost import CatBoostClassifier, CatBoostRegressor\n",
    "from lightgbm import LGBMClassifier, LGBMRegressor\n",
    "from collections import Counter\n",
    "import lightgbm as lgb\n",
    "import matplotlib.pyplot as plt\n",
    "import umap\n",
    "from sklearn.model_selection import StratifiedKFold\n",
    "\n",
    "import ot\n",
    "from sklearn.decomposition import PCA\n",
    "from IPython.display import clear_output\n",
    "from sklearn.preprocessing import QuantileTransformer"
   ]
  },
  {
   "cell_type": "markdown",
   "id": "3a38c49a-c763-4bc9-b8be-c26d5c85c07a",
   "metadata": {},
   "source": [
    "### Magics"
   ]
  },
  {
   "cell_type": "code",
   "execution_count": 13,
   "id": "9ecdd939-0378-46fe-97ba-5c84da59762a",
   "metadata": {},
   "outputs": [],
   "source": [
    "GENE_PER_CELL_BINNING = False\n",
    "N_BINS = 1000\n",
    "N_ITER = 50\n",
    "TOP_N_GENES = 500"
   ]
  },
  {
   "cell_type": "markdown",
   "id": "96fdca98-8401-44fe-9ba8-0606afcba0ee",
   "metadata": {},
   "source": [
    "### Prepare data"
   ]
  },
  {
   "cell_type": "code",
   "execution_count": 14,
   "id": "e77f4612-b030-4aaf-84ed-dc386874b82f",
   "metadata": {},
   "outputs": [],
   "source": [
    "adata = scp.read_h5ad('./data/Norman_2019/norman_umi_go/perturb_processed.h5ad')"
   ]
  },
  {
   "cell_type": "code",
   "execution_count": 15,
   "id": "9ff28f16-361d-4a49-b697-7d929a72c3ca",
   "metadata": {},
   "outputs": [
    {
     "name": "stdout",
     "output_type": "stream",
     "text": [
      "{1, 2, 3}\n"
     ]
    }
   ],
   "source": [
    "## Following the scGPT paper, we bin the genes within cell. \n",
    "\n",
    "def bin_nonzero_values(arr, num_bins):\n",
    "    # Filter out non-zero values\n",
    "    nonzero_vals = arr[arr != 0]\n",
    "    \n",
    "    # Calculate bin edges\n",
    "    bin_edges = np.linspace(nonzero_vals.min(), nonzero_vals.max(), num_bins)\n",
    "    \n",
    "    # Bin the values\n",
    "    binned_values = np.zeros_like(arr)\n",
    "    binned_nonzero = np.digitize(nonzero_vals, bin_edges)\n",
    "    binned_values[arr != 0] = binned_nonzero\n",
    "    \n",
    "    return binned_values\n",
    "\n",
    "# Example usage\n",
    "arr = np.random.randint(low=0, high=100, size=100)\n",
    "num_bins = 3\n",
    "binned_values = bin_nonzero_values(arr, num_bins)\n",
    "print(set(binned_values))"
   ]
  },
  {
   "cell_type": "code",
   "execution_count": 16,
   "id": "8b6fd4bf-a360-42ae-9e20-e2d7a2c8f519",
   "metadata": {},
   "outputs": [],
   "source": [
    "scp.pp.normalize_total(adata, exclude_highly_expressed=True)\n",
    "scp.pp.log1p(adata)\n",
    "scp.pp.highly_variable_genes(adata, n_top_genes=TOP_N_GENES,subset=True)"
   ]
  },
  {
   "cell_type": "code",
   "execution_count": 17,
   "id": "531bad6c-0996-4149-9b18-b6269e592e2e",
   "metadata": {},
   "outputs": [],
   "source": [
    "if GENE_PER_CELL_BINNING:\n",
    "    tempy = adata.X.toarray()\n",
    "    \n",
    "    for c in tqdm(range(adata.X.shape[0])):\n",
    "        tempy[c,:] = bin_nonzero_values(tempy[c,:], N_BINS)\n",
    "    \n",
    "    adata.X = sparse.csr_matrix(tempy)\n",
    "    del tempy"
   ]
  },
  {
   "cell_type": "code",
   "execution_count": 18,
   "id": "e1385b33-61d1-4a3d-ba3f-250fc1f15630",
   "metadata": {},
   "outputs": [],
   "source": [
    "adata.obs['condition_code'] = np.nan\n",
    "def f(x):\n",
    "    if 'ctrl' in x and '+' in x:\n",
    "        return x.replace('ctrl','').replace('+','')\n",
    "    elif 'ctrl' in x:\n",
    "        return 'ctrl'\n",
    "    else:\n",
    "        return np.nan\n",
    "adata.obs['condition_code'] = adata.obs.condition.apply(lambda x: f(x)).values"
   ]
  },
  {
   "cell_type": "code",
   "execution_count": 19,
   "id": "68365752-756d-41ee-9f6a-7375eeafbf88",
   "metadata": {},
   "outputs": [
    {
     "name": "stderr",
     "output_type": "stream",
     "text": [
      "100%|██████████| 107/107 [09:22<00:00,  5.25s/it]\n"
     ]
    }
   ],
   "source": [
    "group1 = \"ctrl\"\n",
    "p_value_threshold = 0.0001  # Set your desired p-value threshold here\n",
    "\n",
    "res_mtx = pd.DataFrame(index = adata.obs.condition_code.unique(), columns = adata.var.index)\n",
    "\n",
    "for group2 in tqdm(adata.obs.condition_code.unique()):\n",
    "    if group2 is not np.nan:\n",
    "        scp.tl.rank_genes_groups(adata, groupby=\"condition_code\", groups=[group1, group2], method='wilcoxon')\n",
    "        \n",
    "        # Access the results\n",
    "        result = adata.uns[\"rank_genes_groups\"]\n",
    "        \n",
    "        # Filter genes based on p-value threshold\n",
    "        mask = result['pvals'][group2] < p_value_threshold\n",
    "        filtered_genes = result['names'][group2][mask]\n",
    "        filtered_pvals = result['pvals_adj'][group2][mask]\n",
    "        \n",
    "        # Sort filtered genes by p-value\n",
    "        sorted_indices = np.argsort(filtered_pvals)\n",
    "        sorted_genes = filtered_genes[sorted_indices]\n",
    "        res_mtx.loc[group2, sorted_genes[:20]] = 1\n",
    "        # Print the top 20 differentially expressed genes (or all if less than 20) for each group\n",
    "        # print(f\"Top differentially expressed genes in {group2} (p-value < {p_value_threshold}):\")\n",
    "        # for i, gene in enumerate(sorted_genes[:20]):\n",
    "        #     print(f\"{i+1}. {gene} (p-value: {filtered_pvals[sorted_indices[i]]:.6f})\")\n",
    "        # print(\"\\n\")\n",
    "        "
   ]
  },
  {
   "cell_type": "code",
   "execution_count": 20,
   "id": "94028db5-9f0e-401a-9bb6-c9ef0bbf7b65",
   "metadata": {},
   "outputs": [],
   "source": [
    "res_mtx.to_csv('./little_data/DEGs_binary_intermediate_top20_500genes.csv')"
   ]
  },
  {
   "cell_type": "code",
   "execution_count": 21,
   "id": "05346a39-efe8-4d30-a039-de3276e1cd2c",
   "metadata": {},
   "outputs": [
    {
     "name": "stderr",
     "output_type": "stream",
     "text": [
      "100%|██████████| 107/107 [00:02<00:00, 38.70it/s]\n"
     ]
    }
   ],
   "source": [
    "sim_mtx = pd.DataFrame(index = res_mtx.index, columns = res_mtx.index)\n",
    "for gene1 in tqdm(sim_mtx.index):\n",
    "    for gene2 in sim_mtx.columns:\n",
    "        t1 = res_mtx.loc[gene1,:]\n",
    "        t1 = t1.dropna().index.tolist()\n",
    "        t2 = res_mtx.loc[gene2,:]\n",
    "        t2 = t2.dropna().index.tolist()\n",
    "        sim_mtx.loc[gene1, gene2] = len(set(t1).intersection(set(t2)))\n",
    "sim_mtx.fillna(0, inplace=True)"
   ]
  },
  {
   "cell_type": "code",
   "execution_count": 22,
   "id": "1e522ccb-dfd5-4301-bec5-f5d335adb0dc",
   "metadata": {
    "scrolled": true
   },
   "outputs": [],
   "source": [
    "sim_mtx.loc[sim_mtx.index.dropna(), sim_mtx.columns.dropna()].to_csv('./little_data/DEGs_sim_mtx_top20_500genes.csv')"
   ]
  },
  {
   "cell_type": "code",
   "execution_count": null,
   "id": "2125afb7-caad-442a-be1e-384bcc936e9f",
   "metadata": {},
   "outputs": [],
   "source": []
  },
  {
   "cell_type": "code",
   "execution_count": null,
   "id": "4d6c7c7a-535e-4c79-9496-2792267f0bcb",
   "metadata": {},
   "outputs": [],
   "source": []
  }
 ],
 "metadata": {
  "kernelspec": {
   "display_name": "Python 3 (ipykernel)",
   "language": "python",
   "name": "python3"
  },
  "language_info": {
   "codemirror_mode": {
    "name": "ipython",
    "version": 3
   },
   "file_extension": ".py",
   "mimetype": "text/x-python",
   "name": "python",
   "nbconvert_exporter": "python",
   "pygments_lexer": "ipython3",
   "version": "3.10.14"
  }
 },
 "nbformat": 4,
 "nbformat_minor": 5
}
