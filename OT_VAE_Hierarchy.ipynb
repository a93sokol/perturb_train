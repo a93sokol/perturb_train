{
 "cells": [
  {
   "cell_type": "markdown",
   "id": "e2357a85-4d3f-4793-9b5b-a356c9cf75c0",
   "metadata": {},
   "source": [
    "## OT - we want to use OT concept to find pairs btwn ctrl and treatment, then using VAE get the transformations. We adjust the latent space of the VAE to introduce hierarchy and get explainability of the perturbations"
   ]
  },
  {
   "cell_type": "markdown",
   "id": "3b37d636-1119-413c-b4e9-c56a08477c10",
   "metadata": {},
   "source": [
    "### Observations and TODOs\n",
    "- THERE IS A MAJOR IMPACT FROM CELL SIGNALLING IN THE EXPERIMENT which we do not account for.\n",
    "- We use ONLY ONE dataset, while competitiors use external data sources. THIS IS A BIG LIMITATION unless justified or biological findings are present.\n",
    "- The tree is conditional on the input. Hence, for the same pert, variability of the tree depends on the variability of the input. The latter is defined based on the OT. This is a large limitation of the method. UPD: this is fixed in the most recent version of the model.\n",
    "- Removing no-pertubation pairs from the dataset leads to a much worse distinguishing of the perturbations. Apparently, model learns a lot of relationships from the no-perturbation pairs. Quantify the impact of the no-perturbation data added.\n",
    "- Need to compare binary to multi-branch trees. The latter might be harder to explain but gives more variability.\n",
    "- Explore no-perturbation path, all paths similar to it can be considered as not impactful. TF-based perturbations should not have this path assigned. This is yet another method test.\n",
    "- Generate multiple records/paths for the same input, assess path stability and common deviations. UPD: The paths are unstable, although the high-level splits are largely fixed. This can be a good way to assess the model confidence (epistemic uncertainty?). Considering the differentiation, we are not so conditioned on the input!\n",
    "- Do I need to reconstruct the type of perturbation added as extra dimensions? Would that help the model in any way? UPD: does not seem to change much\n",
    "\n",
    "### Broader throughts\n",
    "- What do external data sources give us? They introduce some prior which causes model convergence to a different minimum. The model fits \"around\" the exisitng knowledge. While it helps when having not enough data, it may be also limiting in the case the prior is not 100% correct. Converging with a randomised prior means more flexibility and more hypotheses, hence noisier but bigger potential for biological findings. What if we use some prior but also intrduce randomised priors from VAE or EpiNet? That should address our limitation.\n",
    "- We have got path similarities within the no-perturbation cluster as well as between no-perturb and the rest of the data points. When a perturbation leads to less within-cluster specificity than the np-perturbation sample, we can PROBABLY say that there is some differentiation is taking place? This might be biologically SIGNIFICANT. Does it mean cells become more susceptible to changes e.g. cell signalling? \n",
    "- The ultimate objective is biological findings based on the PerturbSeq data. What are the ways this can be achieved?\n",
    "    - Predict unknown 2-gene perturbation. As the first step, measure the quality of the current predictions on the existing dataset. Replicate the established assessment procedure from GEARS, CPA, scGPT, etc. There is no doubt that using external data, one should be able to get better prediction quality, especially of the unseen genes. Hence, we focus more on the method itself and the biological impact it might have. \n",
    "    - Generate new data points based on the learned latent tree representation. What would one do with the extra data points?\n",
    "    - Assess uncertainty of the perturbations, understand what data is required to improve the model. This is a broad concept of better understanding data - requires the right context in the biological setting.\n",
    "    - Assuming the performance of the method is reasonable, we need to demonstrate path similarity of the similar genes. Can we reconstruct GO or coexpression from our representation? Or maybe even find something more interesting than reproducing some part of GO.\n",
    "\n",
    "### Critique\n",
    "- There is little value in the tree path differences between the different perturbations. You can get similar information from raw expression profiles. RESPONSE: assessing the benefits of the obtained representation.\n",
    "  - Comparing 9_10 perturbation paths to 0_9 and 0_10 it is evident that the overlap of the paths is shallow. The same holds for 45_50. In other words, it is rare to see the same outcome from perturbing one gene as to the one where two genes are perturbed. \n",
    "  - We might be more lucky if we have pruned multi-choice trees. This way we could see branches from both genes in the 2-gene perturbation. Might be able to classify interactions into additive, multiplicative, etc.?\n",
    "  - "
   ]
  },
  {
   "cell_type": "markdown",
   "id": "8bf26e58-960e-40d1-b160-be4876747e6f",
   "metadata": {},
   "source": [
    "### Imports"
   ]
  },
  {
   "cell_type": "code",
   "execution_count": 1,
   "id": "3de4a09e-8df0-4041-b095-0273c7ba95be",
   "metadata": {},
   "outputs": [
    {
     "data": {
      "text/plain": [
       "True"
      ]
     },
     "execution_count": 1,
     "metadata": {},
     "output_type": "execute_result"
    }
   ],
   "source": [
    "import torch\n",
    "torch.cuda.is_available()"
   ]
  },
  {
   "cell_type": "code",
   "execution_count": 2,
   "id": "be7da009-644e-4c15-a074-ab1671daf24f",
   "metadata": {},
   "outputs": [],
   "source": [
    "import scanpy as scp\n",
    "import pandas as pd\n",
    "import numpy as np\n",
    "import catboost as cb\n",
    "from tqdm import tqdm\n",
    "from scipy import sparse\n",
    "from sklearn.model_selection import train_test_split\n",
    "\n",
    "from catboost import CatBoostClassifier, CatBoostRegressor\n",
    "from lightgbm import LGBMClassifier, LGBMRegressor\n",
    "from collections import Counter\n",
    "import lightgbm as lgb\n",
    "import matplotlib.pyplot as plt\n",
    "import umap\n",
    "from sklearn.model_selection import StratifiedKFold\n",
    "\n",
    "import ot\n",
    "from sklearn.decomposition import PCA\n",
    "from IPython.display import clear_output\n",
    "from sklearn.preprocessing import QuantileTransformer"
   ]
  },
  {
   "cell_type": "markdown",
   "id": "28545cb6-f504-4523-8ea6-0e37ec165a9f",
   "metadata": {},
   "source": [
    "### Magics"
   ]
  },
  {
   "cell_type": "code",
   "execution_count": 3,
   "id": "2d1aad38-4497-4f8c-b5ed-c17b65b5fe84",
   "metadata": {},
   "outputs": [],
   "source": [
    "GENE_PER_CELL_BINNING = False\n",
    "N_BINS = 1000\n",
    "N_ITER = 50\n",
    "TOP_N_GENES = 1500"
   ]
  },
  {
   "cell_type": "markdown",
   "id": "29c34cd4-4903-47d4-aeba-57aa5aff6e2b",
   "metadata": {},
   "source": [
    "### Prepare data"
   ]
  },
  {
   "cell_type": "code",
   "execution_count": 4,
   "id": "579f1ded-ce0a-442a-9f46-aac212209692",
   "metadata": {},
   "outputs": [],
   "source": [
    "adata = scp.read_h5ad('./data/Norman_2019/norman_umi_go/perturb_processed.h5ad')"
   ]
  },
  {
   "cell_type": "code",
   "execution_count": 5,
   "id": "dc17e045-10e5-4a5f-853c-c02d17410346",
   "metadata": {},
   "outputs": [
    {
     "name": "stdout",
     "output_type": "stream",
     "text": [
      "{1, 2, 3}\n"
     ]
    }
   ],
   "source": [
    "## Following the scGPT paper, we bin the genes within cell. \n",
    "\n",
    "def bin_nonzero_values(arr, num_bins):\n",
    "    # Filter out non-zero values\n",
    "    nonzero_vals = arr[arr != 0]\n",
    "    \n",
    "    # Calculate bin edges\n",
    "    bin_edges = np.linspace(nonzero_vals.min(), nonzero_vals.max(), num_bins)\n",
    "    \n",
    "    # Bin the values\n",
    "    binned_values = np.zeros_like(arr)\n",
    "    binned_nonzero = np.digitize(nonzero_vals, bin_edges)\n",
    "    binned_values[arr != 0] = binned_nonzero\n",
    "    \n",
    "    return binned_values\n",
    "\n",
    "# Example usage\n",
    "arr = np.random.randint(low=0, high=100, size=100)\n",
    "num_bins = 3\n",
    "binned_values = bin_nonzero_values(arr, num_bins)\n",
    "print(set(binned_values))"
   ]
  },
  {
   "cell_type": "code",
   "execution_count": 6,
   "id": "6ff55295-12fe-41f9-b7f6-b122df4533cc",
   "metadata": {},
   "outputs": [],
   "source": [
    "scp.pp.normalize_total(adata, exclude_highly_expressed=True)\n",
    "scp.pp.log1p(adata)\n",
    "scp.pp.highly_variable_genes(adata, n_top_genes=TOP_N_GENES,subset=True)"
   ]
  },
  {
   "cell_type": "code",
   "execution_count": 7,
   "id": "e7de02c3-4aa2-40cd-81e5-7d07ce966e92",
   "metadata": {},
   "outputs": [],
   "source": [
    "if GENE_PER_CELL_BINNING:\n",
    "    tempy = adata.X.toarray()\n",
    "    \n",
    "    for c in tqdm(range(adata.X.shape[0])):\n",
    "        tempy[c,:] = bin_nonzero_values(tempy[c,:], N_BINS)\n",
    "    \n",
    "    adata.X = sparse.csr_matrix(tempy)\n",
    "    del tempy"
   ]
  },
  {
   "cell_type": "code",
   "execution_count": 8,
   "id": "52090a5e-fa6d-4b5f-b6cb-f5a165b2e61b",
   "metadata": {},
   "outputs": [],
   "source": [
    "y = adata.obs.condition.values.astype(str)\n",
    "X = adata.X.toarray()"
   ]
  },
  {
   "cell_type": "code",
   "execution_count": 9,
   "id": "1396df13-e30e-4474-b771-9164bba45127",
   "metadata": {
    "scrolled": true
   },
   "outputs": [
    {
     "name": "stderr",
     "output_type": "stream",
     "text": [
      "100%|██████████| 91205/91205 [00:00<00:00, 260758.44it/s]\n"
     ]
    }
   ],
   "source": [
    "gene_num_map = ['ctrl']\n",
    "y_processed = []\n",
    "\n",
    "for rec in tqdm(y):\n",
    "    y_processed.append([])\n",
    "    comps = rec.split('+')\n",
    "    for c in comps:\n",
    "        if c not in gene_num_map:\n",
    "            gene_num_map.append(c)\n",
    "        y_processed[-1].append(gene_num_map.index(c))\n",
    "    if len(y_processed[-1])<2:\n",
    "        y_processed[-1].append(gene_num_map.index('ctrl'))"
   ]
  },
  {
   "cell_type": "code",
   "execution_count": 10,
   "id": "28ddd071-c86c-4cc9-86e5-1b336e3251b1",
   "metadata": {
    "scrolled": true
   },
   "outputs": [],
   "source": [
    "def pair_records_optimal_transport(set1, set2):\n",
    "    \"\"\"\n",
    "    Pairs records from set1 with records from set2 using the optimal transport concept.\n",
    "    Records from set2 can be used multiple times if needed.\n",
    "\n",
    "    Args:\n",
    "    - set1 (np.ndarray): First 2D array of records (shape: n1 x features).\n",
    "    - set2 (np.ndarray): Second 2D array of records (shape: n2 x features).\n",
    "\n",
    "    Returns:\n",
    "    - pairs (list of tuples): List of index pairs (i, j) where i is the index\n",
    "      from set1 and j is the index from set2 that are paired.\n",
    "    \"\"\"\n",
    "\n",
    "    # Ensure the inputs are numpy arrays\n",
    "    set1 = np.array(set1)\n",
    "    set2 = np.array(set2)\n",
    "\n",
    "    # Compute the cost matrix (Euclidean distance between records)\n",
    "    cost_matrix = ot.dist(set1, set2, metric='euclidean')\n",
    "\n",
    "    # Compute the optimal transport plan using linear programming\n",
    "    n1, n2 = set1.shape[0], set2.shape[0]\n",
    "    a = np.ones(n1) / n1  # uniform distribution on set1\n",
    "    b = np.ones(n2)  # flexible distribution on set2\n",
    "\n",
    "    # Normalize b to sum to the same total mass as a\n",
    "    b = b / b.sum() * a.sum()\n",
    "\n",
    "    transport_plan = ot.emd(a, b, cost_matrix)\n",
    "\n",
    "    # Extract pairs based on the transport plan\n",
    "    pairs = []\n",
    "    for i in range(n1):\n",
    "        j = np.argmax(transport_plan[i])\n",
    "        pairs.append((i, j))\n",
    "\n",
    "    return pairs"
   ]
  },
  {
   "cell_type": "code",
   "execution_count": 11,
   "id": "5e768df8-9b34-40c2-a7c6-cfebe0892859",
   "metadata": {},
   "outputs": [],
   "source": [
    "X_train, X_test, y_train, y_test = train_test_split(X, y_processed, \n",
    "                                                  test_size=0.3, \n",
    "                                                  random_state=42,\n",
    "                                                  )\n",
    "\n",
    "X_train, X_val, y_train, y_val = train_test_split(X_train, y_train, \n",
    "                                                  test_size=0.2, \n",
    "                                                  random_state=42,\n",
    "                                                  )"
   ]
  },
  {
   "cell_type": "code",
   "execution_count": 12,
   "id": "851a99be-454a-4d24-b4ac-405401c9129a",
   "metadata": {},
   "outputs": [],
   "source": [
    "def vae_data_prep(X, y):\n",
    "\n",
    "    # Convert list of lists to a set of tuples to find unique classes\n",
    "    unique_classes = set(tuple(sorted(yi)) for yi in y)\n",
    "    \n",
    "    output_X = []\n",
    "    output_Y = []\n",
    "    labels = []\n",
    "    \n",
    "    # Convert y to a list of tuples for easier comparison\n",
    "    y_tuples = [tuple(sorted(yi)) for yi in y]\n",
    "    \n",
    "    for c in tqdm(unique_classes):\n",
    "        # if c == (0,0):\n",
    "        #     print('skipping no-perturbation records')\n",
    "        #     continue\n",
    "        \n",
    "        set1_indices = [i for i, yi in enumerate(y_tuples) if yi == c]\n",
    "        set2_indices = [i for i, yi in enumerate(y_tuples) if yi == (0,0)]\n",
    "        \n",
    "        set1 = X[set1_indices]\n",
    "        set2 = X[set2_indices]\n",
    "        \n",
    "        pairs = pair_records_optimal_transport(set1, set2)\n",
    "        \n",
    "        for p in pairs:\n",
    "            output_X.append(set2[p[1]])\n",
    "            output_Y.append(set1[p[0]])\n",
    "            labels.append(c)\n",
    "    \n",
    "    output_X = np.array(output_X)\n",
    "    output_Y = np.array(output_Y)\n",
    "    \n",
    "    return output_X, output_Y, labels"
   ]
  },
  {
   "cell_type": "code",
   "execution_count": 13,
   "id": "9c2dee6e-eba0-4542-9889-b88c062896a7",
   "metadata": {},
   "outputs": [
    {
     "name": "stderr",
     "output_type": "stream",
     "text": [
      " 27%|██▋       | 63/237 [00:16<00:35,  4.91it/s]/hpcfs/users/a1234104/miniconda3/envs/py310torch/lib/python3.10/site-packages/ot/lp/__init__.py:354: UserWarning: numItermax reached before optimality. Try to increase numItermax.\n",
      "  result_code_string = check_result(result_code)\n",
      "100%|██████████| 237/237 [01:04<00:00,  3.67it/s]\n",
      "100%|██████████| 237/237 [00:03<00:00, 65.77it/s]\n",
      "100%|██████████| 237/237 [00:14<00:00, 15.91it/s]\n"
     ]
    }
   ],
   "source": [
    "X_trainv, Y_trainv, labels_trainv = vae_data_prep(X_train, y_train)\n",
    "X_valv, Y_valv, labels_valv = vae_data_prep(X_val, y_val)\n",
    "X_testv, Y_testv, labels_testv = vae_data_prep(X_test, y_test)"
   ]
  },
  {
   "cell_type": "code",
   "execution_count": 14,
   "id": "50d2cfc6-4603-4259-9102-c6a7b1958422",
   "metadata": {},
   "outputs": [],
   "source": [
    "# pca = PCA(n_components=0.99)\n",
    "\n",
    "t = np.zeros(shape=(X_trainv.shape[0], 128))\n",
    "labels_trainv = np.array(labels_trainv)\n",
    "np.add.at(t, (np.arange(len(labels_trainv)), labels_trainv[:, 0]), 1)\n",
    "np.add.at(t, (np.arange(len(labels_trainv)), labels_trainv[:, 1]), 1)\n",
    "\n",
    "X_train_r = np.hstack([X_trainv, t]) #pca.fit_transform(X_trainv)\n",
    "Y_train_r = np.hstack([Y_trainv, t])\n",
    "X_train_r[:,TOP_N_GENES+1] = 0\n",
    "\n",
    "t = np.zeros(shape=(X_valv.shape[0], 128))\n",
    "labels_valv = np.array(labels_valv)\n",
    "np.add.at(t, (np.arange(len(labels_valv)), labels_valv[:, 0]), 1)\n",
    "np.add.at(t, (np.arange(len(labels_valv)), labels_valv[:, 1]), 1)\n",
    "\n",
    "X_val_r = np.hstack([X_valv, t])#pca.transform(X_valv)\n",
    "Y_val_r = np.hstack([Y_valv, t])\n",
    "X_val_r[:,TOP_N_GENES+1] = 0\n",
    "\n",
    "t = np.zeros(shape=(X_testv.shape[0], 128))\n",
    "labels_testv = np.array(labels_testv)\n",
    "np.add.at(t, (np.arange(len(labels_testv)), labels_testv[:, 0]), 1)\n",
    "np.add.at(t, (np.arange(len(labels_testv)), labels_testv[:, 1]), 1)\n",
    "\n",
    "X_test_r = np.hstack([X_testv, t])#pca.transform(X_testv)\n",
    "Y_test_r = np.hstack([Y_testv, t])\n",
    "X_test_r[:,TOP_N_GENES+1] = 0"
   ]
  },
  {
   "cell_type": "code",
   "execution_count": 15,
   "id": "eb1a8cc2-f5ac-4a55-87b5-390d70c6fdbc",
   "metadata": {},
   "outputs": [],
   "source": [
    "# qt = QuantileTransformer(output_distribution='normal',random_state=42,)\n",
    "\n",
    "# qt.fit(X_train_r)\n",
    "# X_train_r = qt.transform(X_train_r)\n",
    "# X_test_r = qt.transform(X_test_r)\n",
    "# X_val_r = qt.transform(X_val_r)\n",
    "\n",
    "# Y_train_r = qt.transform(Y_train_r)\n",
    "# Y_test_r = qt.transform(Y_test_r)\n",
    "# Y_val_r = qt.transform(Y_val_r)"
   ]
  },
  {
   "cell_type": "code",
   "execution_count": 16,
   "id": "e7e7cfcb-b34d-4a7f-8c5a-9dfbe3e07b1d",
   "metadata": {
    "scrolled": true
   },
   "outputs": [],
   "source": [
    "# model = LGBMClassifier(verbose=-1, n_jobs=10)\n",
    "# model.fit(X_train, y_train, eval_set=[(X_val, y_val)], eval_metric='auc_mu',    callbacks=[\n",
    "#         lgb.early_stopping(stopping_rounds=100),\n",
    "#         lgb.log_evaluation(1)\n",
    "#     ])"
   ]
  },
  {
   "cell_type": "code",
   "execution_count": 17,
   "id": "c98f9d6b-baca-4e4e-b211-e9cd148a994e",
   "metadata": {},
   "outputs": [],
   "source": [
    "device = 'cuda:0'"
   ]
  },
  {
   "cell_type": "markdown",
   "id": "86a4c2ce-3969-4d59-934d-cc0dba502f71",
   "metadata": {
    "jp-MarkdownHeadingCollapsed": true
   },
   "source": [
    "### DE groups"
   ]
  },
  {
   "cell_type": "code",
   "execution_count": null,
   "id": "a857d57a-ff75-4414-9f7f-a7064944fb17",
   "metadata": {},
   "outputs": [],
   "source": [
    "gene_num_map.index('TSC22D1')"
   ]
  },
  {
   "cell_type": "code",
   "execution_count": null,
   "id": "e3a1038f-60c5-44cf-9e5d-15a8f6fecb99",
   "metadata": {},
   "outputs": [],
   "source": [
    "group1 = \"ctrl\"\n",
    "group2 = \"TSC22D1+ctrl\"\n",
    "\n",
    "scp.tl.rank_genes_groups(adata, groupby=\"condition\", groups=[group1, group2])\n",
    "\n",
    "# Access the results\n",
    "result = adata.uns[\"rank_genes_groups\"]\n",
    "\n",
    "# Print the top 10 differentially expressed genes for each group\n",
    "for group in [group2]:\n",
    "    print(f\"Top 10 genes in {group}:\")\n",
    "    print(result[\"names\"][group][:20])\n",
    "    print(\"\\n\")"
   ]
  },
  {
   "cell_type": "code",
   "execution_count": null,
   "id": "0ebafb46-2f66-4ee6-b15d-925187090ef1",
   "metadata": {
    "scrolled": true
   },
   "outputs": [],
   "source": [
    "adata.var.loc[result[\"names\"][group][:20]].gene_name.values.tolist()"
   ]
  },
  {
   "cell_type": "markdown",
   "id": "71342908-3579-4c34-b90f-e817945f6771",
   "metadata": {},
   "source": [
    "### VAE architecture"
   ]
  },
  {
   "cell_type": "code",
   "execution_count": 18,
   "id": "92e5fd81-0dbf-4c7d-b37f-4f8c73a59120",
   "metadata": {
    "scrolled": true
   },
   "outputs": [],
   "source": [
    "import torch\n",
    "import torch.nn as nn\n",
    "import torch.optim as optim\n",
    "from torch.utils.data import Dataset, DataLoader\n",
    "\n",
    "class CustomDataset(Dataset):\n",
    "    def __init__(self, X):\n",
    "        self.X = torch.tensor(X, dtype=torch.float32)\n",
    "    \n",
    "    def __len__(self):\n",
    "        return len(self.X)\n",
    "    \n",
    "    def __getitem__(self, idx):\n",
    "        return self.X[idx]"
   ]
  },
  {
   "cell_type": "code",
   "execution_count": null,
   "id": "59f673f0-872c-4e72-980c-1e3d37574d56",
   "metadata": {
    "jupyter": {
     "source_hidden": true
    },
    "scrolled": true
   },
   "outputs": [],
   "source": [
    "# class VAE(nn.Module):\n",
    "#     def __init__(self, input_dim, latent_dim, hidden_dims, levels):\n",
    "#         super(VAE, self).__init__()\n",
    "\n",
    "#         self.levels = levels\n",
    "#         self.fc_mu = nn.Linear(hidden_dims[-1], latent_dim)\n",
    "#         self.fc_logvar = nn.Linear(hidden_dims[-1], latent_dim)\n",
    "        \n",
    "#         self.encoder = self.build_encoder(input_dim, latent_dim, hidden_dims)\n",
    "#         self.decoder = self.build_decoder(latent_dim, input_dim, hidden_dims)\n",
    "        \n",
    "#         # Initialize the thresholds for the splits\n",
    "#         self.thresholds = torch.randn(2**(self.levels+1)-1).to(device)\n",
    "\n",
    "#     def build_encoder(self, input_dim, latent_dim, hidden_dims):\n",
    "#         layers = []\n",
    "#         for h_dim in hidden_dims:\n",
    "#             layers.append(nn.Linear(input_dim, h_dim))\n",
    "#             layers.append(nn.ReLU())\n",
    "#             layers.append(nn.Dropout(0.5)) \n",
    "#             input_dim = h_dim\n",
    "#         return nn.Sequential(*layers)\n",
    "    \n",
    "#     def build_decoder(self, latent_dim, output_dim, hidden_dims):\n",
    "#         layers = []\n",
    "#         hidden_dims.reverse()\n",
    "#         for h_dim in hidden_dims:\n",
    "#             layers.append(nn.Linear(latent_dim, h_dim))\n",
    "#             layers.append(nn.ReLU())\n",
    "#             latent_dim = h_dim\n",
    "#         layers.append(nn.Linear(hidden_dims[-1], output_dim))\n",
    "#         #layers.append(nn.Sigmoid())\n",
    "#         return nn.Sequential(*layers)\n",
    "\n",
    "#     def encode(self, x):\n",
    "#         h = self.encoder(x)\n",
    "#         mu = self.fc_mu(h)\n",
    "#         logvar = self.fc_logvar(h)\n",
    "#         return mu, logvar\n",
    "    \n",
    "#     def reparameterize(self, mu, logvar):\n",
    "#         std = torch.exp(0.5 * logvar)\n",
    "#         if self.training:\n",
    "#             eps = torch.randn_like(std)\n",
    "#         else:\n",
    "#             eps = torch.zeros_like(std)\n",
    "#         return mu + eps * std\n",
    "\n",
    "#     def mask(self, z):\n",
    "#         levels = self.levels\n",
    "#         mask = (z[:, :2**(levels+1)-1] > self.thresholds).float()\n",
    "#         for level in range(1, levels+1):\n",
    "#             nonzero = torch.zeros(z.shape[0]).to(device)\n",
    "#             for i in range(2 ** level - 1, 2 ** (level + 1) - 1):\n",
    "#                 if (nonzero > 0).any():\n",
    "#                     mask[nonzero > 0, i] = 0\n",
    "    \n",
    "#                 parent_index = i // 2\n",
    "#                 if i % 2 == 0:  # For even indices, mask if parent (i//2 - 1) is masked\n",
    "#                     mask[nonzero == 0, i] *= mask[nonzero == 0, parent_index - 1]\n",
    "#                 else:  # For odd indices, mask if parent (i//2) is masked\n",
    "#                     mask[nonzero == 0, i] *= mask[nonzero == 0, parent_index]\n",
    "    \n",
    "#                 nonzero += mask[:, i]\n",
    "    \n",
    "#             if (nonzero == 0).any():\n",
    "#                 # Calculate differences between node values and thresholds\n",
    "#                 differences = torch.abs(z[nonzero == 0, 2 ** level - 1:2 ** (level + 1) - 1] - self.thresholds[2 ** level - 1:2 ** (level + 1) - 1])\n",
    "#                 # Find the index of the node with the smallest difference for each record\n",
    "#                 min_difference_indices = torch.argmin(differences, dim=1)\n",
    "#                 # Activate the node with the smallest difference for each record\n",
    "#                 mask[nonzero == 0, 2 ** level - 1 + min_difference_indices] = 1\n",
    "        \n",
    "#         # we want the first element be always active, after it decides on the child node. This ensures fixed representation length\n",
    "#         mask[:,0] = 1.0\n",
    "        \n",
    "#         return torch.cat([mask * (z[:,:2**(levels+1)-1]), z[:,2**(levels+1)-1:]], axis=1) #\n",
    "\n",
    "  \n",
    "#     def decode(self, z):\n",
    "#         return self.decoder(z)\n",
    "    \n",
    "#     def forward(self, x, perturbs = []):\n",
    "#         mu, logvar = self.encode(x.to(device))\n",
    "#         z = self.reparameterize(mu, logvar)\n",
    "#         z_p = z.clone()\n",
    "\n",
    "#         z[:,:(2**(self.levels+1))-1] *= 0\n",
    "#         z_p = self.mask(z_p)  # Apply the mask before decoding\n",
    "\n",
    "#         pert_x = self.decode(z_p)\n",
    "#         recon_x = self.decode(z)\n",
    "        \n",
    "#         return pert_x, recon_x, mu, logvar\n",
    "\n",
    "        \n",
    "# def vae_loss(pert_x, y, recon_x, x, mu, logvar, levels):\n",
    "#     tree_KLD_opt = False\n",
    "#     x = x.to(device)\n",
    "#     recon_loss = nn.functional.mse_loss(recon_x[:,:TOP_N_GENES], x[:,:TOP_N_GENES], reduction='sum')\n",
    "#     pert_loss = nn.functional.mse_loss(pert_x[:,:TOP_N_GENES], y[:,:TOP_N_GENES], reduction='sum')\n",
    "#     if not tree_KLD_opt:\n",
    "#         kl_loss = -0.5 * torch.sum(1 + logvar[:,(2**(levels+1))-1:] - mu[:,(2**(levels+1))-1:].pow(2) - logvar[:,(2**(levels+1))-1:].exp())\n",
    "#     else:\n",
    "#         kl_loss = -0.5 * torch.sum(1 + logvar - mu.pow(2) - logvar.exp())\n",
    "#     return recon_loss, pert_loss, kl_loss\n",
    "\n",
    "# def train_vae(model, train_loader, val_loader, epochs, learning_rate=1e-3, step_size=5, gamma=0.1, patience=7):\n",
    "#     optimizer = optim.Adam(model.parameters(), lr=learning_rate)\n",
    "#     scheduler = torch.optim.lr_scheduler.StepLR(optimizer, step_size=step_size, gamma=gamma)\n",
    "#     model.train()\n",
    "    \n",
    "#     best_loss = 1e6\n",
    "    \n",
    "#     train_losses = []\n",
    "#     val_losses = []\n",
    "#     no_improve_epochs = 0\n",
    "#     for epoch in range(epochs):\n",
    "#         total_train_recon_loss = 0\n",
    "#         total_train_pert_loss = 0\n",
    "#         total_train_kl_loss = 0\n",
    "#         for batch_ctrl, batch_pert, pert_labels in train_loader:\n",
    "#             optimizer.zero_grad()\n",
    "#             batch_ctrl = batch_ctrl.to(device)\n",
    "#             batch_pert = batch_pert.to(device)\n",
    "                        \n",
    "#             pert_x, recon_x, mu, logvar = model(batch_ctrl, pert_labels)\n",
    "            \n",
    "#             z = model.reparameterize(mu, logvar)\n",
    "#             recon_loss, pert_loss, kl_loss = vae_loss(pert_x, batch_pert, recon_x, batch_ctrl, mu, logvar, levels=model.levels)\n",
    "#             loss = recon_loss + pert_loss + kl_loss\n",
    "#             loss.backward()\n",
    "#             optimizer.step()\n",
    "#             total_train_recon_loss += recon_loss.item()\n",
    "#             total_train_pert_loss += pert_loss.item()\n",
    "#             total_train_kl_loss += kl_loss.item()\n",
    "        \n",
    "#         scheduler.step()\n",
    "#         print(f\"----Current LR is {scheduler.get_lr()}----\")\n",
    "#         avg_train_recon_loss = total_train_recon_loss / len(train_loader.dataset)\n",
    "#         avg_train_pert_loss = total_train_pert_loss / len(train_loader.dataset)\n",
    "#         avg_train_kl_loss = total_train_kl_loss / len(train_loader.dataset)\n",
    "#         train_losses.append((avg_train_recon_loss, avg_train_pert_loss, avg_train_kl_loss))\n",
    "        \n",
    "#         model.eval()\n",
    "#         total_val_recon_loss = 0\n",
    "#         total_val_pert_loss = 0\n",
    "#         total_val_kl_loss = 0\n",
    "#         with torch.no_grad():\n",
    "#             for batch_ctrl, batch_pert, pert_labels in val_loader:\n",
    "\n",
    "#                 batch_ctrl = batch_ctrl.to(device)\n",
    "#                 batch_pert = batch_pert.to(device)\n",
    "                                \n",
    "#                 pert_x, recon_x, mu, logvar = model(batch_ctrl, pert_labels)\n",
    "#                 z = model.reparameterize(mu, logvar)\n",
    "#                 recon_loss, pert_loss, kl_loss = vae_loss(pert_x, batch_pert, recon_x, batch_ctrl, mu, logvar, levels=model.levels)\n",
    "#                 total_val_recon_loss += recon_loss.item()\n",
    "#                 total_val_pert_loss += pert_loss.item()\n",
    "#                 total_val_kl_loss += kl_loss.item()\n",
    "        \n",
    "#         avg_val_recon_loss = total_val_recon_loss / len(val_loader.dataset)\n",
    "#         avg_val_pert_loss = total_val_pert_loss / len(val_loader.dataset)\n",
    "#         avg_val_kl_loss = total_val_kl_loss / len(val_loader.dataset)\n",
    "#         val_losses.append((avg_val_recon_loss, avg_val_pert_loss, avg_val_kl_loss))\n",
    "        \n",
    "#         current_loss = avg_val_recon_loss + avg_val_pert_loss + avg_val_kl_loss\n",
    "#         if current_loss < best_loss:\n",
    "#             best_loss = current_loss\n",
    "#             no_improve_epochs = 0\n",
    "#         else:\n",
    "#             no_improve_epochs += 1\n",
    "#             if no_improve_epochs >= patience:\n",
    "#                 print(f'Early stopping at epoch {epoch+1}')\n",
    "#                 break\n",
    "        \n",
    "#         model.train()\n",
    "\n",
    "#         # Plotting the losses\n",
    "#         clear_output(wait=True)\n",
    "#         fig, ax = plt.subplots(3, 1, sharex=True, sharey=False, figsize=(10, 7))\n",
    "        \n",
    "#         # Calculate minimum loss values\n",
    "#         min_train_recon_loss = min([x[0] for x in train_losses])\n",
    "#         min_train_pert_loss = min([x[1] for x in train_losses])\n",
    "#         min_train_kl_loss = min([x[2] for x in train_losses])\n",
    "#         min_val_recon_loss = min([x[0] for x in val_losses])\n",
    "#         min_val_pert_loss = min([x[1] for x in val_losses])\n",
    "#         min_val_kl_loss = min([x[2] for x in val_losses])\n",
    "        \n",
    "#         # Plot training losses\n",
    "#         ax[0].plot([x[0] for x in train_losses], label='Train Recon Loss')\n",
    "#         ax[0].set_title(f'Min Train Recon Loss: {min_train_recon_loss:.2E}')\n",
    "#         ax[1].plot([x[1] for x in train_losses], label='Train Pert Loss')\n",
    "#         ax[1].set_title(f'Min Train Pert Loss: {min_train_pert_loss:.2E}')\n",
    "#         ax[2].plot([x[2] for x in train_losses], label='Train KL Loss')\n",
    "#         ax[2].set_title(f'Min Train KL Loss: {min_train_kl_loss:.2E}')\n",
    "        \n",
    "#         # Plot validation losses\n",
    "#         ax[0].plot([x[0] for x in val_losses], label=f'Val Recon Loss; Best: {np.argmin([x[0] for x in val_losses])}')\n",
    "#         ax[0].set_title(f'Min Val Recon Loss: {min_val_recon_loss:.2E}')\n",
    "#         ax[1].plot([x[1] for x in val_losses], label=f'Val Pert Loss; Best: {np.argmin([x[1] for x in val_losses])}')\n",
    "#         ax[1].set_title(f'Min Val Pert Loss: {min_val_pert_loss:.2E}')\n",
    "#         ax[2].plot([x[2] for x in val_losses], label=f'Val KL Loss; Best: {np.argmin([x[2] for x in val_losses])}')\n",
    "#         ax[2].set_title(f'Min Val KL Loss: {min_val_kl_loss:.2E}')\n",
    "        \n",
    "#         # Add legends\n",
    "#         ax[0].legend()\n",
    "#         ax[1].legend()\n",
    "#         ax[2].legend()\n",
    "#         plt.show()"
   ]
  },
  {
   "cell_type": "code",
   "execution_count": 194,
   "id": "244b9d25-497a-4b10-ad1f-72e1f19e4c23",
   "metadata": {},
   "outputs": [],
   "source": [
    "class VAE(nn.Module):\n",
    "    def __init__(self, input_dim, latent_dim, hidden_dims, levels, num_classes):\n",
    "        super(VAE, self).__init__()\n",
    "\n",
    "        self.levels = levels\n",
    "        self.fc_mu = nn.Linear(hidden_dims[-1], latent_dim)\n",
    "        self.fc_logvar = nn.Linear(hidden_dims[-1], latent_dim)\n",
    "        self.fc_class = nn.Linear(2**(self.levels+1)-1, num_classes)\n",
    "        self.sigmoid = nn.Sigmoid()\n",
    "        self.relu = nn.ReLU()\n",
    "        \n",
    "        self.encoder = self.build_encoder(input_dim, latent_dim, hidden_dims)\n",
    "        self.decoder = self.build_decoder(latent_dim, input_dim, hidden_dims)\n",
    "        \n",
    "        # Initialize the thresholds for the splits\n",
    "        self.thresholds = torch.randn(2**(self.levels+1)-1).to(device)\n",
    "\n",
    "    def build_encoder(self, input_dim, latent_dim, hidden_dims):\n",
    "        layers = []\n",
    "        for h_dim in hidden_dims:\n",
    "            layers.append(nn.Linear(input_dim, h_dim))\n",
    "            layers.append(nn.ReLU())\n",
    "            layers.append(nn.Dropout(0.5)) \n",
    "            input_dim = h_dim\n",
    "        return nn.Sequential(*layers)\n",
    "    \n",
    "    def build_decoder(self, latent_dim, output_dim, hidden_dims):\n",
    "        layers = []\n",
    "        hidden_dims.reverse()\n",
    "        for h_dim in hidden_dims:\n",
    "            layers.append(nn.Linear(latent_dim, h_dim))\n",
    "            layers.append(nn.ReLU())\n",
    "            latent_dim = h_dim\n",
    "        layers.append(nn.Linear(hidden_dims[-1], output_dim))\n",
    "        #layers.append(nn.Sigmoid())\n",
    "        return nn.Sequential(*layers)\n",
    "\n",
    "    def encode(self, x):\n",
    "        h = self.encoder(x)\n",
    "        mu = self.fc_mu(h)\n",
    "        logvar = self.fc_logvar(h)\n",
    "        return mu, logvar\n",
    "    \n",
    "    def reparameterize(self, mu, logvar):\n",
    "        std = torch.exp(0.5 * logvar)\n",
    "        if self.training:\n",
    "            eps = torch.randn_like(std)\n",
    "        else:\n",
    "            eps = torch.zeros_like(std)\n",
    "        return mu + eps * std\n",
    "    \n",
    "    def mask_KINDA_WORKING_MULTI(self, z):\n",
    "        levels = self.levels\n",
    "        mask = (z[:, :2**(levels+1)-1] > self.thresholds).float()\n",
    "        for level in range(1, levels+1):\n",
    "            for i in range(2 ** level - 1, 2 ** (level + 1) - 1):\n",
    "\n",
    "                parent_index = i // 2\n",
    "                if i % 2 == 0:  # For even indices, mask if parent (i//2 - 1) is masked\n",
    "                    mask[:, i] *= mask[:, parent_index - 1]\n",
    "                else:  # For odd indices, mask if parent (i//2) is masked\n",
    "                    mask[:, i] *= mask[:, parent_index]\n",
    "    \n",
    "        return torch.cat([mask * (z[:,:2**(levels+1)-1]), z[:,2**(levels+1)-1:]], axis=1) # \n",
    "\n",
    "    def mask(self, z):\n",
    "        #WORKING_BINARY\n",
    "        levels = self.levels\n",
    "        mask = (z[:, :2**(levels+1)-1] > self.thresholds).float()\n",
    "        for level in range(1, levels+1):\n",
    "            nonzero = torch.zeros(z.shape[0]).to(device)\n",
    "            for i in range(2 ** level - 1, 2 ** (level + 1) - 1):\n",
    "                if (nonzero > 0).any():\n",
    "                    mask[nonzero > 0, i] = 0\n",
    "    \n",
    "                parent_index = i // 2\n",
    "                if i % 2 == 0:  # For even indices, mask if parent (i//2 - 1) is masked\n",
    "                    mask[nonzero == 0, i] *= mask[nonzero == 0, parent_index - 1]\n",
    "                else:  # For odd indices, mask if parent (i//2) is masked\n",
    "                    mask[nonzero == 0, i] *= mask[nonzero == 0, parent_index]\n",
    "    \n",
    "                nonzero += mask[:, i]\n",
    "    \n",
    "            if (nonzero == 0).any():\n",
    "                # Calculate differences between node values and thresholds\n",
    "                differences = torch.abs(z[nonzero == 0, 2 ** level - 1:2 ** (level + 1) - 1] - self.thresholds[2 ** level - 1:2 ** (level + 1) - 1])\n",
    "                # Find the index of the node with the smallest difference for each record\n",
    "                min_difference_indices = torch.argmin(differences, dim=1)\n",
    "                # Activate the node with the smallest difference for each record\n",
    "                mask[nonzero == 0, 2 ** level - 1 + min_difference_indices] = 1\n",
    "        \n",
    "        # we want the first element be always active, after it decides on the child node. This ensures fixed representation length\n",
    "        mask[:,0] = 1.0\n",
    "        \n",
    "        return torch.cat([mask * (z[:,:2**(levels+1)-1]), z[:,2**(levels+1)-1:]], axis=1) # \n",
    "\n",
    "  \n",
    "    def decode(self, z):\n",
    "        return self.decoder(z)\n",
    "\n",
    "    def forward(self, x, perturbs = []):\n",
    "        mu, logvar = self.encode(x.to(device))\n",
    "        z = self.reparameterize(mu, logvar)\n",
    "        z_p = z.clone()\n",
    "\n",
    "        z[:,:(2**(self.levels+1))-1] *= 0\n",
    "        z_p = self.mask(z_p)  # Apply the mask before decoding\n",
    "\n",
    "        class_output = self.relu(self.fc_class(z_p[:,:2**(self.levels+1)-1]))\n",
    "\n",
    "        pert_x = self.decode(z_p)\n",
    "        recon_x = self.decode(z)\n",
    "        \n",
    "        return pert_x, recon_x, mu, logvar, class_output\n",
    "\n",
    "def vae_loss(pert_x, y, recon_x, x, mu, logvar, class_output, class_labels, levels):\n",
    "    tree_KLD_opt = False\n",
    "    x = x.to(device)\n",
    "    recon_loss = nn.functional.mse_loss(recon_x[:,:TOP_N_GENES], x[:,:TOP_N_GENES], reduction='sum')\n",
    "    pert_loss = nn.functional.mse_loss(pert_x[:,:TOP_N_GENES], y[:,:TOP_N_GENES], reduction='sum')\n",
    "    class_loss = nn.functional.mse_loss(class_output, x[:,-128:]) #binary_cross_entropy_with_logits\n",
    "    if not tree_KLD_opt:\n",
    "        kl_loss = -0.5 * torch.sum(1 + logvar[:,(2**(levels+1))-1:] - mu[:,(2**(levels+1))-1:].pow(2) - logvar[:,(2**(levels+1))-1:].exp())\n",
    "    else:\n",
    "        kl_loss = -0.5 * torch.sum(1 + logvar - mu.pow(2) - logvar.exp())\n",
    "    return recon_loss, pert_loss, kl_loss, class_loss*1e7\n",
    "\n",
    "def train_vae(model, train_loader, val_loader, epochs, learning_rate=1e-3, step_size=5, gamma=0.1, patience=7):\n",
    "    optimizer = optim.Adam(model.parameters(), lr=learning_rate)\n",
    "    scheduler = torch.optim.lr_scheduler.StepLR(optimizer, step_size=step_size, gamma=gamma)\n",
    "    model.train()\n",
    "    \n",
    "    best_loss = 1e6\n",
    "    \n",
    "    train_losses = []\n",
    "    val_losses = []\n",
    "    no_improve_epochs = 0\n",
    "    for epoch in range(epochs):\n",
    "        total_train_recon_loss = 0\n",
    "        total_train_pert_loss = 0\n",
    "        total_train_kl_loss = 0\n",
    "        total_train_class_loss = 0\n",
    "        for batch_ctrl, batch_pert, pert_labels in train_loader:\n",
    "            optimizer.zero_grad()\n",
    "            batch_ctrl = batch_ctrl.to(device)\n",
    "            batch_pert = batch_pert.to(device)\n",
    "            class_labels = pert_labels.to(device)\n",
    "                        \n",
    "            pert_x, recon_x, mu, logvar, class_output = model(batch_ctrl, pert_labels)\n",
    "            \n",
    "            z = model.reparameterize(mu, logvar)\n",
    "            recon_loss, pert_loss, kl_loss, class_loss = vae_loss(pert_x, batch_pert, recon_x, batch_ctrl, mu, logvar, class_output, class_labels, levels=model.levels)\n",
    "            loss =  class_loss # recon_loss + pert_loss + kl_loss +\n",
    "            loss.backward()\n",
    "            optimizer.step()\n",
    "            total_train_recon_loss += recon_loss.item()\n",
    "            total_train_pert_loss += pert_loss.item()\n",
    "            total_train_kl_loss += kl_loss.item()\n",
    "            total_train_class_loss += class_loss.item()\n",
    "        scheduler.step()\n",
    "        print(f\"----Current LR is {scheduler.get_lr()}----\")\n",
    "        \n",
    "        avg_train_recon_loss = total_train_recon_loss / len(train_loader.dataset)\n",
    "        avg_train_pert_loss = total_train_pert_loss / len(train_loader.dataset)\n",
    "        avg_train_kl_loss = total_train_kl_loss / len(train_loader.dataset)\n",
    "        avg_train_class_loss = total_train_class_loss / len(train_loader.dataset)\n",
    "        train_losses.append((avg_train_recon_loss, avg_train_pert_loss, avg_train_kl_loss, avg_train_class_loss))\n",
    "        \n",
    "        model.eval()\n",
    "        total_val_recon_loss = 0\n",
    "        total_val_pert_loss = 0\n",
    "        total_val_kl_loss = 0\n",
    "        total_val_class_loss = 0\n",
    "        with torch.no_grad():\n",
    "            for batch_ctrl, batch_pert, pert_labels in val_loader:\n",
    "\n",
    "                batch_ctrl = batch_ctrl.to(device)\n",
    "                batch_pert = batch_pert.to(device)\n",
    "                class_labels = pert_labels.to(device)\n",
    "                \n",
    "                pert_x, recon_x, mu, logvar, class_output = model(batch_ctrl, pert_labels)\n",
    "                z = model.reparameterize(mu, logvar)\n",
    "                recon_loss, pert_loss, kl_loss, class_loss = vae_loss(pert_x, batch_pert, recon_x, batch_ctrl, mu, logvar, class_output, class_labels, levels=model.levels)\n",
    "                total_val_recon_loss += recon_loss.item()\n",
    "                total_val_pert_loss += pert_loss.item()\n",
    "                total_val_kl_loss += kl_loss.item()\n",
    "                total_val_class_loss += class_loss.item()\n",
    "        \n",
    "        avg_val_recon_loss = total_val_recon_loss / len(val_loader.dataset)\n",
    "        avg_val_pert_loss = total_val_pert_loss / len(val_loader.dataset)\n",
    "        avg_val_kl_loss = total_val_kl_loss / len(val_loader.dataset)\n",
    "        avg_val_class_loss = total_val_class_loss / len(val_loader.dataset)\n",
    "        val_losses.append((avg_val_recon_loss, avg_val_pert_loss, avg_val_kl_loss,avg_val_class_loss))\n",
    "        \n",
    "        current_loss = avg_val_recon_loss + avg_val_pert_loss + avg_val_kl_loss + avg_val_class_loss\n",
    "        if current_loss < best_loss:\n",
    "            best_loss = current_loss\n",
    "            no_improve_epochs = 0\n",
    "        else:\n",
    "            no_improve_epochs += 1\n",
    "            if no_improve_epochs >= patience:\n",
    "                print(f'Early stopping at epoch {epoch+1}')\n",
    "                break\n",
    "        \n",
    "        model.train()\n",
    "\n",
    "        # Plotting the losses\n",
    "        clear_output(wait=True)\n",
    "        fig, ax = plt.subplots(4, 1, sharex=True, sharey=False, figsize=(10, 7))\n",
    "        \n",
    "        # Calculate minimum loss values\n",
    "        min_train_recon_loss = min([x[0] for x in train_losses])\n",
    "        min_train_pert_loss = min([x[1] for x in train_losses])\n",
    "        min_train_kl_loss = min([x[2] for x in train_losses])\n",
    "        min_train_class_loss = min([x[3] for x in train_losses])\n",
    "        \n",
    "        min_val_recon_loss = min([x[0] for x in val_losses])\n",
    "        min_val_pert_loss = min([x[1] for x in val_losses])\n",
    "        min_val_kl_loss = min([x[2] for x in val_losses])\n",
    "        min_val_class_loss = min([x[3] for x in val_losses])\n",
    "        \n",
    "        # Plot training losses\n",
    "        ax[0].plot([x[0] for x in train_losses], label='Train Recon Loss')\n",
    "        ax[0].set_title(f'Min Train Recon Loss: {min_train_recon_loss:.2E}')\n",
    "        ax[1].plot([x[1] for x in train_losses], label='Train Pert Loss')\n",
    "        ax[1].set_title(f'Min Train Pert Loss: {min_train_pert_loss:.2E}')\n",
    "        ax[2].plot([x[2] for x in train_losses], label='Train KL Loss')\n",
    "        ax[2].set_title(f'Min Train KL Loss: {min_train_kl_loss:.2E}')\n",
    "        ax[3].plot([x[3] for x in train_losses], label='Train Class Loss')\n",
    "        ax[3].set_title(f'Min Train Class Loss: {min_train_class_loss:.2E}')\n",
    "        \n",
    "        # Plot validation losses\n",
    "        ax[0].plot([x[0] for x in val_losses], label=f'Val Recon Loss; Best: {np.argmin([x[0] for x in val_losses])}')\n",
    "        ax[0].set_title(f'Min Val Recon Loss: {min_val_recon_loss:.2E}')\n",
    "        ax[1].plot([x[1] for x in val_losses], label=f'Val Pert Loss; Best: {np.argmin([x[1] for x in val_losses])}')\n",
    "        ax[1].set_title(f'Min Val Pert Loss: {min_val_pert_loss:.2E}')\n",
    "        ax[2].plot([x[2] for x in val_losses], label=f'Val KL Loss; Best: {np.argmin([x[2] for x in val_losses])}')\n",
    "        ax[2].set_title(f'Min Val KL Loss: {min_val_kl_loss:.2E}')\n",
    "        ax[3].plot([x[3] for x in val_losses], label=f'Val Class Loss; Best: {np.argmin([x[3] for x in val_losses])}')\n",
    "        ax[3].set_title(f'Min Val Class Loss: {min_val_class_loss:.2E}')        \n",
    "        # Add legends\n",
    "        ax[0].legend()\n",
    "        ax[1].legend()\n",
    "        ax[2].legend()\n",
    "        plt.show()\n"
   ]
  },
  {
   "cell_type": "code",
   "execution_count": 195,
   "id": "bad5bb30-7f05-4874-b37a-d1f0dbfdb9c4",
   "metadata": {},
   "outputs": [],
   "source": [
    "class CustomDataset(Dataset):\n",
    "    def __init__(self, X, Y, labels):\n",
    "        self.X = torch.tensor(X, dtype=torch.float32)\n",
    "        self.Y = torch.tensor(Y, dtype=torch.float32)\n",
    "        self.labels = labels\n",
    "    \n",
    "    def __len__(self):\n",
    "        return len(self.X)\n",
    "    \n",
    "    def __getitem__(self, idx):\n",
    "        return self.X[idx], self.Y[idx], self.labels[idx]"
   ]
  },
  {
   "cell_type": "code",
   "execution_count": 196,
   "id": "5973f19e-e4d9-4481-ba6a-d6a19885b83d",
   "metadata": {},
   "outputs": [],
   "source": [
    "train_dataset = CustomDataset(X_train_r[:,:], Y_train_r[:,:], labels_trainv)\n",
    "val_dataset = CustomDataset(X_val_r[:,:], Y_val_r[:,:], labels_valv)\n",
    "test_dataset = CustomDataset(X_test_r[:,:], Y_test_r[:,:], labels_testv)\n",
    "\n",
    "train_loader = DataLoader(train_dataset, batch_size=4096, shuffle=True)\n",
    "val_loader = DataLoader(val_dataset, batch_size=4096, shuffle=False)\n",
    "test_loader = DataLoader(test_dataset, batch_size=4096, shuffle=False)\n",
    "\n",
    "input_dim = X_train_r.shape[1]\n",
    "latent_dim = 600\n",
    "hidden_dims = [4092,2048]\n",
    "epochs = 80\n",
    "learning_rate = 7e-4"
   ]
  },
  {
   "cell_type": "code",
   "execution_count": 197,
   "id": "0f506ead-724d-493f-a202-2ddbab292997",
   "metadata": {},
   "outputs": [],
   "source": [
    "vae = VAE(input_dim, latent_dim, hidden_dims, levels=7, num_classes=128).to(device)"
   ]
  },
  {
   "cell_type": "code",
   "execution_count": 198,
   "id": "2bc092fa-2a6b-42f2-96da-859651b09cac",
   "metadata": {},
   "outputs": [
    {
     "data": {
      "image/png": "[encoded data removed]",
      "text/plain": [
       "<Figure size 1000x700 with 4 Axes>"
      ]
     },
     "metadata": {},
     "output_type": "display_data"
    },
    {
     "name": "stdout",
     "output_type": "stream",
     "text": [
      "----Current LR is [0.00016013754718472708]----\n",
      "Early stopping at epoch 74\n"
     ]
    }
   ],
   "source": [
    "train_vae(vae, train_loader, val_loader, epochs, learning_rate, gamma=0.9, patience=15)"
   ]
  },
  {
   "cell_type": "code",
   "execution_count": 192,
   "id": "9bf74b46-189f-4460-bbc4-9c6f18715f58",
   "metadata": {},
   "outputs": [],
   "source": [
    "n_dims_g = 2**(vae.levels+1)-1"
   ]
  },
  {
   "cell_type": "markdown",
   "id": "6f50c842-a9ed-4817-b6c3-d4e46bd557cb",
   "metadata": {},
   "source": [
    "#### Checking the distances between the 2-gene perturbations and its components"
   ]
  },
  {
   "cell_type": "code",
   "execution_count": 199,
   "id": "ea80177c-6d46-4bf4-a69c-94fbe7ec6e5d",
   "metadata": {},
   "outputs": [
    {
     "name": "stdout",
     "output_type": "stream",
     "text": [
      "9_10 -> 9_10 \t 8.00\n",
      "9_10 -> 0_9 \t 3.23\n",
      "9_10 -> 0_10 \t 8.00\n",
      "0_9 -> 0_9 \t 4.49\n",
      "0_9 -> 0_10 \t 3.23\n",
      "0_10 -> 0_10 \t 8.00\n"
     ]
    }
   ],
   "source": [
    "# distances between 2-gene pert and its components\n",
    "latent_rep = []\n",
    "pert_labels_all = []\n",
    "with torch.no_grad():\n",
    "    for batch_ctrl, batch_pert, pert_labels in val_loader:\n",
    "        pert_x, recon_x, mu, logvar, _ = vae(batch_ctrl, pert_labels)\n",
    "        z = vae.reparameterize(mu, logvar)\n",
    "        masked_z = vae.mask(z)[:,:n_dims_g].cpu().numpy()\n",
    "        latent_rep.append(masked_z)\n",
    "        pert_labels_all.append(pert_labels.cpu().numpy())\n",
    "\n",
    "masked_z = np.vstack(latent_rep)\n",
    "pert_labels_all = np.vstack(pert_labels_all)\n",
    "        \n",
    "pert_labels_s = np.core.defchararray.add(pert_labels_all[:,0].astype(str), '_')\n",
    "pert_labels_s = np.char.add(pert_labels_s, pert_labels_all[:,1].astype(str))\n",
    "\n",
    "all_perts = np.array(['9_10','0_9','0_10'])\n",
    "\n",
    "for pert in range(all_perts.shape[0]):\n",
    "    for pert2 in range(pert, all_perts.shape[0]):\n",
    "        temp = masked_z[pert_labels_s==all_perts[pert]]\n",
    "        temp_rest = masked_z[pert_labels_s==all_perts[pert2]]\n",
    "        distance_mtx = np.zeros(shape=(temp.shape[0],temp_rest.shape[0]))\n",
    "        for i in range(temp.shape[0]):\n",
    "            for j in range(temp_rest.shape[0]):\n",
    "                \n",
    "                inds1 = np.arange(temp.shape[1])[(temp[i]!=0)]\n",
    "                inds2 = np.arange(temp_rest.shape[1])[(temp_rest[j]!=0)]\n",
    "                distance_mtx[i,j] = len(set(inds1.tolist()).intersection(set(inds2.tolist())))\n",
    "                \n",
    "        print(f\"{all_perts[pert]} -> {all_perts[pert2]} \\t {distance_mtx.mean():1.2f}\")"
   ]
  },
  {
   "cell_type": "markdown",
   "id": "ae1f38cb-6328-43fa-b31b-336540fe2dce",
   "metadata": {},
   "source": [
    "#### The following analysis is done on a signle batch"
   ]
  },
  {
   "cell_type": "code",
   "execution_count": 200,
   "id": "b18677c4-a7c0-4a0d-a79c-cea17f42aba0",
   "metadata": {},
   "outputs": [],
   "source": [
    "# For testing, you run the model in evaluation mode\n",
    "vae.eval()\n",
    "with torch.no_grad():\n",
    "    for batch_ctrl, batch_pert, pert_labels in val_loader:\n",
    "        pert_x, recon_x, mu, logvar, _ = vae(batch_ctrl, pert_labels)\n",
    "        z = vae.reparameterize(mu, logvar)\n",
    "        masked_z = vae.mask(z)[:,:n_dims_g].cpu().numpy()\n",
    "        break"
   ]
  },
  {
   "cell_type": "code",
   "execution_count": 150,
   "id": "f3cc292a-f5c8-4b56-9a94-763661fcd023",
   "metadata": {
    "scrolled": true
   },
   "outputs": [
    {
     "name": "stdout",
     "output_type": "stream",
     "text": [
      "Distances between the target cluster and the rest of the dataset\n",
      "0_0 \t 3.67\n"
     ]
    }
   ],
   "source": [
    "# distances between the target cluster and the rest of the dataset\n",
    "print(\"Distances between the target cluster and the rest of the dataset\")\n",
    "\n",
    "pert_labels_s = np.core.defchararray.add(pert_labels[:,0].cpu().numpy().astype(str), '_')\n",
    "pert_labels_s = np.char.add(pert_labels_s, pert_labels[:,1].cpu().numpy().astype(str))\n",
    "\n",
    "all_perts = np.unique(pert_labels_s)\n",
    "\n",
    "for pert in range(all_perts.shape[0]):\n",
    "    temp = masked_z[pert_labels_s==all_perts[pert]]\n",
    "    temp_rest = masked_z[pert_labels_s!=all_perts[pert]]\n",
    "    distance_mtx = np.zeros(shape=(temp.shape[0],temp_rest.shape[0]))\n",
    "    for i in range(temp.shape[0]):\n",
    "        for j in range(temp_rest.shape[0]):\n",
    "            \n",
    "            inds1 = np.arange(temp.shape[1])[(temp[i]!=0)]\n",
    "            inds2 = np.arange(temp_rest.shape[1])[(temp_rest[j]!=0)]\n",
    "            distance_mtx[i,j] = len(set(inds1.tolist()).intersection(set(inds2.tolist())))\n",
    "            \n",
    "    print(f\"{all_perts[pert]} \\t {distance_mtx.mean():1.2f}\")\n",
    "    break"
   ]
  },
  {
   "cell_type": "markdown",
   "id": "a108001b-c2f7-4e4a-bb65-caa653a09678",
   "metadata": {},
   "source": [
    "#### Let's see how diverse is the no-perturbation latent representation"
   ]
  },
  {
   "cell_type": "code",
   "execution_count": 201,
   "id": "44de6c62-bdbc-4834-915c-5039381612ab",
   "metadata": {
    "scrolled": true
   },
   "outputs": [
    {
     "name": "stdout",
     "output_type": "stream",
     "text": [
      "Number of unique paths:  11\n"
     ]
    }
   ],
   "source": [
    "pert_labels_s = np.core.defchararray.add(pert_labels[:,0].cpu().numpy().astype(str), '_')\n",
    "pert_labels_s = np.char.add(pert_labels_s, pert_labels[:,1].cpu().numpy().astype(str))\n",
    "\n",
    "nopert = masked_z[pert_labels_s=='0_0']\n",
    "nopert[nopert!=0] = 1\n",
    "nopert_s = []\n",
    "for i in range(nopert.shape[0]):\n",
    "    nopert_s.append(np.arange(n_dims_g)[(nopert!=0)[i,:]])\n",
    "print('Number of unique paths: ', np.unique(nopert, axis=0).shape[0])\n",
    "nopert_s = [str(i) for i in nopert_s]\n",
    "#Counter(nopert_s)"
   ]
  },
  {
   "cell_type": "code",
   "execution_count": 152,
   "id": "124a8af0-b51e-4c81-afb5-586661b50ad6",
   "metadata": {
    "scrolled": true
   },
   "outputs": [
    {
     "name": "stdout",
     "output_type": "stream",
     "text": [
      "Distances within the target cluster\n",
      "Mean distance within cluster \t Mean distance to no-perturb\n",
      "0_0: \t6.49\t\t\t 0.00\n"
     ]
    }
   ],
   "source": [
    "print(\"Distances within the target cluster\")\n",
    "\n",
    "pert_labels_s = np.core.defchararray.add(pert_labels[:,0].cpu().numpy().astype(str), '_')\n",
    "pert_labels_s = np.char.add(pert_labels_s, pert_labels[:,1].cpu().numpy().astype(str))\n",
    "\n",
    "all_perts = np.unique(pert_labels_s)\n",
    "print(f\"Mean distance within cluster \\t Mean distance to no-perturb\")\n",
    "for pert in range(all_perts.shape[0]):\n",
    "    temp = masked_z[pert_labels_s==all_perts[pert]]\n",
    "    temp[temp!=0] = 1\n",
    "    distance_mtx = np.zeros(shape=(temp.shape[0],temp.shape[0]))\n",
    "    counter = 0\n",
    "    pos_counter = 0\n",
    "    for i in range(temp.shape[0]):\n",
    "        for j in range(temp.shape[0]):\n",
    "            \n",
    "            inds1 = np.arange(temp.shape[1])[(temp[i]!=0)]#[i,-temp.shape[1]:]]\n",
    "            inds2 = np.arange(temp.shape[1])[(temp[j]!=0)]#[j,-temp.shape[1]:]]\n",
    "            if (inds1[:5] == np.array([0,1,3,7,15])).all():\n",
    "                pos_counter+=1\n",
    "            counter+=1\n",
    "            distance_mtx[i,j] = len(set(inds1.tolist()).intersection(set(inds2.tolist())))\n",
    "    \n",
    "    print(f\"{all_perts[pert]}: \\t{distance_mtx.mean():1.2f}\\t\\t\\t {pos_counter/counter:1.2f}\")\n",
    "    counter = 0\n",
    "    pos_counter=0\n",
    "    break"
   ]
  },
  {
   "cell_type": "code",
   "execution_count": 202,
   "id": "1c5d83e8-e632-41d8-b4a9-84a4fbc41411",
   "metadata": {},
   "outputs": [
    {
     "name": "stdout",
     "output_type": "stream",
     "text": [
      "Building a similarity matrix for the first 512 data points\n"
     ]
    },
    {
     "name": "stderr",
     "output_type": "stream",
     "text": [
      "100%|██████████| 512/512 [00:00<00:00, 529.92it/s]\n"
     ]
    }
   ],
   "source": [
    "print('Building a similarity matrix for the first 512 data points')\n",
    "n_dims = n_dims_g\n",
    "paths = []\n",
    "distance_mtx = np.zeros((512, 512))\n",
    "for i in tqdm(range(512)):\n",
    "    for j in range(i, 512):\n",
    "        inds1 = np.arange(n_dims)[(masked_z[i, -n_dims:]!=0)]\n",
    "        inds2 = np.arange(n_dims)[(masked_z[j, -n_dims:]!=0)]\n",
    "        \n",
    "        # for level in range(vae.levels+1):\n",
    "        #     inds1t = inds1[(inds1>2**min(level-1,0)) & (inds1<2**level)]\n",
    "        #     inds2t = inds2[(inds2>2**min(level-1,0)) & (inds2<2**level)]\n",
    "        #     distance_mtx[i, j] += 2*level * len(set(inds1t.tolist()).intersection(set(inds2t.tolist())))#/(min(len(inds1),len(inds2))+1)\n",
    "        distance_mtx[i, j] = len(set(inds1.tolist()).intersection(set(inds2.tolist())))#/(min(len(inds1),len(inds2))+1)\n",
    "for i in range(512):\n",
    "    for j in range(i, 512):\n",
    "        distance_mtx[j, i] = distance_mtx[i, j]"
   ]
  },
  {
   "cell_type": "code",
   "execution_count": 203,
   "id": "2eb88596-8b2d-43d4-891f-91f5b9db32a6",
   "metadata": {},
   "outputs": [
    {
     "name": "stdout",
     "output_type": "stream",
     "text": [
      "Measure similarity within the first and second perturbation, then between them\n"
     ]
    },
    {
     "data": {
      "text/plain": [
       "(5.375, 4.462809917355372, 4.2727272727272725)"
      ]
     },
     "execution_count": 203,
     "metadata": {},
     "output_type": "execute_result"
    }
   ],
   "source": [
    "print('Measure similarity within the first and second perturbation, then between them')\n",
    "distance_mtx[11:39,11:39].mean(), distance_mtx[:11,:11].mean(), distance_mtx[11:39,:11].mean()"
   ]
  },
  {
   "cell_type": "code",
   "execution_count": 204,
   "id": "da180e26-1013-41e0-b917-531a69ac03b4",
   "metadata": {},
   "outputs": [
    {
     "data": {
      "text/plain": [
       "3.4038543701171875"
      ]
     },
     "execution_count": 204,
     "metadata": {},
     "output_type": "execute_result"
    }
   ],
   "source": [
    "distance_mtx.mean()"
   ]
  },
  {
   "cell_type": "code",
   "execution_count": 205,
   "id": "93b03458-fb23-42e8-9c15-a6d42ca26678",
   "metadata": {},
   "outputs": [
    {
     "data": {
      "text/plain": [
       "<Axes: >"
      ]
     },
     "execution_count": 205,
     "metadata": {},
     "output_type": "execute_result"
    },
    {
     "data": {
      "image/png": "[encoded data removed]",
      "text/plain": [
       "<Figure size 640x480 with 2 Axes>"
      ]
     },
     "metadata": {},
     "output_type": "display_data"
    }
   ],
   "source": [
    "import seaborn as sns\n",
    "sns.heatmap(distance_mtx)"
   ]
  },
  {
   "cell_type": "code",
   "execution_count": 206,
   "id": "9347618f-4521-4498-a3c6-1eb10730785d",
   "metadata": {},
   "outputs": [
    {
     "data": {
      "text/plain": [
       "Text(0.5, 1.0, 'Distribution of the similarities (tree representation)')"
      ]
     },
     "execution_count": 206,
     "metadata": {},
     "output_type": "execute_result"
    },
    {
     "data": {
      "image/png": "[encoded data removed]",
      "text/plain": [
       "<Figure size 640x480 with 1 Axes>"
      ]
     },
     "metadata": {},
     "output_type": "display_data"
    }
   ],
   "source": [
    "plt.hist(distance_mtx.ravel(),bins=50, log=True)\n",
    "plt.xlabel('Similarity')\n",
    "plt.ylabel('N data points')\n",
    "plt.title('Distribution of the similarities (tree representation)')"
   ]
  },
  {
   "cell_type": "markdown",
   "id": "704c2f06-96bd-4514-8707-96cda001216f",
   "metadata": {
    "jp-MarkdownHeadingCollapsed": true
   },
   "source": [
    "### Let's get a UMAP of this and see whether clusters resemble the perturbations"
   ]
  },
  {
   "cell_type": "code",
   "execution_count": 212,
   "id": "b90d2369-5612-4e9c-9d22-f32d1329c818",
   "metadata": {},
   "outputs": [],
   "source": [
    "# For testing, you can run the model in evaluation mode\n",
    "vae.eval()\n",
    "masked_z = []\n",
    "first_all = []\n",
    "second_all = []\n",
    "with torch.no_grad():\n",
    "    for batch_ctrl, batch_pert, pert_labels in val_loader:\n",
    "        pert_x, recon_x, mu, logvar, _ = vae(batch_ctrl, pert_labels)\n",
    "        z = vae.reparameterize(mu, logvar)\n",
    "        t_masked_z = vae.mask(z)[:,:n_dims_g].cpu().numpy()\n",
    "        masked_z.append(t_masked_z)\n",
    "        first_all.extend(pert_labels[:,0].cpu().numpy()) \n",
    "        second_all.extend(pert_labels[:,1].cpu().numpy()) "
   ]
  },
  {
   "cell_type": "code",
   "execution_count": 213,
   "id": "13cf9016-80eb-4635-bea8-8f97c3645ee5",
   "metadata": {},
   "outputs": [],
   "source": [
    "z = np.vstack(masked_z)"
   ]
  },
  {
   "cell_type": "code",
   "execution_count": 214,
   "id": "4bf2db24-e19d-47b1-ae88-34a0626f1ebe",
   "metadata": {},
   "outputs": [],
   "source": [
    "first = first_all\n",
    "second = second_all\n",
    "colors = []\n",
    "for i in range(len(first)):\n",
    "    colors.append(str(int(first[i]))+'_'+str(int(second[i])))\n",
    "\n",
    "unique_colors = np.unique(colors)\n",
    "color_map = {color: i for i, color in enumerate(unique_colors)}\n",
    "\n",
    "# Convert colors to numeric values\n",
    "numeric_colors = np.array([color_map[color] for color in colors])"
   ]
  },
  {
   "cell_type": "code",
   "execution_count": 215,
   "id": "e3671ec1-9f1c-4799-9e4e-629803076cad",
   "metadata": {},
   "outputs": [],
   "source": [
    "import umap.umap_ as umap\n",
    "\n",
    "# Apply UMAP\n",
    "reducer = umap.UMAP(n_components=2,)\n",
    "embedding = reducer.fit_transform(z[:,:])"
   ]
  },
  {
   "cell_type": "code",
   "execution_count": 216,
   "id": "89173939-f98b-47ad-9b09-1a092510aae2",
   "metadata": {},
   "outputs": [
    {
     "data": {
      "image/png": "[encoded data removed]",
      "text/plain": [
       "<Figure size 800x600 with 2 Axes>"
      ]
     },
     "metadata": {},
     "output_type": "display_data"
    }
   ],
   "source": [
    "# Create a scatter plot\n",
    "plt.figure(figsize=(8, 6))\n",
    "plt.scatter(embedding[:, 0], embedding[:, 1], c=numeric_colors, cmap='tab20', s=10,alpha=0.99)\n",
    "plt.title(\"UMAP Embedding\")\n",
    "plt.xlabel(\"UMAP Dimension 1\")\n",
    "plt.ylabel(\"UMAP Dimension 2\")\n",
    "plt.colorbar(label=\"Color\")\n",
    "plt.show()"
   ]
  },
  {
   "cell_type": "markdown",
   "id": "1de0128f-1fa0-4d45-a614-82320776e939",
   "metadata": {
    "jp-MarkdownHeadingCollapsed": true
   },
   "source": [
    "### Let's explore unique records and gene-characteristic splits"
   ]
  },
  {
   "cell_type": "code",
   "execution_count": 88,
   "id": "2ea961d4-c770-44e5-8f8c-7e5a71a54e6d",
   "metadata": {},
   "outputs": [],
   "source": [
    "# For testing, you can run the model in evaluation mode\n",
    "vae.eval()\n",
    "masked_z = []\n",
    "first_all = []\n",
    "second_all = []\n",
    "inputs = []\n",
    "with torch.no_grad():\n",
    "    for batch_ctrl, batch_pert, pert_labels in test_loader:\n",
    "        pert_x, recon_x, mu, logvar, _ = vae(batch_ctrl, pert_labels)\n",
    "        z = vae.reparameterize(mu, logvar)\n",
    "        t_masked_z = vae.mask(z)[:,:n_dims_g].cpu().numpy()\n",
    "        masked_z.append(t_masked_z)\n",
    "        first_all.extend(pert_labels[:,0].cpu().numpy()) \n",
    "        second_all.extend(pert_labels[:,1].cpu().numpy()) \n",
    "        inputs.extend(batch_ctrl.cpu().numpy()) \n",
    "        \n",
    "first = first_all\n",
    "second = second_all\n",
    "colors = []\n",
    "for i in range(len(first)):\n",
    "    colors.append(str(int(first[i]))+'_'+str(int(second[i])))\n",
    "colors = np.array(colors)\n",
    "masked_z = np.vstack(masked_z)\n",
    "inputs = np.vstack(inputs)"
   ]
  },
  {
   "cell_type": "code",
   "execution_count": 40,
   "id": "17c130ba-fdf5-4501-a60b-fa06c73132e3",
   "metadata": {},
   "outputs": [],
   "source": [
    "masked_z[masked_z!=0] = 1"
   ]
  },
  {
   "cell_type": "code",
   "execution_count": 41,
   "id": "2a76314d-db42-494d-9d15-59337b71c66a",
   "metadata": {},
   "outputs": [
    {
     "data": {
      "text/plain": [
       "(1105, 255)"
      ]
     },
     "execution_count": 41,
     "metadata": {},
     "output_type": "execute_result"
    }
   ],
   "source": [
    "np.unique(masked_z,axis=0).shape"
   ]
  },
  {
   "cell_type": "code",
   "execution_count": 409,
   "id": "1f50cf5c-2d73-406a-a244-733a989cb5e2",
   "metadata": {
    "scrolled": true
   },
   "outputs": [
    {
     "name": "stdout",
     "output_type": "stream",
     "text": [
      "0_91 []\n",
      "18_19 [(191, 0.7680275)]\n",
      "0_32 []\n",
      "0_11 []\n",
      "20_35 [(192, 0.9002168), (386, 0.8975785)]\n",
      "70_81 [(191, 0.77682376)]\n",
      "2_74 []\n",
      "0_33 []\n",
      "0_58 []\n",
      "13_61 [(192, 0.9419934), (386, 0.9393551)]\n",
      "0_3 []\n",
      "0_66 []\n",
      "0_70 []\n",
      "0_53 []\n",
      "0_34 []\n",
      "0_27 []\n",
      "24_35 [(192, 0.85983276), (386, 0.85719323)]\n",
      "26_64 []\n",
      "12_31 [(6, 0.8677616), (13, 0.91326815), (27, 0.9114966), (56, 0.8756704), (113, 0.8663536), (227, 0.8676453)]\n",
      "2_3 []\n",
      "2_56 [(191, 0.82407105), (383, 0.85253656)]\n",
      "18_80 []\n",
      "18_71 [(191, 0.8101214)]\n",
      "42_87 []\n",
      "0_92 []\n",
      "0_105 []\n",
      "41_65 [(56, 0.7636678), (113, 0.7656858), (227, 0.76697)]\n",
      "0_23 []\n",
      "0_38 []\n",
      "0_44 []\n",
      "4_14 [(191, 0.82259244), (383, 0.851007)]\n",
      "3_15 [(12, 0.8604863), (25, 0.8624309), (51, 0.8624309), (103, 0.8624309), (207, 0.8624309), (415, 0.8624309)]\n",
      "51_52 []\n",
      "42_94 [(383, 0.7590909)]\n",
      "9_61 [(6, 0.8610877), (13, 0.9062443), (27, 0.90448636)]\n",
      "0_63 []\n",
      "0_90 []\n",
      "0_7 []\n",
      "4_10 [(191, 0.7851498), (383, 0.81361747)]\n",
      "16_65 []\n",
      "13_35 [(192, 0.8226445), (386, 0.8200074)]\n",
      "98_104 []\n",
      "0_48 []\n",
      "17_94 []\n",
      "11_31 [(6, 0.81753856), (13, 0.86274976), (27, 0.83869416)]\n",
      "19_80 []\n",
      "0_16 []\n",
      "0_94 []\n",
      "0_85 []\n",
      "0_30 []\n",
      "56_79 [(191, 0.82168984), (383, 0.85007316)]\n",
      "26_89 []\n",
      "0_13 []\n",
      "0_96 []\n",
      "0_31 []\n",
      "87_94 []\n",
      "18_45 [(191, 0.8227732), (383, 0.83391595)]\n",
      "0_35 []\n",
      "0_6 []\n",
      "2_9 []\n",
      "0_65 []\n",
      "7_8 [(6, 0.7884862), (13, 0.8336841), (27, 0.83192456), (56, 0.8489334), (113, 0.8509495), (227, 0.8522325)]\n",
      "0_26 []\n",
      "0_78 []\n",
      "58_72 []\n",
      "0_41 []\n",
      "19_45 [(191, 0.82190025), (383, 0.81577146)]\n",
      "17_41 [(6, 0.86190844), (13, 0.907108), (27, 0.9053484), (56, 0.92235786), (113, 0.92437404), (227, 0.9256571)]\n",
      "0_100 []\n",
      "0_84 []\n",
      "0_36 []\n",
      "0_49 []\n",
      "20_37 []\n",
      "45_50 [(191, 0.78301734)]\n",
      "4_5 [(191, 0.8305605), (383, 0.8592502)]\n",
      "27_28 [(12, 0.7561892), (25, 0.7581315), (51, 0.7581315), (103, 0.7581315), (207, 0.7581315), (415, 0.7581315)]\n",
      "17_87 [(13, 0.77667195), (27, 0.7749127), (56, 0.7919184), (113, 0.7809105), (227, 0.78219324)]\n",
      "0_99 []\n",
      "0_50 []\n",
      "0_17 []\n",
      "0_4 []\n",
      "17_70 []\n",
      "25_68 []\n",
      "8_16 [(56, 0.7594517), (113, 0.7614672), (227, 0.7763001)]\n",
      "0_83 []\n",
      "0_62 []\n",
      "4_29 [(191, 0.80827), (383, 0.8368067)]\n",
      "56_58 [(191, 0.8222312), (383, 0.8506332)]\n",
      "2_13 []\n",
      "0_0 []\n",
      "0_93 []\n",
      "0_56 []\n",
      "9_77 [(6, 0.82864916), (13, 0.8739052), (27, 0.88931084)]\n",
      "25_77 [(12, 0.8468459)]\n",
      "7_53 []\n",
      "9_10 [(192, 0.93081236), (386, 0.92817265)]\n",
      "2_36 []\n",
      "16_87 []\n",
      "0_43 []\n",
      "29_67 []\n",
      "0_51 []\n",
      "41_79 [(191, 0.82286364)]\n",
      "17_60 [(6, 0.86184525), (13, 0.90704155), (27, 0.9052821), (56, 0.9222902), (113, 0.9243063), (227, 0.92558926)]\n",
      "16_70 []\n",
      "0_88 []\n",
      "43_102 [(191, 0.8223215)]\n",
      "0_28 []\n",
      "10_24 [(192, 0.8298818), (386, 0.82723767)]\n",
      "65_79 [(191, 0.8217199), (383, 0.8501042)]\n",
      "4_65 [(191, 0.8222011), (383, 0.85060203)]\n",
      "0_81 []\n",
      "17_65 []\n",
      "0_60 []\n",
      "0_9 []\n",
      "69_81 []\n",
      "26_43 []\n",
      "0_12 []\n",
      "0_98 []\n",
      "2_25 []\n",
      "0_95 []\n",
      "0_39 []\n",
      "17_79 []\n",
      "16_41 [(6, 0.8486967), (13, 0.8940643), (27, 0.89229816), (56, 0.9093708), (113, 0.9113945), (227, 0.75400656)]\n",
      "0_72 []\n",
      "0_102 []\n",
      "0_15 []\n",
      "0_97 []\n",
      "45_71 [(191, 0.8217499), (383, 0.8501353)]\n",
      "9_70 [(6, 0.85979664), (13, 0.90488553), (27, 0.90313023)]\n",
      "10_20 [(192, 0.931778), (386, 0.92913777)]\n",
      "2_29 []\n",
      "10_53 [(192, 0.9361501), (386, 0.9334943)]\n",
      "29_48 []\n",
      "4_79 [(191, 0.8219604), (383, 0.85035306)]\n",
      "0_104 []\n",
      "0_59 []\n",
      "0_54 []\n",
      "0_46 []\n",
      "55_56 [(191, 0.82168984), (383, 0.85007316)]\n",
      "2_46 []\n",
      "34_45 []\n",
      "0_67 []\n",
      "4_53 [(191, 0.82271296), (383, 0.8511316)]\n",
      "20_61 [(6, 0.82901347), (13, 0.8741287), (27, 0.8723724)]\n",
      "35_53 [(192, 0.9079187), (386, 0.9052789)]\n",
      "7_60 [(6, 0.85957664), (13, 0.90465397), (27, 0.90289915), (56, 0.9198625), (113, 0.9218733), (227, 0.92315286)]\n",
      "0_73 []\n",
      "0_19 []\n",
      "0_80 []\n",
      "9_35 []\n",
      "3_14 [(191, 0.7515232)]\n",
      "10_64 [(192, 0.7611005), (386, 0.7584611)]\n",
      "3_27 [(12, 0.80939955), (25, 0.8049415), (51, 0.8049415), (103, 0.8049415), (207, 0.8049415), (415, 0.8049415)]\n",
      "0_61 []\n",
      "0_103 []\n",
      "0_2 []\n",
      "15_30 []\n",
      "0_18 []\n",
      "0_40 []\n",
      "0_20 []\n",
      "0_42 []\n",
      "0_14 []\n",
      "16_17 [(6, 0.8496451), (13, 0.894843), (27, 0.89308345), (56, 0.9100923), (113, 0.9121084), (227, 0.8033054)]\n",
      "26_46 []\n",
      "11_12 [(6, 0.8464412), (13, 0.8916143), (27, 0.88985574)]\n",
      "16_60 [(6, 0.7748027), (13, 0.8200537), (27, 0.81829214), (56, 0.8353209), (113, 0.8373394), (227, 0.8386239)]\n",
      "59_98 []\n",
      "15_94 []\n",
      "0_87 []\n",
      "45_84 [(191, 0.8214795), (383, 0.84985554)]\n",
      "0_89 []\n",
      "8_17 [(6, 0.86228776), (13, 0.90750724), (27, 0.9057469), (56, 0.92276376), (113, 0.92478085), (227, 0.9260645)]\n",
      "53_60 []\n",
      "0_10 []\n",
      "0_22 []\n",
      "37_48 []\n",
      "4_56 [(191, 0.8232255), (383, 0.85166186)]\n",
      "51_79 [(191, 0.82271296), (383, 0.8332379)]\n",
      "0_64 []\n",
      "0_24 []\n",
      "10_35 [(192, 0.88258016), (386, 0.87993467)]\n",
      "0_68 []\n",
      "13_20 [(192, 0.9336978), (386, 0.9310562)]\n",
      "9_20 [(6, 0.86152947), (13, 0.9067092), (27, 0.9049504)]\n",
      "0_101 []\n",
      "0_52 []\n",
      "4_58 [(191, 0.82440364), (383, 0.8528807)]\n",
      "0_21 []\n",
      "0_45 []\n",
      "15_27 [(12, 0.83240116), (25, 0.8343496), (51, 0.8343496), (103, 0.8343496), (207, 0.8343496), (415, 0.8343496)]\n",
      "24_27 [(191, 0.7727236)]\n",
      "35_79 [(191, 0.76044995)]\n",
      "0_47 []\n",
      "69_70 []\n",
      "16_37 []\n",
      "59_104 []\n",
      "71_80 []\n",
      "0_25 []\n",
      "0_79 []\n",
      "10_61 [(192, 0.93441087), (386, 0.93176866)]\n",
      "13_87 []\n",
      "0_37 []\n",
      "7_16 [(13, 0.7798124), (27, 0.77805156), (56, 0.79507285), (113, 0.7970905)]\n",
      "3_24 [(191, 0.8078262)]\n",
      "19_71 [(191, 0.8136042), (383, 0.77998984)]\n",
      "0_76 []\n",
      "0_8 []\n",
      "17_37 [(6, 0.83773875), (13, 0.8829383), (27, 0.88117874), (56, 0.8981882), (113, 0.8881195), (227, 0.88940257)]\n",
      "45_80 [(191, 0.76698726), (383, 0.77684873)]\n",
      "0_69 []\n",
      "82_95 []\n",
      "10_13 []\n",
      "0_5 []\n",
      "22_45 []\n",
      "35_61 [(192, 0.9082109), (386, 0.9055685)]\n",
      "75_76 []\n",
      "4_17 [(191, 0.82385945), (383, 0.85231775)]\n",
      "0_75 []\n",
      "0_1 []\n",
      "0_55 []\n",
      "43_50 []\n",
      "11_49 []\n",
      "2_4 [(191, 0.8247366), (383, 0.8532252)]\n",
      "7_9 [(6, 0.8604574), (13, 0.905581), (27, 0.9038243), (56, 0.81255066)]\n",
      "16_53 []\n",
      "0_86 []\n",
      "0_74 []\n",
      "55_79 [(191, 0.82162976), (383, 0.850011)]\n",
      "24_65 [(191, 0.80371803)]\n",
      "0_71 []\n",
      "9_66 [(6, 0.8374133), (13, 0.8826113), (27, 0.88085175), (31, 0.80055255)]\n",
      "7_17 [(6, 0.861561), (13, 0.9067424), (27, 0.9049835), (56, 0.9219861), (113, 0.92400146), (227, 0.92528397)]\n",
      "0_77 []\n",
      "2_18 []\n",
      "0_57 []\n",
      "0_82 []\n",
      "0_29 []\n"
     ]
    }
   ],
   "source": [
    "import numpy as np\n",
    "\n",
    "def identify_contrast_features(masked_z, colors, target_class, threshold=0.1):\n",
    "    \"\"\"\n",
    "    Identifies binary features that show a contrast between the target class and other classes.\n",
    "\n",
    "    Args:\n",
    "        masked_z (np.ndarray): Binary 2D array with shape (n_samples, n_features).\n",
    "        colors (np.ndarray): 1D array of class labels (e.g., [0, 1, 2, ...]).\n",
    "        target_class (int): The class for which to identify contrast features.\n",
    "        threshold (float, optional): Minimum difference in feature activation between target class and other classes.\n",
    "            Defaults to 0.1.\n",
    "\n",
    "    Returns:\n",
    "        list: List of indices corresponding to contrast features for the target class.\n",
    "    \"\"\"\n",
    "    # Initialize an empty list to store contrast feature indices\n",
    "    contrast_feature_indices = []\n",
    "\n",
    "    # Get the feature values for the target class\n",
    "    feature_values_for_target = masked_z[colors == target_class]\n",
    "    \n",
    "    # Calculate the proportion of active features for the target class\n",
    "    target_class_proportion = np.mean(feature_values_for_target, axis=0)\n",
    "    # Iterate over each feature\n",
    "    for feature_idx in range(masked_z.shape[1]):\n",
    "        # Get the feature values for all other classes\n",
    "        other_classes = np.unique(colors[colors != target_class])\n",
    "        other_feature_values = masked_z[colors != target_class, feature_idx]\n",
    "\n",
    "        # Calculate the proportion of active features for other classes\n",
    "        other_classes_proportion = np.mean(other_feature_values, axis=0)\n",
    "\n",
    "        # Calculate the difference in proportions\n",
    "        difference = target_class_proportion[feature_idx] - other_classes_proportion\n",
    "        \n",
    "        # Check if the difference exceeds the threshold\n",
    "        if difference > threshold:\n",
    "            contrast_feature_indices.append((feature_idx, difference))\n",
    "\n",
    "    return contrast_feature_indices\n",
    "\n",
    "\n",
    "for c in list(set(colors)):\n",
    "    print(c, identify_contrast_features(masked_z, colors, c, threshold=0.75))"
   ]
  },
  {
   "cell_type": "code",
   "execution_count": 630,
   "id": "505980c0-ba7b-4876-a6b9-509f83bd624e",
   "metadata": {
    "collapsed": true,
    "jupyter": {
     "outputs_hidden": true
    },
    "scrolled": true
   },
   "outputs": [
    {
     "data": {
      "text/plain": [
       "Counter({'0_0': 2146,\n",
       "         '0_2': 496,\n",
       "         '0_25': 357,\n",
       "         '0_4': 350,\n",
       "         '4_5': 314,\n",
       "         '0_10': 306,\n",
       "         '0_16': 290,\n",
       "         '12_31': 267,\n",
       "         '0_41': 258,\n",
       "         '0_32': 252,\n",
       "         '10_53': 251,\n",
       "         '0_15': 246,\n",
       "         '0_80': 241,\n",
       "         '0_66': 237,\n",
       "         '0_18': 227,\n",
       "         '0_3': 227,\n",
       "         '0_22': 225,\n",
       "         '0_64': 217,\n",
       "         '0_29': 217,\n",
       "         '0_71': 207,\n",
       "         '0_13': 207,\n",
       "         '0_26': 195,\n",
       "         '0_5': 190,\n",
       "         '10_13': 189,\n",
       "         '0_60': 187,\n",
       "         '0_61': 187,\n",
       "         '16_41': 184,\n",
       "         '0_35': 183,\n",
       "         '0_37': 182,\n",
       "         '0_81': 181,\n",
       "         '0_24': 177,\n",
       "         '0_31': 175,\n",
       "         '0_12': 172,\n",
       "         '0_42': 171,\n",
       "         '58_72': 171,\n",
       "         '15_30': 169,\n",
       "         '2_29': 169,\n",
       "         '4_29': 169,\n",
       "         '0_53': 168,\n",
       "         '0_89': 167,\n",
       "         '0_45': 166,\n",
       "         '0_9': 164,\n",
       "         '0_74': 162,\n",
       "         '15_27': 161,\n",
       "         '3_27': 157,\n",
       "         '0_46': 156,\n",
       "         '0_7': 155,\n",
       "         '0_39': 153,\n",
       "         '0_36': 153,\n",
       "         '0_6': 153,\n",
       "         '0_76': 152,\n",
       "         '0_43': 151,\n",
       "         '0_56': 151,\n",
       "         '0_14': 150,\n",
       "         '51_52': 150,\n",
       "         '0_34': 150,\n",
       "         '0_11': 148,\n",
       "         '10_35': 146,\n",
       "         '0_20': 146,\n",
       "         '0_65': 145,\n",
       "         '0_49': 145,\n",
       "         '0_68': 143,\n",
       "         '0_27': 137,\n",
       "         '0_21': 137,\n",
       "         '10_24': 132,\n",
       "         '0_23': 127,\n",
       "         '0_70': 127,\n",
       "         '0_19': 127,\n",
       "         '0_58': 127,\n",
       "         '0_1': 125,\n",
       "         '2_4': 123,\n",
       "         '0_79': 123,\n",
       "         '0_77': 119,\n",
       "         '9_77': 117,\n",
       "         '0_92': 117,\n",
       "         '0_54': 116,\n",
       "         '2_46': 116,\n",
       "         '16_60': 114,\n",
       "         '35_61': 114,\n",
       "         '0_87': 113,\n",
       "         '0_98': 113,\n",
       "         '10_61': 112,\n",
       "         '4_58': 112,\n",
       "         '0_8': 112,\n",
       "         '0_83': 112,\n",
       "         '35_79': 110,\n",
       "         '9_35': 109,\n",
       "         '29_67': 109,\n",
       "         '0_72': 109,\n",
       "         '0_69': 107,\n",
       "         '41_65': 107,\n",
       "         '0_51': 106,\n",
       "         '3_15': 106,\n",
       "         '16_65': 106,\n",
       "         '13_20': 106,\n",
       "         '0_17': 105,\n",
       "         '0_90': 104,\n",
       "         '2_25': 103,\n",
       "         '4_10': 103,\n",
       "         '7_16': 102,\n",
       "         '16_53': 102,\n",
       "         '0_38': 102,\n",
       "         '0_67': 102,\n",
       "         '2_56': 101,\n",
       "         '11_49': 101,\n",
       "         '7_53': 98,\n",
       "         '2_13': 98,\n",
       "         '45_50': 98,\n",
       "         '2_18': 98,\n",
       "         '0_30': 97,\n",
       "         '0_52': 97,\n",
       "         '19_71': 97,\n",
       "         '8_17': 95,\n",
       "         '0_57': 94,\n",
       "         '4_17': 94,\n",
       "         '0_62': 92,\n",
       "         '10_20': 92,\n",
       "         '17_70': 92,\n",
       "         '0_96': 90,\n",
       "         '11_31': 90,\n",
       "         '29_48': 88,\n",
       "         '0_78': 87,\n",
       "         '0_50': 87,\n",
       "         '35_53': 87,\n",
       "         '17_65': 87,\n",
       "         '9_10': 86,\n",
       "         '24_35': 85,\n",
       "         '26_89': 84,\n",
       "         '17_41': 83,\n",
       "         '0_33': 83,\n",
       "         '10_64': 83,\n",
       "         '17_37': 83,\n",
       "         '16_17': 82,\n",
       "         '0_48': 82,\n",
       "         '9_66': 82,\n",
       "         '2_9': 82,\n",
       "         '7_8': 82,\n",
       "         '17_60': 81,\n",
       "         '26_46': 80,\n",
       "         '25_68': 79,\n",
       "         '26_64': 78,\n",
       "         '0_63': 78,\n",
       "         '0_28': 78,\n",
       "         '17_87': 77,\n",
       "         '0_85': 76,\n",
       "         '18_71': 76,\n",
       "         '0_59': 75,\n",
       "         '17_79': 75,\n",
       "         '18_80': 74,\n",
       "         '0_105': 74,\n",
       "         '27_28': 74,\n",
       "         '8_16': 74,\n",
       "         '0_55': 73,\n",
       "         '2_36': 73,\n",
       "         '4_56': 73,\n",
       "         '7_17': 72,\n",
       "         '20_35': 72,\n",
       "         '13_61': 72,\n",
       "         '0_99': 72,\n",
       "         '69_81': 71,\n",
       "         '0_100': 71,\n",
       "         '0_102': 71,\n",
       "         '0_95': 71,\n",
       "         '9_20': 71,\n",
       "         '3_14': 70,\n",
       "         '37_48': 70,\n",
       "         '0_40': 70,\n",
       "         '16_37': 67,\n",
       "         '2_74': 67,\n",
       "         '11_12': 67,\n",
       "         '3_24': 66,\n",
       "         '0_75': 66,\n",
       "         '16_87': 65,\n",
       "         '0_86': 65,\n",
       "         '0_103': 64,\n",
       "         '0_84': 64,\n",
       "         '17_94': 63,\n",
       "         '69_70': 63,\n",
       "         '41_79': 61,\n",
       "         '0_93': 61,\n",
       "         '0_73': 60,\n",
       "         '34_45': 60,\n",
       "         '22_45': 60,\n",
       "         '24_27': 60,\n",
       "         '13_35': 59,\n",
       "         '16_70': 58,\n",
       "         '18_45': 58,\n",
       "         '9_61': 57,\n",
       "         '51_79': 56,\n",
       "         '4_53': 56,\n",
       "         '18_19': 55,\n",
       "         '26_43': 55,\n",
       "         '0_88': 55,\n",
       "         '45_80': 54,\n",
       "         '0_47': 54,\n",
       "         '24_65': 53,\n",
       "         '4_14': 52,\n",
       "         '0_91': 51,\n",
       "         '71_80': 51,\n",
       "         '13_87': 50,\n",
       "         '2_3': 50,\n",
       "         '43_50': 49,\n",
       "         '0_104': 49,\n",
       "         '25_77': 48,\n",
       "         '0_97': 47,\n",
       "         '19_80': 47,\n",
       "         '53_60': 47,\n",
       "         '70_81': 44,\n",
       "         '43_102': 43,\n",
       "         '0_101': 42,\n",
       "         '15_94': 40,\n",
       "         '56_58': 40,\n",
       "         '0_44': 39,\n",
       "         '4_65': 39,\n",
       "         '0_94': 38,\n",
       "         '7_9': 37,\n",
       "         '20_37': 36,\n",
       "         '20_61': 32,\n",
       "         '4_79': 31,\n",
       "         '19_45': 29,\n",
       "         '0_82': 27,\n",
       "         '87_94': 27,\n",
       "         '75_76': 25,\n",
       "         '42_87': 25,\n",
       "         '45_71': 24,\n",
       "         '65_79': 23,\n",
       "         '59_98': 22,\n",
       "         '55_56': 22,\n",
       "         '42_94': 22,\n",
       "         '56_79': 22,\n",
       "         '55_79': 20,\n",
       "         '59_104': 20,\n",
       "         '98_104': 20,\n",
       "         '9_70': 16,\n",
       "         '45_84': 15,\n",
       "         '82_95': 14,\n",
       "         '7_60': 9})"
      ]
     },
     "execution_count": 630,
     "metadata": {},
     "output_type": "execute_result"
    }
   ],
   "source": [
    "from collections import Counter\n",
    "Counter(colors)"
   ]
  },
  {
   "cell_type": "code",
   "execution_count": 398,
   "id": "cc3e6ed0-ad50-4d9d-b293-1565b88281e0",
   "metadata": {},
   "outputs": [
    {
     "name": "stdout",
     "output_type": "stream",
     "text": [
      "2146\n"
     ]
    },
    {
     "data": {
      "text/plain": [
       "2"
      ]
     },
     "execution_count": 398,
     "metadata": {},
     "output_type": "execute_result"
    }
   ],
   "source": [
    "target_pert = masked_z[colors == '0_0']\n",
    "last = []\n",
    "print(target_pert.shape[0])\n",
    "for i in range(target_pert.shape[0]):\n",
    "    last.append(np.arange(n_dims_g)[(target_pert!=0)[i,:]][-1])\n",
    "len(set(last))"
   ]
  },
  {
   "cell_type": "code",
   "execution_count": 296,
   "id": "e5f87419-7803-45ae-9f1b-8a53d098bd90",
   "metadata": {},
   "outputs": [
    {
     "name": "stdout",
     "output_type": "stream",
     "text": [
      "[ 1  3  7 15 31 63]\n",
      "[ 2  5 11 24 40 81]\n",
      "[ 1  3  7 15 31 63]\n",
      "[ 2  5 11 24 36 73]\n",
      "[ 2  5 11 23 47 95]\n",
      "[ 2  5 11 23 47 95]\n",
      "[ 2  5 11 23 47 95]\n",
      "[ 1  3  7 15 31 63]\n",
      "[ 1  3 10 21 43 87]\n",
      "[ 2  5 11 23 47 95]\n"
     ]
    }
   ],
   "source": [
    "target_pert = masked_z[:10]\n",
    "for i in range(target_pert.shape[0]):\n",
    "    print(np.arange(n_dims_g)[(target_pert!=0)[i,:]])"
   ]
  },
  {
   "cell_type": "code",
   "execution_count": 303,
   "id": "58c5cb3f-c9d0-4dc7-9e00-b248d51a7f48",
   "metadata": {},
   "outputs": [
    {
     "data": {
      "text/plain": [
       "(0.12841444, 0.12897287, 0.1362692)"
      ]
     },
     "execution_count": 303,
     "metadata": {},
     "output_type": "execute_result"
    }
   ],
   "source": [
    "np.mean(np.abs(inputs[4] - inputs[5])), np.mean(np.abs(inputs[0] - inputs[2])), np.mean(np.abs(inputs[0] - inputs[1]))"
   ]
  },
  {
   "cell_type": "markdown",
   "id": "da85cfc4-d58a-4c35-802b-9fdf5ad1878c",
   "metadata": {},
   "source": [
    "This points at the fact that the latent representation is largely conditional on the input gene expressions and not necessarily perturbation itself."
   ]
  },
  {
   "cell_type": "markdown",
   "id": "961c38a9-bb38-4fba-8cf7-fdb254bb260a",
   "metadata": {},
   "source": [
    "### Build similarity matrix between single-gene perturbations"
   ]
  },
  {
   "cell_type": "code",
   "execution_count": 207,
   "id": "4ab8f74d-5f44-4b85-a384-5c988f9244cd",
   "metadata": {},
   "outputs": [],
   "source": [
    "vae.training = True\n",
    "latent_rep = []\n",
    "pert_labels_all = []\n",
    "with torch.no_grad():\n",
    "    for batch_ctrl, batch_pert, pert_labels in val_loader:\n",
    "        for i in range(1):\n",
    "            pert_x, recon_x, mu, logvar, _ = vae(batch_ctrl, pert_labels)\n",
    "            z = vae.reparameterize(mu, logvar)\n",
    "            masked_z = vae.mask(z)[:,:n_dims_g].cpu().numpy()\n",
    "            latent_rep.append(masked_z)\n",
    "            pert_labels_all.append(pert_labels.cpu().numpy())\n",
    "\n",
    "masked_z = np.vstack(latent_rep)\n",
    "pert_labels_all = np.vstack(pert_labels_all)\n",
    "filt = (pert_labels_all[:,0] == 0) & (pert_labels_all[:,1] != 0)\n",
    "\n",
    "gene_labels = np.array(gene_num_map)[pert_labels_all[filt,1]]\n",
    "masked_z = masked_z[filt]"
   ]
  },
  {
   "cell_type": "code",
   "execution_count": 208,
   "id": "9a102217-1d5a-48e7-b713-ed153655aea5",
   "metadata": {},
   "outputs": [
    {
     "data": {
      "text/plain": [
       "((6783, 255), (6783,))"
      ]
     },
     "execution_count": 208,
     "metadata": {},
     "output_type": "execute_result"
    }
   ],
   "source": [
    "masked_z.shape, gene_labels.shape"
   ]
  },
  {
   "cell_type": "code",
   "execution_count": 209,
   "id": "c531437b-e4f8-497e-b405-26d1a6ab966c",
   "metadata": {},
   "outputs": [
    {
     "name": "stderr",
     "output_type": "stream",
     "text": [
      "100%|██████████| 105/105 [02:07<00:00,  1.22s/it]\n"
     ]
    }
   ],
   "source": [
    "from numba import jit\n",
    "\n",
    "@jit(nopython=True)\n",
    "def calculate_distance(t1_row, t2_row, levels, hier=False):\n",
    "    inds1 = np.nonzero(t1_row)[0]\n",
    "    inds2 = np.nonzero(t2_row)[0]\n",
    "    \n",
    "    if hier:\n",
    "        distance = 0.0\n",
    "        for level in range(1, levels + 1):\n",
    "            lower = 2 ** (level - 1)\n",
    "            upper = 2 ** level\n",
    "            inds1t = inds1[(inds1 > lower) & (inds1 <= upper)]\n",
    "            inds2t = inds2[(inds2 > lower) & (inds2 <= upper)]\n",
    "            distance += 2 * level * np.intersect1d(inds1t, inds2t).size\n",
    "    else:\n",
    "        distance = np.intersect1d(inds1, inds2).size\n",
    "    return distance\n",
    "\n",
    "@jit(nopython=True)\n",
    "def calculate_distance_matrix(t1, t2, levels, hier=False):\n",
    "    distance_mtx = np.zeros((t1.shape[0], t2.shape[0]))\n",
    "    for i in range(t1.shape[0]):\n",
    "        for j in range(t2.shape[0]):\n",
    "            distance_mtx[i, j] = calculate_distance(t1[i], t2[j], levels, hier)\n",
    "    return distance_mtx\n",
    "\n",
    "def optimized_similarity_calculation(masked_z, gene_labels, vae_levels, hier=False):\n",
    "    unique_labels = np.unique(gene_labels)\n",
    "    final_sim_mtx = pd.DataFrame(index=unique_labels, columns=unique_labels)\n",
    "\n",
    "    for pert in tqdm(unique_labels):\n",
    "        t1 = masked_z[gene_labels == pert]\n",
    "        for pert2 in unique_labels:\n",
    "            t2 = masked_z[gene_labels == pert2]\n",
    "            distance_mtx = calculate_distance_matrix(t1, t2, vae_levels, hier)\n",
    "            final_sim_mtx.loc[pert, pert2] = distance_mtx.mean()\n",
    "\n",
    "    return final_sim_mtx\n",
    "\n",
    "# Usage\n",
    "final_sim_mtx = optimized_similarity_calculation(masked_z, gene_labels, vae.levels, hier=False)"
   ]
  },
  {
   "cell_type": "code",
   "execution_count": 210,
   "id": "4b4c1dda-1151-4163-8cf2-624826e5719b",
   "metadata": {},
   "outputs": [],
   "source": [
    "final_sim_mtx.to_csv('./little_data/VAE_tree_similarities.csv')"
   ]
  },
  {
   "cell_type": "markdown",
   "id": "1fa8c171-3488-40ee-a3d0-e9c0d9e0571e",
   "metadata": {},
   "source": [
    "### Let's explore the actual paths for 2-gene perts and their components"
   ]
  },
  {
   "cell_type": "code",
   "execution_count": 85,
   "id": "fab06668-db34-416a-9a87-1ec06f6279c9",
   "metadata": {},
   "outputs": [],
   "source": [
    "t = pert_labels.cpu().numpy()"
   ]
  },
  {
   "cell_type": "code",
   "execution_count": 91,
   "id": "3aae357f-27b1-4c37-b0c5-4301bd151190",
   "metadata": {},
   "outputs": [
    {
     "data": {
      "text/plain": [
       "array(['0_0', '0_1', '0_10', '0_100', '0_101', '0_102', '0_103', '0_104',\n",
       "       '0_105', '0_11', '0_12', '0_13', '0_14', '0_15', '0_16', '0_17',\n",
       "       '0_18', '0_19', '0_2', '0_20', '0_21', '0_22', '0_23', '0_24',\n",
       "       '0_25', '0_26', '0_27', '0_28', '0_29', '0_3', '0_30', '0_31',\n",
       "       '0_32', '0_33', '0_34', '0_35', '0_36', '0_37', '0_38', '0_39',\n",
       "       '0_4', '0_40', '0_41', '0_42', '0_43', '0_44', '0_45', '0_46',\n",
       "       '0_47', '0_48', '0_49', '0_5', '0_50', '0_51', '0_52', '0_53',\n",
       "       '0_54', '0_55', '0_56', '0_57', '0_58', '0_59', '0_6', '0_60',\n",
       "       '0_61', '0_62', '0_63', '0_64', '0_65', '0_66', '0_67', '0_68',\n",
       "       '0_69', '0_7', '0_70', '0_71', '0_72', '0_73', '0_74', '0_75',\n",
       "       '0_76', '0_77', '0_78', '0_79', '0_8', '0_80', '0_81', '0_82',\n",
       "       '0_83', '0_84', '0_85', '0_86', '0_87', '0_88', '0_89', '0_9',\n",
       "       '0_90', '0_91', '0_92', '0_93', '0_94', '0_95', '0_96', '0_97',\n",
       "       '0_98', '0_99', '10_13', '10_20', '10_24', '10_35', '10_53',\n",
       "       '10_61', '10_64', '11_12', '11_31', '11_49', '12_31', '13_20',\n",
       "       '13_35', '13_61', '13_87', '15_27', '15_30', '15_94', '16_17',\n",
       "       '16_37', '16_41', '16_53', '16_60', '16_65', '16_70', '16_87',\n",
       "       '17_37', '17_41', '17_60', '17_65', '17_70', '17_79', '17_87',\n",
       "       '17_94', '18_19', '18_45', '18_71', '18_80', '19_45', '19_71',\n",
       "       '19_80', '20_35', '20_37', '20_61', '22_45', '24_27', '24_35',\n",
       "       '24_65', '25_68', '25_77', '26_43', '26_46', '26_64', '26_89',\n",
       "       '27_28', '29_48', '29_67', '2_13', '2_18', '2_25', '2_29', '2_3',\n",
       "       '2_36', '2_4', '2_46', '2_56', '2_74', '2_9', '34_45', '35_53',\n",
       "       '35_61', '35_79', '37_48', '3_14', '3_15', '3_24', '3_27', '41_65',\n",
       "       '41_79', '42_87', '42_94', '43_102', '43_50', '45_50', '45_71',\n",
       "       '45_80', '45_84', '4_10', '4_14', '4_17', '4_29', '4_5', '4_53',\n",
       "       '4_56', '4_58', '4_65', '4_79', '51_52', '51_79', '53_60', '55_56',\n",
       "       '55_79', '56_58', '56_79', '58_72', '59_104', '59_98', '65_79',\n",
       "       '69_70', '69_81', '70_81', '71_80', '75_76', '7_16', '7_17',\n",
       "       '7_53', '7_60', '7_8', '7_9', '82_95', '87_94', '8_16', '8_17',\n",
       "       '98_104', '9_10', '9_20', '9_35', '9_61', '9_66', '9_70', '9_77'],\n",
       "      dtype='<U6')"
      ]
     },
     "execution_count": 91,
     "metadata": {},
     "output_type": "execute_result"
    }
   ],
   "source": [
    "np.unique(colors)"
   ]
  },
  {
   "cell_type": "code",
   "execution_count": 170,
   "id": "49da9d13-fc7c-41ef-bbea-811e9d74e66c",
   "metadata": {},
   "outputs": [],
   "source": [
    "# For testing, you can run the model in evaluation mode\n",
    "record_n = 0\n",
    "vae.training = True\n",
    "masked_z = []\n",
    "first_all = []\n",
    "second_all = []\n",
    "inputs = []\n",
    "perturb_cells = []\n",
    "switch=0\n",
    "\n",
    "pert_of_interest = torch.Tensor([45,50])\n",
    "\n",
    "with torch.no_grad():\n",
    "    for batch_ctrl, batch_pert, pert_labels in test_loader:\n",
    "        pert_x, recon_x, mu, logvar, _ = vae(batch_ctrl, pert_labels)\n",
    "        for i in range(100):\n",
    "            m = (pert_labels == pert_of_interest)\n",
    "            m = m.all(axis=1)\n",
    "            try:\n",
    "                z = vae.reparameterize(mu[m,:], logvar[m,:])\n",
    "                if z.shape[0]<1:\n",
    "                    continue\n",
    "            except Exception as e:\n",
    "                print(e)\n",
    "                continue\n",
    "            t_masked_z = vae.mask(z)[:,:n_dims_g].cpu().numpy()\n",
    "            pert_x = vae.decode(vae.mask(z))\n",
    "            perturb_cells.append(pert_x.detach().cpu().numpy())\n",
    "            masked_z.append(t_masked_z)\n",
    "            first_all.extend(pert_labels[m,0].cpu().numpy())\n",
    "            second_all.extend(pert_labels[m,1].cpu().numpy())\n",
    "            #inputs.extend(batch_ctrl[].cpu().numpy()) \n",
    "            switch = 1\n",
    "        if switch:\n",
    "            break\n",
    "        \n",
    "first = first_all\n",
    "second = second_all\n",
    "colors = []\n",
    "for i in range(len(first)):\n",
    "    colors.append(str(int(first[i]))+'_'+str(int(second[i])))\n",
    "colors = np.array(colors)\n",
    "masked_z = np.vstack(masked_z)\n",
    "perturb_cells = np.vstack(perturb_cells)\n",
    "#inputs = np.vstack(inputs)"
   ]
  },
  {
   "cell_type": "code",
   "execution_count": 172,
   "id": "4a772458-bb60-44c4-8ff3-d7bc54afa7b3",
   "metadata": {},
   "outputs": [],
   "source": [
    "ctrl = adata[adata.obs[adata.obs.condition=='ctrl'].index].X[:,:].toarray()\n",
    "p = adata[adata.obs[adata.obs.condition=='TSC22D1+ctrl'].index].X[:,:].toarray()"
   ]
  },
  {
   "cell_type": "code",
   "execution_count": 173,
   "id": "030b57be-30e3-452a-9971-e22ead645e50",
   "metadata": {
    "jupyter": {
     "source_hidden": true
    }
   },
   "outputs": [],
   "source": [
    "# import numpy as np\n",
    "# from scipy.stats import ttest_ind\n",
    "\n",
    "# def find_differentially_expressed_genes(expression_treatment, expression_control, alpha=0.05, thr = 1.0):\n",
    "#     \"\"\"\n",
    "#     Finds differentially expressed genes between treatment and control groups.\n",
    "\n",
    "#     Args:\n",
    "#         expression_treatment (np.ndarray): Gene expression data for the treatment group (n_cells x n_genes).\n",
    "#         expression_control (np.ndarray): Gene expression data for the control group (n_cells x n_genes).\n",
    "#         alpha (float, optional): Significance level for t-test. Defaults to 0.05.\n",
    "\n",
    "#     Returns:\n",
    "#         np.ndarray: Boolean array indicating DEGs (True for DEGs, False otherwise).\n",
    "#     \"\"\"\n",
    "#     # Calculate mean expression for each gene in treatment and control groups\n",
    "#     mean_treatment = np.mean(expression_treatment, axis=0)\n",
    "#     mean_control = np.mean(expression_control, axis=0)\n",
    "\n",
    "#     # Calculate variance for each gene in treatment and control groups\n",
    "#     var_treatment = np.var(expression_treatment, axis=0, ddof=1)\n",
    "#     var_control = np.var(expression_control, axis=0, ddof=1)\n",
    "\n",
    "#     # Calculate fold change (FC) for each gene\n",
    "#     fc = (mean_treatment - mean_control) / np.sqrt(var_treatment + var_control)\n",
    "\n",
    "#     # Perform two-sample t-test for each gene\n",
    "#     _, p_values = ttest_ind(expression_treatment, expression_control, axis=0,)\n",
    "\n",
    "#     # Adjust p-values for multiple testing (e.g., using Bonferroni correction)\n",
    "#     num_genes = expression_treatment.shape[1]\n",
    "#     adjusted_alpha = alpha / num_genes\n",
    "    \n",
    "#     significant_genes = p_values < adjusted_alpha\n",
    "    \n",
    "#     # Identify DEGs based on FC and adjusted p-value\n",
    "#     degs = np.logical_and(significant_genes, np.abs(fc) > thr)\n",
    "\n",
    "#     return degs\n",
    "\n",
    "# # Find DEGs\n",
    "# degs = find_differentially_expressed_genes(perturb_cells[:,:500], ctrl, alpha=0.01,thr=0.5)\n",
    "# print(\"Indices of differentially expressed genes synthetic:\")\n",
    "# print(np.where(degs)[0])\n",
    "\n",
    "# degs = find_differentially_expressed_genes(p, ctrl, alpha=0.01,thr=0.1)\n",
    "# print(\"Indices of differentially expressed genes ground truth:\")\n",
    "# print(np.where(degs)[0])"
   ]
  },
  {
   "cell_type": "code",
   "execution_count": 174,
   "id": "8ab023a1-e79c-4284-badb-950ab411e093",
   "metadata": {},
   "outputs": [],
   "source": [
    "target_pert = masked_z\n",
    "reps = []\n",
    "for i in range(target_pert.shape[0]):\n",
    "    reps.append(np.arange(n_dims_g)[(target_pert!=0)[i,:]])"
   ]
  },
  {
   "cell_type": "code",
   "execution_count": 175,
   "id": "3f8e8cfa-220d-49ae-8c9b-7b95ebd6d8e3",
   "metadata": {},
   "outputs": [
    {
     "data": {
      "text/plain": [
       "9800"
      ]
     },
     "execution_count": 175,
     "metadata": {},
     "output_type": "execute_result"
    }
   ],
   "source": [
    "len(reps)"
   ]
  },
  {
   "cell_type": "code",
   "execution_count": 176,
   "id": "30efc12d-fac3-4792-a23e-a689b37e100b",
   "metadata": {
    "scrolled": true
   },
   "outputs": [],
   "source": [
    "reps_l = [str(i) for i in reps]"
   ]
  },
  {
   "cell_type": "code",
   "execution_count": 177,
   "id": "a28d2118-bda4-48d9-9db7-3c8245d99645",
   "metadata": {},
   "outputs": [
    {
     "data": {
      "text/plain": [
       "Counter({'[  0   1   3  14  30  60 122 242]': 4440,\n",
       "         '[  0   1   3  14  30  60 122 130]': 1051,\n",
       "         '[  0   1   3   7  15  60 122 242]': 568,\n",
       "         '[  0   1   3  14  30  60 122 245]': 491,\n",
       "         '[  0   1   3  14  30  60 122 164]': 478,\n",
       "         '[  0   1   3   7  15  60 122 164]': 466,\n",
       "         '[  0   1   3   7  15  60 122 175]': 367,\n",
       "         '[  0   1   3   7  15  60 122 184]': 366,\n",
       "         '[  0   1   3  14  30  60 122 184]': 310,\n",
       "         '[  0   1   3  14  30  60 122 175]': 289,\n",
       "         '[  0   1   3  14  30  60 122 241]': 225,\n",
       "         '[  0   1   3  14  30  60 122 147]': 174,\n",
       "         '[  0   1   3  14  30  60 122 226]': 169,\n",
       "         '[  0   1   3  14  30  60 122 174]': 163,\n",
       "         '[  0   1   3   7  15  60 122 130]': 99,\n",
       "         '[  0   1   3   7  15  60 122 174]': 59,\n",
       "         '[  0   1   3  10  22  45  91 184]': 43,\n",
       "         '[  0   1   3   7  15  60 122 147]': 29,\n",
       "         '[  0   1   3  14  30  60 122 218]': 10,\n",
       "         '[  0   1   3  14  30  60 122 182]': 1,\n",
       "         '[  0   1   3  14  30  60 122 248]': 1,\n",
       "         '[  0   1   3  14  30  35  71 245]': 1,\n",
       "         'axis': 0})"
      ]
     },
     "execution_count": 177,
     "metadata": {},
     "output_type": "execute_result"
    }
   ],
   "source": [
    "from collections import Counter\n",
    "t = np.array(reps)\n",
    "Counter(reps_l,axis=0)"
   ]
  },
  {
   "cell_type": "raw",
   "id": "35836897-fb99-4570-924d-7f3fd9195a53",
   "metadata": {},
   "source": [
    "\n",
    ">>>>>>>>>>>>>>>>>>>>This cell is for notes and temp comparisons<<<<<<<<<<<<<<<<<<<<<<\n",
    "\n",
    "17\n",
    "\n",
    "Counter({'[  0   1   3   7  15  39  79 159]': 187,\n",
    "         '[  0   2   6  13  28  57 115 139]': 170,\n",
    "         '[  0   2   6  13  28  57 115 243]': 120,\n",
    "         '[  0   2   6  13  28  57 115 173]': 61,\n",
    "         '[  0   2   6  13  27  55 111 139]': 56,\n",
    "         '[  0   1   3   7  15  58 117 139]': 48,\n",
    "         '[  0   1   3   7  15  56 104 209]': 45, (!!!)\n",
    "         '[  0   2   6  13  28  57 115 156]': 44,\n",
    "         '[  0   1   3   7  15  58 117 243]': 44,\n",
    "\n",
    "65\n",
    "\n",
    "Counter({'[  0   1   3   7  15  48  97 195]': 318,\n",
    "         '[  0   1   3   7  15  50 102 205]': 232,\n",
    "         '[  0   1   3   7  15  60 121 243]': 149,\n",
    "         '[  0   2   6  13  27  55 111 129]': 87,\n",
    "         '[  0   1   3   7  15  34  70 141]': 40,\n",
    "         '[  0   2   6  13  27  55 111 226]': 33,\n",
    "         '[  0   1   3   7  15  57 115 201]': 33,\n",
    "\n",
    "17_65\n",
    "\n",
    "Counter({'[  0   1   3   7  15  38  78 157]': 369,\n",
    "         '[  0   1   3   7  15  52 105 212]': 215,\n",
    "         '[  0   1   3   7  15  51 104 209]': 143, (!!!)\n",
    "         '[  0   1   3   7  15  51 104 151]': 57,\n",
    "\n",
    "\n",
    "--------------------------------------------------------\n",
    "\n",
    "45\n",
    "\n",
    "Counter({'[  0   1   3  14  30  38  77 155]': 567,\n",
    "         '[  0   1   3  14  30  43  87 175]': 354,\n",
    "         '[  0   1   3  14  30  34  70 141]': 198,\n",
    "         '[  0   1   3  14  30  42  86 173]': 117,\n",
    "         '[  0   1   3  14  30  56 113 227]': 116,\n",
    "         '[  0   1   3  14  30  44  90 182]': 80,\n",
    "         '[  0   1   3  14  30  60 121 243]': 69,\n",
    "         '[  0   1   3  14  30  60 122 245]': 59, (!!!)\n",
    "\n",
    "50\n",
    "\n",
    "Counter({'[  0   1   3   7  15  39  79 159]': 160,\n",
    "         '[  0   1   3   7  15  56 113 227]': 99,\n",
    "         '[  0   1   3   7  15  54 109 220]': 90,\n",
    "         '[  0   1   3   7  15  48  97 195]': 71,\n",
    "         '[  0   1   3   7  15  38  78 157]': 69,\n",
    "         '[  0   1   3   7  15  50 101 204]': 61,\n",
    "         '[  0   1   3   7  15  58 117 129]': 33,\n",
    "\n",
    "45_50\n",
    "\n",
    "Counter({'[  0   1   3  14  30  60 122 242]': 454,\n",
    "         '[  0   1   3  14  30  60 122 130]': 98,\n",
    "         '[  0   1   3   7  15  60 122 242]': 55,\n",
    "         '[  0   1   3  14  30  60 122 164]': 54,\n",
    "         '[  0   1   3   7  15  60 122 164]': 50,\n",
    "         '[  0   1   3  14  30  60 122 245]': 46, (!!!)\n",
    "         '[  0   1   3   7  15  60 122 184]': 39,\n",
    "         '[  0   1   3   7  15  60 122 175]': 36,"
   ]
  },
  {
   "cell_type": "code",
   "execution_count": null,
   "id": "a5379085-9b19-45f6-b5a7-424f550dbf1d",
   "metadata": {},
   "outputs": [],
   "source": []
  }
 ],
 "metadata": {
  "kernelspec": {
   "display_name": "Python 3 (ipykernel)",
   "language": "python",
   "name": "python3"
  },
  "language_info": {
   "codemirror_mode": {
    "name": "ipython",
    "version": 3
   },
   "file_extension": ".py",
   "mimetype": "text/x-python",
   "name": "python",
   "nbconvert_exporter": "python",
   "pygments_lexer": "ipython3",
   "version": "3.10.14"
  }
 },
 "nbformat": 4,
 "nbformat_minor": 5
}
