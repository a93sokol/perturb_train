{
 "cells": [
  {
   "cell_type": "markdown",
   "id": "e2357a85-4d3f-4793-9b5b-a356c9cf75c0",
   "metadata": {},
   "source": [
    "## OT - we want to use OT concept to find pairs btwn ctrl and treatment, then using VAE get the transformations. We adjust the latent space of the VAE to introduce hierarchy and get explainability of the perturbations"
   ]
  },
  {
   "cell_type": "markdown",
   "id": "3b37d636-1119-413c-b4e9-c56a08477c10",
   "metadata": {},
   "source": [
    "### CURRENT ISSUES\n",
    "- The latent space does not know yet, what perturbation is reconstructed, hence we cannot build a tree structure. There are two obvious ways to tackle it:\n",
    "  1. Add shifts to the input instead of the latent space\n",
    "  2. Create two-level latent space, where the first one is shifted based on the perturbation and the second one builds the tree."
   ]
  },
  {
   "cell_type": "markdown",
   "id": "8bf26e58-960e-40d1-b160-be4876747e6f",
   "metadata": {},
   "source": [
    "### Imports"
   ]
  },
  {
   "cell_type": "code",
   "execution_count": 1,
   "id": "3de4a09e-8df0-4041-b095-0273c7ba95be",
   "metadata": {},
   "outputs": [
    {
     "data": {
      "text/plain": [
       "True"
      ]
     },
     "execution_count": 1,
     "metadata": {},
     "output_type": "execute_result"
    }
   ],
   "source": [
    "import torch\n",
    "torch.cuda.is_available()"
   ]
  },
  {
   "cell_type": "code",
   "execution_count": 2,
   "id": "be7da009-644e-4c15-a074-ab1671daf24f",
   "metadata": {},
   "outputs": [],
   "source": [
    "import scanpy as scp\n",
    "import pandas as pd\n",
    "import numpy as np\n",
    "import catboost as cb\n",
    "from tqdm import tqdm\n",
    "from scipy import sparse\n",
    "from sklearn.model_selection import train_test_split\n",
    "\n",
    "from catboost import CatBoostClassifier, CatBoostRegressor\n",
    "from lightgbm import LGBMClassifier, LGBMRegressor\n",
    "from collections import Counter\n",
    "import lightgbm as lgb\n",
    "import matplotlib.pyplot as plt\n",
    "import umap\n",
    "from sklearn.model_selection import StratifiedKFold\n",
    "\n",
    "import ot\n",
    "from sklearn.decomposition import PCA\n",
    "from IPython.display import clear_output\n",
    "from sklearn.preprocessing import QuantileTransformer"
   ]
  },
  {
   "cell_type": "markdown",
   "id": "28545cb6-f504-4523-8ea6-0e37ec165a9f",
   "metadata": {},
   "source": [
    "### Magics"
   ]
  },
  {
   "cell_type": "code",
   "execution_count": 3,
   "id": "2d1aad38-4497-4f8c-b5ed-c17b65b5fe84",
   "metadata": {},
   "outputs": [],
   "source": [
    "GENE_PER_CELL_BINNING = False\n",
    "N_BINS = 1000\n",
    "N_ITER = 50\n",
    "TOP_N_GENES = 500"
   ]
  },
  {
   "cell_type": "markdown",
   "id": "29c34cd4-4903-47d4-aeba-57aa5aff6e2b",
   "metadata": {},
   "source": [
    "### Step 0"
   ]
  },
  {
   "cell_type": "code",
   "execution_count": 4,
   "id": "579f1ded-ce0a-442a-9f46-aac212209692",
   "metadata": {},
   "outputs": [],
   "source": [
    "adata = scp.read_h5ad('./data/Norman_2019/norman_umi_go/perturb_processed.h5ad')"
   ]
  },
  {
   "cell_type": "code",
   "execution_count": 5,
   "id": "dc17e045-10e5-4a5f-853c-c02d17410346",
   "metadata": {},
   "outputs": [
    {
     "name": "stdout",
     "output_type": "stream",
     "text": [
      "{1, 2, 3}\n"
     ]
    }
   ],
   "source": [
    "## Following the scGPT paper, we bin the genes within cell. \n",
    "\n",
    "def bin_nonzero_values(arr, num_bins):\n",
    "    # Filter out non-zero values\n",
    "    nonzero_vals = arr[arr != 0]\n",
    "    \n",
    "    # Calculate bin edges\n",
    "    bin_edges = np.linspace(nonzero_vals.min(), nonzero_vals.max(), num_bins)\n",
    "    \n",
    "    # Bin the values\n",
    "    binned_values = np.zeros_like(arr)\n",
    "    binned_nonzero = np.digitize(nonzero_vals, bin_edges)\n",
    "    binned_values[arr != 0] = binned_nonzero\n",
    "    \n",
    "    return binned_values\n",
    "\n",
    "# Example usage\n",
    "arr = np.random.randint(low=0, high=100, size=100)\n",
    "num_bins = 3\n",
    "binned_values = bin_nonzero_values(arr, num_bins)\n",
    "print(set(binned_values))"
   ]
  },
  {
   "cell_type": "code",
   "execution_count": 6,
   "id": "6ff55295-12fe-41f9-b7f6-b122df4533cc",
   "metadata": {},
   "outputs": [],
   "source": [
    "scp.pp.normalize_total(adata, exclude_highly_expressed=True)\n",
    "scp.pp.log1p(adata)\n",
    "scp.pp.highly_variable_genes(adata, n_top_genes=TOP_N_GENES,subset=True)"
   ]
  },
  {
   "cell_type": "code",
   "execution_count": 7,
   "id": "e7de02c3-4aa2-40cd-81e5-7d07ce966e92",
   "metadata": {},
   "outputs": [],
   "source": [
    "if GENE_PER_CELL_BINNING:\n",
    "    tempy = adata.X.toarray()\n",
    "    \n",
    "    for c in tqdm(range(adata.X.shape[0])):\n",
    "        tempy[c,:] = bin_nonzero_values(tempy[c,:], N_BINS)\n",
    "    \n",
    "    adata.X = sparse.csr_matrix(tempy)\n",
    "    del tempy"
   ]
  },
  {
   "cell_type": "code",
   "execution_count": 8,
   "id": "52090a5e-fa6d-4b5f-b6cb-f5a165b2e61b",
   "metadata": {},
   "outputs": [],
   "source": [
    "y = adata.obs.condition.values.astype(str)\n",
    "X = adata.X.toarray()"
   ]
  },
  {
   "cell_type": "code",
   "execution_count": 9,
   "id": "1396df13-e30e-4474-b771-9164bba45127",
   "metadata": {
    "scrolled": true
   },
   "outputs": [
    {
     "name": "stderr",
     "output_type": "stream",
     "text": [
      "100%|██████████| 91205/91205 [00:00<00:00, 273155.15it/s]\n"
     ]
    }
   ],
   "source": [
    "gene_num_map = ['ctrl']\n",
    "y_processed = []\n",
    "\n",
    "for rec in tqdm(y):\n",
    "    y_processed.append([])\n",
    "    comps = rec.split('+')\n",
    "    for c in comps:\n",
    "        if c not in gene_num_map:\n",
    "            gene_num_map.append(c)\n",
    "        y_processed[-1].append(gene_num_map.index(c))\n",
    "    if len(y_processed[-1])<2:\n",
    "        y_processed[-1].append(gene_num_map.index('ctrl'))"
   ]
  },
  {
   "cell_type": "code",
   "execution_count": 10,
   "id": "28ddd071-c86c-4cc9-86e5-1b336e3251b1",
   "metadata": {},
   "outputs": [
    {
     "name": "stdout",
     "output_type": "stream",
     "text": [
      "[(0, 4), (1, 20), (2, 9), (3, 5), (4, 48), (5, 27), (6, 17), (7, 43), (8, 1), (9, 8), (10, 40), (11, 12), (12, 2), (13, 11), (14, 51), (15, 6), (16, 18), (17, 3), (18, 30), (19, 0)]\n"
     ]
    }
   ],
   "source": [
    "def pair_records_optimal_transport(set1, set2):\n",
    "    \"\"\"\n",
    "    Pairs records from set1 with records from set2 using the optimal transport concept.\n",
    "    Records from set2 can be used multiple times if needed.\n",
    "\n",
    "    Args:\n",
    "    - set1 (np.ndarray): First 2D array of records (shape: n1 x features).\n",
    "    - set2 (np.ndarray): Second 2D array of records (shape: n2 x features).\n",
    "\n",
    "    Returns:\n",
    "    - pairs (list of tuples): List of index pairs (i, j) where i is the index\n",
    "      from set1 and j is the index from set2 that are paired.\n",
    "    \"\"\"\n",
    "\n",
    "    # Ensure the inputs are numpy arrays\n",
    "    set1 = np.array(set1)\n",
    "    set2 = np.array(set2)\n",
    "\n",
    "    # Compute the cost matrix (Euclidean distance between records)\n",
    "    cost_matrix = ot.dist(set1, set2, metric='euclidean')\n",
    "\n",
    "    # Compute the optimal transport plan using linear programming\n",
    "    n1, n2 = set1.shape[0], set2.shape[0]\n",
    "    a = np.ones(n1) / n1  # uniform distribution on set1\n",
    "    b = np.ones(n2)  # flexible distribution on set2\n",
    "\n",
    "    # Normalize b to sum to the same total mass as a\n",
    "    b = b / b.sum() * a.sum()\n",
    "\n",
    "    transport_plan = ot.emd(a, b, cost_matrix)\n",
    "\n",
    "    # Extract pairs based on the transport plan\n",
    "    pairs = []\n",
    "    for i in range(n1):\n",
    "        j = np.argmax(transport_plan[i])\n",
    "        pairs.append((i, j))\n",
    "\n",
    "    return pairs\n",
    "\n",
    "    \n",
    "# Example usage\n",
    "set1 = np.random.rand(20, 5000)  # 100 records with 5000 features each\n",
    "set2 = np.random.rand(100, 5000)  # 100 records with 5000 features each\n",
    "\n",
    "pairs = pair_records_optimal_transport(set1, set2)\n",
    "print(pairs)"
   ]
  },
  {
   "cell_type": "code",
   "execution_count": 11,
   "id": "5e768df8-9b34-40c2-a7c6-cfebe0892859",
   "metadata": {},
   "outputs": [],
   "source": [
    "X_train, X_test, y_train, y_test = train_test_split(X, y_processed, \n",
    "                                                  test_size=0.3, \n",
    "                                                  random_state=42,\n",
    "                                                  )\n",
    "\n",
    "X_train, X_val, y_train, y_val = train_test_split(X_train, y_train, \n",
    "                                                  test_size=0.2, \n",
    "                                                  random_state=42,\n",
    "                                                  )"
   ]
  },
  {
   "cell_type": "code",
   "execution_count": 12,
   "id": "851a99be-454a-4d24-b4ac-405401c9129a",
   "metadata": {},
   "outputs": [],
   "source": [
    "def vae_data_prep(X, y):\n",
    "\n",
    "    # Convert list of lists to a set of tuples to find unique classes\n",
    "    unique_classes = set(tuple(sorted(yi)) for yi in y)\n",
    "    \n",
    "    output_X = []\n",
    "    output_Y = []\n",
    "    labels = []\n",
    "    \n",
    "    # Convert y to a list of tuples for easier comparison\n",
    "    y_tuples = [tuple(sorted(yi)) for yi in y]\n",
    "    \n",
    "    for c in tqdm(unique_classes):\n",
    "        \n",
    "        set1_indices = [i for i, yi in enumerate(y_tuples) if yi == c]\n",
    "        set2_indices = [i for i, yi in enumerate(y_tuples) if yi == (0,0)]\n",
    "        \n",
    "        set1 = X[set1_indices]\n",
    "        set2 = X[set2_indices]\n",
    "        \n",
    "        pairs = pair_records_optimal_transport(set1, set2)\n",
    "        \n",
    "        for p in pairs:\n",
    "            output_X.append(set2[p[1]])\n",
    "            output_Y.append(set1[p[0]])\n",
    "            labels.append(c)\n",
    "    \n",
    "    output_X = np.array(output_X)\n",
    "    output_Y = np.array(output_Y)\n",
    "    \n",
    "    return output_X, output_Y, labels"
   ]
  },
  {
   "cell_type": "code",
   "execution_count": 13,
   "id": "9c2dee6e-eba0-4542-9889-b88c062896a7",
   "metadata": {},
   "outputs": [
    {
     "name": "stderr",
     "output_type": "stream",
     "text": [
      " 27%|██▋       | 63/237 [00:14<00:30,  5.80it/s]/hpcfs/users/a1234104/miniconda3/envs/py310torch/lib/python3.10/site-packages/ot/lp/__init__.py:354: UserWarning: numItermax reached before optimality. Try to increase numItermax.\n",
      "  result_code_string = check_result(result_code)\n",
      "100%|██████████| 237/237 [00:54<00:00,  4.33it/s]\n",
      "100%|██████████| 237/237 [00:02<00:00, 84.19it/s]\n",
      "100%|██████████| 237/237 [00:12<00:00, 19.15it/s]\n"
     ]
    }
   ],
   "source": [
    "X_trainv, Y_trainv, labels_trainv = vae_data_prep(X_train, y_train)\n",
    "X_valv, Y_valv, labels_valv = vae_data_prep(X_val, y_val)\n",
    "X_testv, Y_testv, labels_testv = vae_data_prep(X_test, y_test)"
   ]
  },
  {
   "cell_type": "code",
   "execution_count": 22,
   "id": "50d2cfc6-4603-4259-9102-c6a7b1958422",
   "metadata": {},
   "outputs": [],
   "source": [
    "# pca = PCA(n_components=0.99)\n",
    "\n",
    "t = np.zeros(shape=(X_trainv.shape[0], 128))\n",
    "labels_trainv = np.array(labels_trainv)\n",
    "np.add.at(t, (np.arange(len(labels_trainv)), labels_trainv[:, 0]), 1)\n",
    "np.add.at(t, (np.arange(len(labels_trainv)), labels_trainv[:, 1]), 1)\n",
    "\n",
    "X_train_r = np.hstack([X_trainv, t]) #pca.fit_transform(X_trainv)\n",
    "X_train_r[:,TOP_N_GENES+1] = 0\n",
    "\n",
    "t = np.zeros(shape=(X_valv.shape[0], 128))\n",
    "labels_valv = np.array(labels_valv)\n",
    "np.add.at(t, (np.arange(len(labels_valv)), labels_valv[:, 0]), 1)\n",
    "np.add.at(t, (np.arange(len(labels_valv)), labels_valv[:, 1]), 1)\n",
    "\n",
    "X_val_r = np.hstack([X_valv, t])#pca.transform(X_valv)\n",
    "X_val_r[:,TOP_N_GENES+1] = 0\n",
    "\n",
    "t = np.zeros(shape=(X_testv.shape[0], 128))\n",
    "labels_testv = np.array(labels_testv)\n",
    "np.add.at(t, (np.arange(len(labels_testv)), labels_testv[:, 0]), 1)\n",
    "np.add.at(t, (np.arange(len(labels_testv)), labels_testv[:, 1]), 1)\n",
    "\n",
    "X_test_r = np.hstack([X_testv, t])#pca.transform(X_testv)\n",
    "X_test_r[:,TOP_N_GENES+1] = 0"
   ]
  },
  {
   "cell_type": "code",
   "execution_count": 23,
   "id": "b34576ca-3f94-44a6-9b49-1f21fbdff7e4",
   "metadata": {},
   "outputs": [],
   "source": [
    "Y_train_r = Y_trainv#pca.transform(Y_trainv)\n",
    "Y_val_r = Y_valv#pca.transform(Y_valv)\n",
    "Y_test_r = Y_testv#pca.transform(Y_testv)"
   ]
  },
  {
   "cell_type": "code",
   "execution_count": 24,
   "id": "eb1a8cc2-f5ac-4a55-87b5-390d70c6fdbc",
   "metadata": {},
   "outputs": [],
   "source": [
    "# qt = QuantileTransformer(output_distribution='normal',random_state=42,)\n",
    "# qt.fit(X_trainv)\n",
    "# X_train_r = qt.transform(X_trainv)\n",
    "# X_test_r = qt.transform(X_testv)\n",
    "# X_val_r = qt.transform(X_valv)\n",
    "\n",
    "# Y_train_r = qt.transform(Y_trainv)\n",
    "# Y_test_r = qt.transform(Y_testv)\n",
    "# Y_val_r = qt.transform(Y_valv)"
   ]
  },
  {
   "cell_type": "code",
   "execution_count": 25,
   "id": "e7e7cfcb-b34d-4a7f-8c5a-9dfbe3e07b1d",
   "metadata": {
    "scrolled": true
   },
   "outputs": [],
   "source": [
    "# model = LGBMClassifier(verbose=-1, n_jobs=10)\n",
    "# model.fit(X_train, y_train, eval_set=[(X_val, y_val)], eval_metric='auc_mu',    callbacks=[\n",
    "#         lgb.early_stopping(stopping_rounds=100),\n",
    "#         lgb.log_evaluation(1)\n",
    "#     ])"
   ]
  },
  {
   "cell_type": "code",
   "execution_count": 26,
   "id": "c98f9d6b-baca-4e4e-b211-e9cd148a994e",
   "metadata": {},
   "outputs": [],
   "source": [
    "device = 'cuda:0'"
   ]
  },
  {
   "cell_type": "code",
   "execution_count": 109,
   "id": "997c2a47-dd4f-4ece-995f-db1213c1c87a",
   "metadata": {
    "scrolled": true
   },
   "outputs": [],
   "source": [
    "import torch\n",
    "import torch.nn as nn\n",
    "import torch.optim as optim\n",
    "from torch.utils.data import Dataset, DataLoader\n",
    "\n",
    "class CustomDataset(Dataset):\n",
    "    def __init__(self, X):\n",
    "        self.X = torch.tensor(X, dtype=torch.float32)\n",
    "    \n",
    "    def __len__(self):\n",
    "        return len(self.X)\n",
    "    \n",
    "    def __getitem__(self, idx):\n",
    "        return self.X[idx]\n",
    "\n",
    "class VAE(nn.Module):\n",
    "    def __init__(self, input_dim, latent_dim, hidden_dims):\n",
    "        super(VAE, self).__init__()\n",
    "\n",
    "        self.levels = 8\n",
    "        self.fc_mu = nn.Linear(hidden_dims[-1], latent_dim)\n",
    "        self.fc_logvar = nn.Linear(hidden_dims[-1], latent_dim)\n",
    "        \n",
    "        self.encoder = self.build_encoder(input_dim, latent_dim, hidden_dims)\n",
    "        self.decoder = self.build_decoder(latent_dim, input_dim, hidden_dims)\n",
    "        \n",
    "        # Initialize the thresholds for the splits\n",
    "        self.thresholds = torch.randn(2**(self.levels+1)-1).to(device)\n",
    "\n",
    "    def build_encoder(self, input_dim, latent_dim, hidden_dims):\n",
    "        layers = []\n",
    "        for h_dim in hidden_dims:\n",
    "            layers.append(nn.Linear(input_dim, h_dim))\n",
    "            layers.append(nn.ReLU())\n",
    "            layers.append(nn.Dropout(0.2)) \n",
    "            input_dim = h_dim\n",
    "        return nn.Sequential(*layers)\n",
    "    \n",
    "    def build_decoder(self, latent_dim, output_dim, hidden_dims):\n",
    "        layers = []\n",
    "        hidden_dims.reverse()\n",
    "        for h_dim in hidden_dims:\n",
    "            layers.append(nn.Linear(latent_dim, h_dim))\n",
    "            layers.append(nn.ReLU())\n",
    "            latent_dim = h_dim\n",
    "        layers.append(nn.Linear(hidden_dims[-1], output_dim))\n",
    "        layers.append(nn.Sigmoid())\n",
    "        return nn.Sequential(*layers)\n",
    "\n",
    "    def encode(self, x):\n",
    "        h = self.encoder(x)\n",
    "        mu = self.fc_mu(h)\n",
    "        logvar = self.fc_logvar(h)\n",
    "        return mu, logvar\n",
    "    \n",
    "    def reparameterize(self, mu, logvar):\n",
    "        std = torch.exp(0.5 * logvar)\n",
    "        eps = torch.randn_like(std)\n",
    "        return mu + eps * std\n",
    "\n",
    "    def mask(self, z):\n",
    "        levels = self.levels\n",
    "        mask = (z[:, :2**(levels+1)-1] > self.thresholds).float()\n",
    "        for level in range(1, levels+1):\n",
    "            nonzero = torch.zeros(z.shape[0]).to(device)\n",
    "            for i in range(2 ** level - 1, 2 ** (level + 1) - 1):\n",
    "                if (nonzero > 0).any():\n",
    "                    mask[nonzero > 0, i] = 0\n",
    "    \n",
    "                parent_index = i // 2\n",
    "                if i % 2 == 0:  # For even indices, mask if parent (i//2 - 1) is masked\n",
    "                    mask[nonzero == 0, i] *= mask[nonzero == 0, parent_index - 1]\n",
    "                else:  # For odd indices, mask if parent (i//2) is masked\n",
    "                    mask[nonzero == 0, i] *= mask[nonzero == 0, parent_index]\n",
    "    \n",
    "                nonzero += mask[:, i]\n",
    "    \n",
    "            if (nonzero == 0).any():\n",
    "                # Calculate differences between node values and thresholds\n",
    "                differences = torch.abs(z[nonzero == 0, 2 ** level - 1:2 ** (level + 1) - 1] - self.thresholds[2 ** level - 1:2 ** (level + 1) - 1])\n",
    "                # Find the index of the node with the smallest difference for each record\n",
    "                min_difference_indices = torch.argmin(differences, dim=1)\n",
    "                # Activate the node with the smallest difference for each record\n",
    "                mask[nonzero == 0, 2 ** level - 1 + min_difference_indices] = 1\n",
    "\n",
    "        return torch.cat([mask * (z[:,:2**(levels+1)-1]) , z[:,2**(levels+1)-1:]], axis=1)\n",
    "\n",
    "    # def mask_last_v1(self, z):\n",
    "    #     levels = self.levels\n",
    "    #     mask = (z[:, :2**(levels+1)-1] > self.thresholds).float()\n",
    "    #     for level in range(1, levels+1):\n",
    "    #         nonzero = torch.zeros(z.shape[0]).to(device)\n",
    "    #         for i in range(2 ** level - 1, 2 ** (level + 1) - 1):\n",
    "    #             if (nonzero > 0).any():\n",
    "    #                 mask[nonzero > 0, i] = 0\n",
    "    \n",
    "    #             parent_index = i // 2\n",
    "    #             if i % 2 == 0:  # For even indices, mask if parent (i//2 - 1) is masked\n",
    "    #                 mask[nonzero == 0, i] *= mask[nonzero == 0, parent_index - 1]\n",
    "    #             else:  # For odd indices, mask if parent (i//2) is masked\n",
    "    #                 mask[nonzero == 0, i] *= mask[nonzero == 0, parent_index]\n",
    "                \n",
    "    #             nonzero += mask[:, i]\n",
    "                \n",
    "    #         if (nonzero == 0).any():\n",
    "    #             mask[nonzero == 0, i] = 1\n",
    "                \n",
    "    #     return torch.cat([mask * (z[:,:2**(levels+1)-1]) , z[:,2**(levels+1)-1:]], axis=1)    \n",
    "\n",
    "\n",
    "    # def mask_v2(self, z):\n",
    "    #     # Create a binary mask\n",
    "    #     binary_mask = torch.zeros_like(z[:,:128])\n",
    "        \n",
    "    #     # Iterate over each feature in the latent space\n",
    "    #     for i in range(z[:,:128].size(1)):\n",
    "    #         # If the feature value is greater than the threshold, set the mask value to 1\n",
    "    #         binary_mask[:, i] = (z[:, i] > self.thresholds[i]).float()\n",
    "            \n",
    "    #         # For odd indices, mask if parent (i//2) is zero\n",
    "    #         if i % 2 != 0:\n",
    "    #             binary_mask[:, i] *= (binary_mask[:, i//2] == 0).float()\n",
    "    #         # For even indices, mask if parent (i//2 - 1) is > 0\n",
    "    #         elif i % 2 == 0 and i > 0:\n",
    "    #             binary_mask[:, i] *= (binary_mask[:, i//2 - 1] > 0).float()\n",
    "        \n",
    "    #     # Apply the binary mask to the latent space\n",
    "    #     z_masked = binary_mask * z[:,:128]\n",
    "        \n",
    "    #     return torch.cat([z_masked, z[:,128:]], axis=1)\n",
    "\n",
    "        \n",
    "    # def mask_v1(self, z):\n",
    "    #     mask = (z[:,:127] > self.thresholds).float()\n",
    "    #     for i in range(1, len(mask)):\n",
    "    #         if i % 2 == 0:  # For even indices, mask if parent (i//2 - 1) is masked\n",
    "    #             mask[i] *= mask[i//2 - 1]\n",
    "    #         else:  # For odd indices, mask if parent (i//2) is masked\n",
    "    #             mask[i] *= mask[i//2]\n",
    "                \n",
    "    #     return torch.cat([mask * z[:,:127], z[:,127:]], axis=1)\n",
    "\n",
    "    # def mask_v3_working(self,z):\n",
    "    #     mask = (z[:, :127] > self.thresholds).float()\n",
    "    #     #mask[:, 0] = 1\n",
    "    #     for level in range(1, 7):\n",
    "    #         nonzero = torch.zeros(z.shape[0]).to(device)\n",
    "    #         for i in range(2 ** level - 1, 2 ** (level + 1) - 1):\n",
    "    #             #\n",
    "    #             if (nonzero > 0).any():\n",
    "    #                 mask[nonzero > 0, i] = 0\n",
    "    \n",
    "    #             parent_index = i // 2\n",
    "    #             if i % 2 == 0:  # For even indices, mask if parent (i//2 - 1) is masked\n",
    "    #                 mask[nonzero == 0, i] *= mask[nonzero == 0, parent_index - 1]\n",
    "    #             else:  # For odd indices, mask if parent (i//2) is masked\n",
    "    #                 mask[nonzero == 0, i] *= mask[nonzero == 0, parent_index]\n",
    "                \n",
    "    #             nonzero += mask[:, i]\n",
    "                \n",
    "    #         if (nonzero == 0).any():\n",
    "    #             mask[nonzero == 0, i] = 1\n",
    "\n",
    "    #     return torch.cat([mask * (z[:,:127]) , z[:,127:]], axis=1) #* (z[:,:127])\n",
    "    \n",
    "    \n",
    "    # def mask_v11(self, z):\n",
    "    #     mask = (z[:,:128] > self.thresholds).float()\n",
    "    #     for level in range(6): \n",
    "    #         nonzero = False\n",
    "    #         for i in range(2**level, 2**(level+1)):\n",
    "                \n",
    "    #             if i % 2 == 0:  # For even indices, mask if parent (i//2 - 1) is masked\n",
    "    #                 mask[i] *= mask[i//2 - 1]\n",
    "    #             else:  # For odd indices, mask if parent (i//2) is masked\n",
    "    #                 mask[i] *= mask[i//2]\n",
    "    #             if mask[i] > 0:\n",
    "    #                 nonzero = True\n",
    "    #         if nonzero==False:\n",
    "    #             mask[i] = 1\n",
    "    #         else:\n",
    "    #             nonzero = False\n",
    "                    \n",
    "    #     return torch.cat([mask * z[:,:127], z[:,127:]], axis=1)\n",
    "\n",
    "    \n",
    "    def decode(self, z):\n",
    "        return self.decoder(z)\n",
    "    \n",
    "    def forward(self, x, perturbs = []):\n",
    "        mu, logvar = self.encode(x.to(device))\n",
    "        z = self.reparameterize(mu, logvar)\n",
    "        z_p = z.clone()\n",
    "\n",
    "        z[:,:(2**(self.levels+1))-1] *= 0\n",
    "        z_p = self.mask(z_p)  # Apply the mask before decoding\n",
    "        \n",
    "        # Perturbation introduced at the latent space level\n",
    "        # for pert_n in perturbs:\n",
    "        #     perturbs_tensor = pert_n.to(device)\n",
    "    \n",
    "        #     non_zero_batch_indices = perturbs_tensor.nonzero(as_tuple=False)\n",
    "        #     dim_pert = perturbs_tensor[non_zero_batch_indices]\n",
    "        #     dim_pert = dim_pert.type(torch.int16).cpu().numpy()\n",
    "        #     z_p[non_zero_batch_indices, dim_pert + 128] += 500\n",
    "        \n",
    "        pert_x = self.decode(z_p)\n",
    "        recon_x = self.decode(z)\n",
    "        \n",
    "        return pert_x, recon_x, mu, logvar\n",
    "\n",
    "        \n",
    "def vae_loss(pert_x, y, recon_x, x, mu, logvar, levels):\n",
    "    x = x.to(device)\n",
    "    recon_loss = nn.functional.mse_loss(recon_x[:,:TOP_N_GENES], x[:,:TOP_N_GENES], reduction='sum')\n",
    "    pert_loss = nn.functional.mse_loss(pert_x[:,:TOP_N_GENES], y[:,:TOP_N_GENES], reduction='sum')\n",
    "    kl_loss = -0.5 * torch.sum(1 + logvar[:,(2**(levels+1))-1:] - mu[:,(2**(levels+1))-1:].pow(2) - logvar[:,(2**(levels+1))-1:].exp())\n",
    "    return recon_loss, pert_loss, kl_loss #\n",
    "\n",
    "def train_vae(model, train_loader, val_loader, epochs, learning_rate=1e-3,step_size=5, gamma=0.1, patience=7):\n",
    "    optimizer = optim.Adam(model.parameters(), lr=learning_rate)\n",
    "    scheduler = torch.optim.lr_scheduler.StepLR(optimizer, step_size=step_size, gamma=gamma)\n",
    "    model.train()\n",
    "    \n",
    "    best_loss = 1e6\n",
    "    \n",
    "    train_losses = []\n",
    "    val_losses = []\n",
    "    no_improve_epochs = 0\n",
    "    for epoch in range(epochs):\n",
    "        total_train_recon_loss = 0\n",
    "        total_train_pert_loss = 0\n",
    "        total_train_kl_loss = 0\n",
    "        for batch_ctrl, batch_pert, pert_labels in train_loader:\n",
    "            optimizer.zero_grad()\n",
    "            batch_ctrl = batch_ctrl.to(device)\n",
    "            batch_pert = batch_pert.to(device)\n",
    "                        \n",
    "            pert_x, recon_x, mu, logvar = model(batch_ctrl, pert_labels)\n",
    "            \n",
    "            z = model.reparameterize(mu, logvar)\n",
    "            recon_loss, pert_loss, kl_loss = vae_loss(pert_x, batch_pert, recon_x, batch_ctrl, mu, logvar, levels=model.levels)\n",
    "            loss = recon_loss + pert_loss + kl_loss\n",
    "            loss.backward()\n",
    "            optimizer.step()\n",
    "            total_train_recon_loss += recon_loss.item()\n",
    "            total_train_pert_loss += pert_loss.item()\n",
    "            total_train_kl_loss += kl_loss.item()\n",
    "        \n",
    "        scheduler.step()\n",
    "        print(f\"----Current LR is {scheduler.get_lr()}----\")\n",
    "        avg_train_recon_loss = total_train_recon_loss / len(train_loader.dataset)\n",
    "        avg_train_pert_loss = total_train_pert_loss / len(train_loader.dataset)\n",
    "        avg_train_kl_loss = total_train_kl_loss / len(train_loader.dataset)\n",
    "        train_losses.append((avg_train_recon_loss, avg_train_pert_loss, avg_train_kl_loss))\n",
    "        \n",
    "        model.eval()\n",
    "        total_val_recon_loss = 0\n",
    "        total_val_pert_loss = 0\n",
    "        total_val_kl_loss = 0\n",
    "        with torch.no_grad():\n",
    "            for batch_ctrl, batch_pert, pert_labels in val_loader:\n",
    "\n",
    "                batch_ctrl = batch_ctrl.to(device)\n",
    "                batch_pert = batch_pert.to(device)\n",
    "                                \n",
    "                pert_x, recon_x, mu, logvar = model(batch_ctrl, pert_labels)\n",
    "                z = model.reparameterize(mu, logvar)\n",
    "                recon_loss, pert_loss, kl_loss = vae_loss(pert_x, batch_pert, recon_x, batch_ctrl, mu, logvar, levels=model.levels)\n",
    "                total_val_recon_loss += recon_loss.item()\n",
    "                total_val_pert_loss += pert_loss.item()\n",
    "                total_val_kl_loss += kl_loss.item()\n",
    "        \n",
    "        avg_val_recon_loss = total_val_recon_loss / len(val_loader.dataset)\n",
    "        avg_val_pert_loss = total_val_pert_loss / len(val_loader.dataset)\n",
    "        avg_val_kl_loss = total_val_kl_loss / len(val_loader.dataset)\n",
    "        val_losses.append((avg_val_recon_loss, avg_val_pert_loss, avg_val_kl_loss))\n",
    "        \n",
    "        current_loss = avg_val_recon_loss + avg_val_pert_loss + avg_val_kl_loss\n",
    "        if current_loss < best_loss:\n",
    "            best_loss = current_loss\n",
    "            no_improve_epochs = 0\n",
    "        else:\n",
    "            no_improve_epochs += 1\n",
    "            if no_improve_epochs >= patience:\n",
    "                print(f'Early stopping at epoch {epoch+1}')\n",
    "                break\n",
    "        \n",
    "        model.train()\n",
    "\n",
    "        # Plotting the losses\n",
    "        clear_output(wait=True)\n",
    "        fig, ax = plt.subplots(3, 1, sharex=True, sharey=False, figsize=(10, 7))\n",
    "        \n",
    "        # Calculate minimum loss values\n",
    "        min_train_recon_loss = min([x[0] for x in train_losses])\n",
    "        min_train_pert_loss = min([x[1] for x in train_losses])\n",
    "        min_train_kl_loss = min([x[2] for x in train_losses])\n",
    "        min_val_recon_loss = min([x[0] for x in val_losses])\n",
    "        min_val_pert_loss = min([x[1] for x in val_losses])\n",
    "        min_val_kl_loss = min([x[2] for x in val_losses])\n",
    "        \n",
    "        # Plot training losses\n",
    "        ax[0].plot([x[0] for x in train_losses], label='Train Recon Loss')\n",
    "        ax[0].set_title(f'Min Train Recon Loss: {min_train_recon_loss:.2E}')\n",
    "        ax[1].plot([x[1] for x in train_losses], label='Train Pert Loss')\n",
    "        ax[1].set_title(f'Min Train Pert Loss: {min_train_pert_loss:.2E}')\n",
    "        ax[2].plot([x[2] for x in train_losses], label='Train KL Loss')\n",
    "        ax[2].set_title(f'Min Train KL Loss: {min_train_kl_loss:.2E}')\n",
    "        \n",
    "        # Plot validation losses\n",
    "        ax[0].plot([x[0] for x in val_losses], label=f'Val Recon Loss; Best: {np.argmin([x[0] for x in val_losses])}')\n",
    "        ax[0].set_title(f'Min Val Recon Loss: {min_val_recon_loss:.2E}')\n",
    "        ax[1].plot([x[1] for x in val_losses], label=f'Val Pert Loss; Best: {np.argmin([x[1] for x in val_losses])}')\n",
    "        ax[1].set_title(f'Min Val Pert Loss: {min_val_pert_loss:.2E}')\n",
    "        ax[2].plot([x[2] for x in val_losses], label=f'Val KL Loss; Best: {np.argmin([x[2] for x in val_losses])}')\n",
    "        ax[2].set_title(f'Min Val KL Loss: {min_val_kl_loss:.2E}')\n",
    "        \n",
    "        # Add legends\n",
    "        ax[0].legend()\n",
    "        ax[1].legend()\n",
    "        ax[2].legend()\n",
    "        plt.show()\n"
   ]
  },
  {
   "cell_type": "code",
   "execution_count": 110,
   "id": "29cb7792-24eb-45b8-81a9-47bbd39adc87",
   "metadata": {},
   "outputs": [],
   "source": [
    "class CustomDataset(Dataset):\n",
    "    def __init__(self, X, Y, labels):\n",
    "        self.X = torch.tensor(X, dtype=torch.float32)\n",
    "        self.Y = torch.tensor(Y, dtype=torch.float32)\n",
    "        self.labels = labels\n",
    "    \n",
    "    def __len__(self):\n",
    "        return len(self.X)\n",
    "    \n",
    "    def __getitem__(self, idx):\n",
    "        return self.X[idx], self.Y[idx], self.labels[idx]\n",
    "\n",
    "\n",
    "train_dataset = CustomDataset(X_train_r[:,:], Y_train_r[:,:], labels_trainv)\n",
    "val_dataset = CustomDataset(X_val_r[:,:], Y_val_r[:,:], labels_valv)\n",
    "\n",
    "train_loader = DataLoader(train_dataset, batch_size=512, shuffle=True)\n",
    "val_loader = DataLoader(val_dataset, batch_size=512, shuffle=False)\n",
    "\n",
    "input_dim = X_train_r.shape[1]\n",
    "latent_dim = 600\n",
    "hidden_dims = [1024, 768,]\n",
    "epochs = 800\n",
    "learning_rate = 1e-3\n",
    "\n",
    "vae = VAE(input_dim, latent_dim, hidden_dims).to(device)"
   ]
  },
  {
   "cell_type": "code",
   "execution_count": 111,
   "id": "2bc092fa-2a6b-42f2-96da-859651b09cac",
   "metadata": {},
   "outputs": [
    {
     "name": "stdout",
     "output_type": "stream",
     "text": [
      "[  0   7  33 385]\n",
      "tensor(9., device='cuda:0') tensor(0, device='cuda:0') 4 4\n",
      "[  3   7  33 169]\n",
      "tensor(8., device='cuda:0') tensor(0, device='cuda:0') 4 4\n",
      "[  2   6  25  51 185 372]\n",
      "tensor(8., device='cuda:0') tensor(0, device='cuda:0') 6 6\n",
      "[  1   3   8  17 103 417]\n",
      "tensor(8., device='cuda:0') tensor(0, device='cuda:0') 6 6\n",
      "[  3 103 338]\n",
      "tensor(8., device='cuda:0') tensor(0, device='cuda:0') 3 3\n",
      "[  8  35  96 194]\n",
      "tensor(8., device='cuda:0') tensor(0, device='cuda:0') 4 4\n",
      "[  1   3  14  29  63 127]\n",
      "tensor(8., device='cuda:0') tensor(0, device='cuda:0') 6 6\n",
      "[ 1  9 79]\n",
      "tensor(8., device='cuda:0') tensor(0, device='cuda:0') 3 3\n"
     ]
    },
    {
     "ename": "TypeError",
     "evalue": "'Tensor' object is not callable",
     "output_type": "error",
     "traceback": [
      "\u001b[0;31m---------------------------------------------------------------------------\u001b[0m",
      "\u001b[0;31mTypeError\u001b[0m                                 Traceback (most recent call last)",
      "Cell \u001b[0;32mIn[111], line 1\u001b[0m\n\u001b[0;32m----> 1\u001b[0m \u001b[43mtrain_vae\u001b[49m\u001b[43m(\u001b[49m\u001b[43mvae\u001b[49m\u001b[43m,\u001b[49m\u001b[43m \u001b[49m\u001b[43mtrain_loader\u001b[49m\u001b[43m,\u001b[49m\u001b[43m \u001b[49m\u001b[43mval_loader\u001b[49m\u001b[43m,\u001b[49m\u001b[43m \u001b[49m\u001b[43mepochs\u001b[49m\u001b[43m,\u001b[49m\u001b[43m \u001b[49m\u001b[43mlearning_rate\u001b[49m\u001b[43m,\u001b[49m\u001b[43m \u001b[49m\u001b[43mgamma\u001b[49m\u001b[38;5;241;43m=\u001b[39;49m\u001b[38;5;241;43m0.7\u001b[39;49m\u001b[43m)\u001b[49m\n",
      "Cell \u001b[0;32mIn[109], line 255\u001b[0m, in \u001b[0;36mtrain_vae\u001b[0;34m(model, train_loader, val_loader, epochs, learning_rate, step_size, gamma, patience)\u001b[0m\n\u001b[1;32m    252\u001b[0m batch_ctrl \u001b[38;5;241m=\u001b[39m batch_ctrl\u001b[38;5;241m.\u001b[39mto(device)\n\u001b[1;32m    253\u001b[0m batch_pert \u001b[38;5;241m=\u001b[39m batch_pert\u001b[38;5;241m.\u001b[39mto(device)\n\u001b[0;32m--> 255\u001b[0m pert_x, recon_x, mu, logvar \u001b[38;5;241m=\u001b[39m \u001b[43mmodel\u001b[49m\u001b[43m(\u001b[49m\u001b[43mbatch_ctrl\u001b[49m\u001b[43m,\u001b[49m\u001b[43m \u001b[49m\u001b[43mpert_labels\u001b[49m\u001b[43m)\u001b[49m\n\u001b[1;32m    257\u001b[0m z \u001b[38;5;241m=\u001b[39m model\u001b[38;5;241m.\u001b[39mreparameterize(mu, logvar)\n\u001b[1;32m    258\u001b[0m recon_loss, pert_loss, kl_loss \u001b[38;5;241m=\u001b[39m vae_loss(pert_x, batch_pert, recon_x, batch_ctrl, mu, logvar, levels\u001b[38;5;241m=\u001b[39mmodel\u001b[38;5;241m.\u001b[39mlevels)\n",
      "File \u001b[0;32m/hpcfs/users/a1234104/miniconda3/envs/py310torch/lib/python3.10/site-packages/torch/nn/modules/module.py:1532\u001b[0m, in \u001b[0;36mModule._wrapped_call_impl\u001b[0;34m(self, *args, **kwargs)\u001b[0m\n\u001b[1;32m   1530\u001b[0m     \u001b[38;5;28;01mreturn\u001b[39;00m \u001b[38;5;28mself\u001b[39m\u001b[38;5;241m.\u001b[39m_compiled_call_impl(\u001b[38;5;241m*\u001b[39margs, \u001b[38;5;241m*\u001b[39m\u001b[38;5;241m*\u001b[39mkwargs)  \u001b[38;5;66;03m# type: ignore[misc]\u001b[39;00m\n\u001b[1;32m   1531\u001b[0m \u001b[38;5;28;01melse\u001b[39;00m:\n\u001b[0;32m-> 1532\u001b[0m     \u001b[38;5;28;01mreturn\u001b[39;00m \u001b[38;5;28;43mself\u001b[39;49m\u001b[38;5;241;43m.\u001b[39;49m\u001b[43m_call_impl\u001b[49m\u001b[43m(\u001b[49m\u001b[38;5;241;43m*\u001b[39;49m\u001b[43margs\u001b[49m\u001b[43m,\u001b[49m\u001b[43m \u001b[49m\u001b[38;5;241;43m*\u001b[39;49m\u001b[38;5;241;43m*\u001b[39;49m\u001b[43mkwargs\u001b[49m\u001b[43m)\u001b[49m\n",
      "File \u001b[0;32m/hpcfs/users/a1234104/miniconda3/envs/py310torch/lib/python3.10/site-packages/torch/nn/modules/module.py:1541\u001b[0m, in \u001b[0;36mModule._call_impl\u001b[0;34m(self, *args, **kwargs)\u001b[0m\n\u001b[1;32m   1536\u001b[0m \u001b[38;5;66;03m# If we don't have any hooks, we want to skip the rest of the logic in\u001b[39;00m\n\u001b[1;32m   1537\u001b[0m \u001b[38;5;66;03m# this function, and just call forward.\u001b[39;00m\n\u001b[1;32m   1538\u001b[0m \u001b[38;5;28;01mif\u001b[39;00m \u001b[38;5;129;01mnot\u001b[39;00m (\u001b[38;5;28mself\u001b[39m\u001b[38;5;241m.\u001b[39m_backward_hooks \u001b[38;5;129;01mor\u001b[39;00m \u001b[38;5;28mself\u001b[39m\u001b[38;5;241m.\u001b[39m_backward_pre_hooks \u001b[38;5;129;01mor\u001b[39;00m \u001b[38;5;28mself\u001b[39m\u001b[38;5;241m.\u001b[39m_forward_hooks \u001b[38;5;129;01mor\u001b[39;00m \u001b[38;5;28mself\u001b[39m\u001b[38;5;241m.\u001b[39m_forward_pre_hooks\n\u001b[1;32m   1539\u001b[0m         \u001b[38;5;129;01mor\u001b[39;00m _global_backward_pre_hooks \u001b[38;5;129;01mor\u001b[39;00m _global_backward_hooks\n\u001b[1;32m   1540\u001b[0m         \u001b[38;5;129;01mor\u001b[39;00m _global_forward_hooks \u001b[38;5;129;01mor\u001b[39;00m _global_forward_pre_hooks):\n\u001b[0;32m-> 1541\u001b[0m     \u001b[38;5;28;01mreturn\u001b[39;00m \u001b[43mforward_call\u001b[49m\u001b[43m(\u001b[49m\u001b[38;5;241;43m*\u001b[39;49m\u001b[43margs\u001b[49m\u001b[43m,\u001b[49m\u001b[43m \u001b[49m\u001b[38;5;241;43m*\u001b[39;49m\u001b[38;5;241;43m*\u001b[39;49m\u001b[43mkwargs\u001b[49m\u001b[43m)\u001b[49m\n\u001b[1;32m   1543\u001b[0m \u001b[38;5;28;01mtry\u001b[39;00m:\n\u001b[1;32m   1544\u001b[0m     result \u001b[38;5;241m=\u001b[39m \u001b[38;5;28;01mNone\u001b[39;00m\n",
      "Cell \u001b[0;32mIn[109], line 197\u001b[0m, in \u001b[0;36mVAE.forward\u001b[0;34m(self, x, perturbs)\u001b[0m\n\u001b[1;32m    194\u001b[0m z_p \u001b[38;5;241m=\u001b[39m z\u001b[38;5;241m.\u001b[39mclone()\n\u001b[1;32m    196\u001b[0m z[:,:(\u001b[38;5;241m2\u001b[39m\u001b[38;5;241m*\u001b[39m\u001b[38;5;241m*\u001b[39m(\u001b[38;5;28mself\u001b[39m\u001b[38;5;241m.\u001b[39mlevels\u001b[38;5;241m+\u001b[39m\u001b[38;5;241m1\u001b[39m))\u001b[38;5;241m-\u001b[39m\u001b[38;5;241m1\u001b[39m] \u001b[38;5;241m*\u001b[39m\u001b[38;5;241m=\u001b[39m \u001b[38;5;241m0\u001b[39m\n\u001b[0;32m--> 197\u001b[0m z_p \u001b[38;5;241m=\u001b[39m \u001b[38;5;28;43mself\u001b[39;49m\u001b[38;5;241;43m.\u001b[39;49m\u001b[43mmask\u001b[49m\u001b[43m(\u001b[49m\u001b[43mz_p\u001b[49m\u001b[43m)\u001b[49m  \u001b[38;5;66;03m# Apply the mask before decoding\u001b[39;00m\n\u001b[1;32m    200\u001b[0m \u001b[38;5;66;03m############# DEBUGGING #############\u001b[39;00m\n\u001b[1;32m    201\u001b[0m n_dims_g \u001b[38;5;241m=\u001b[39m (\u001b[38;5;241m2\u001b[39m\u001b[38;5;241m*\u001b[39m\u001b[38;5;241m*\u001b[39m(\u001b[38;5;28mself\u001b[39m\u001b[38;5;241m.\u001b[39mlevels\u001b[38;5;241m+\u001b[39m\u001b[38;5;241m1\u001b[39m))\u001b[38;5;241m-\u001b[39m\u001b[38;5;241m1\u001b[39m\n",
      "\u001b[0;31mTypeError\u001b[0m: 'Tensor' object is not callable"
     ]
    }
   ],
   "source": [
    "train_vae(vae, train_loader, val_loader, epochs, learning_rate, gamma=0.7)"
   ]
  },
  {
   "cell_type": "code",
   "execution_count": 139,
   "id": "6e9f1db5-b0da-487a-b1d7-6b7dba50a432",
   "metadata": {
    "jupyter": {
     "source_hidden": true
    }
   },
   "outputs": [],
   "source": [
    "# def mask(z, thresholds):\n",
    "#     mask = (np.array(z[:127]) > thresholds).astype(float)\n",
    "#     mask[0] = 1\n",
    "#     for level in range(1, 7):\n",
    "#         nonzero = 0\n",
    "#         for i in range(2 ** level - 1, 2 ** (level + 1) - 1):\n",
    "#             if nonzero > 0:\n",
    "#                 mask[i] = 0\n",
    "\n",
    "#             parent_index = i // 2\n",
    "#             if i % 2 == 0:  # For even indices, mask if parent (i//2 - 1) is masked\n",
    "#                 mask[i] *= mask[parent_index - 1]\n",
    "#             else:  # For odd indices, mask if parent (i//2) is masked\n",
    "#                 mask[i] *= mask[parent_index]\n",
    "\n",
    "#             if mask[i] > 0:\n",
    "#                 nonzero += 1\n",
    "\n",
    "#         if nonzero == 0:\n",
    "#             mask[i] = 1\n",
    "#             nonzero = 0\n",
    "#         else:\n",
    "#             nonzero = 0\n",
    "\n",
    "#     return mask\n"
   ]
  },
  {
   "cell_type": "code",
   "execution_count": 69,
   "id": "47c9d935-ca63-487d-b4d0-dbd7dceadb58",
   "metadata": {},
   "outputs": [],
   "source": [
    "# For testing, you can run the model in evaluation mode\n",
    "n_dims_g = 2**(vae.levels+1)-1\n",
    "vae.eval()\n",
    "with torch.no_grad():\n",
    "    for batch_ctrl, batch_pert, pert_labels in val_loader:\n",
    "        pert_x, recon_x, mu, logvar = vae(batch_ctrl, pert_labels)\n",
    "        z = vae.reparameterize(mu, logvar)\n",
    "        masked_z = vae.mask(z)[:,:n_dims_g].cpu().numpy()\n",
    "        break"
   ]
  },
  {
   "cell_type": "code",
   "execution_count": 112,
   "id": "17ef5ccb-7b6d-4787-add0-7b1edf64bb84",
   "metadata": {},
   "outputs": [
    {
     "name": "stdout",
     "output_type": "stream",
     "text": [
      "0_14 : 9.0\n",
      "0_5 : 2.245954174010575\n",
      "0_51 : 1.791185165278151\n",
      "0_60 : 1.8342357351103706\n",
      "0_69 : 3.2837946788497714\n",
      "10_61 : 2.4767561983471076\n",
      "15_30 : 1.8677930056710774\n",
      "15_94 : 3.309171597633136\n",
      "7_17 : 2.952005259697567\n",
      "9_70 : 3.041322314049587\n"
     ]
    }
   ],
   "source": [
    "pert_labels_s = np.core.defchararray.add(pert_labels[:,0].cpu().numpy().astype(str), '_')\n",
    "pert_labels_s = np.char.add(pert_labels_s, pert_labels[:,1].cpu().numpy().astype(str))\n",
    "\n",
    "all_perts = np.unique(pert_labels_s)\n",
    "\n",
    "for pert in range(all_perts.shape[0]):\n",
    "    temp = masked_z[pert_labels_s==all_perts[pert]]\n",
    "    distance_mtx = np.zeros(shape=(temp.shape[0],temp.shape[0]))\n",
    "    for i in range(temp.shape[0]):\n",
    "        for j in range(temp.shape[0]):\n",
    "            \n",
    "            inds1 = np.arange(temp.shape[1])[(temp[i]!=0)]#[i,-temp.shape[1]:]]\n",
    "            inds2 = np.arange(temp.shape[1])[(temp[j]!=0)]#[j,-temp.shape[1]:]]\n",
    "            distance_mtx[i,j] = len(set(inds1.tolist()).intersection(set(inds2.tolist())))\n",
    "            \n",
    "    print(all_perts[pert], ':', distance_mtx.mean())"
   ]
  },
  {
   "cell_type": "code",
   "execution_count": 113,
   "id": "25c8e0ee-bcc4-4e48-ac03-873dd8cfeb2f",
   "metadata": {},
   "outputs": [
    {
     "name": "stdout",
     "output_type": "stream",
     "text": [
      "[  0   2   5  11  23  47  94 190 381]\n",
      "[  1   3   8  18  38  77 147 295]\n",
      "[  0   2   5  11  24  49  99 200 268]\n",
      "[  1   3   8  17  35  71 144 290]\n",
      "[  0   2   5  11  23  47  95 191 383]\n",
      "[  0   1   3   7  16  33  68 137 275]\n",
      "[  0   1   3   7  16  33  68 137 275]\n",
      "[  0   1   3   7  16  33  68 137 275]\n",
      "[  0   1   3   7  16  33  68 137 275]\n",
      "[  0   2   5  11  23  47  70 234 469]\n",
      "_______________________\n",
      "[  0   2   5  11  23  47  94 190 381]\n",
      "[  0   1   3   7  16  33  68 137 275]\n",
      "[  1   3  13  17  35  71 144 290]\n",
      "[  1   3   8  17  35  71 144 290]\n",
      "[  1   3   8  17  35  71 144 290]\n",
      "[  0   2   5  11  23  47  96 193 445]\n",
      "[  1   3   8  18  38  77 162 325]\n",
      "[  0   1   3   8  17  35  71 144 290]\n",
      "[  1   3   8  18  38  77 243 311]\n",
      "[  0   2   5  11  23  47  96 193 388]\n"
     ]
    }
   ],
   "source": [
    "for i in range(10):\n",
    "    print(np.arange(n_dims_g)[(masked_z!=0)[i,:]])\n",
    "print('_______________________')\n",
    "for i in range(10):\n",
    "    print(np.arange(n_dims_g)[(masked_z!=0)[-i,:]])"
   ]
  },
  {
   "cell_type": "code",
   "execution_count": 115,
   "id": "1c5d83e8-e632-41d8-b4a9-84a4fbc41411",
   "metadata": {},
   "outputs": [
    {
     "name": "stderr",
     "output_type": "stream",
     "text": [
      "100%|██████████| 512/512 [00:16<00:00, 31.74it/s]\n"
     ]
    }
   ],
   "source": [
    "n_dims = n_dims_g\n",
    "paths = []\n",
    "distance_mtx = np.zeros((512,512))\n",
    "for i in tqdm(range(512)):\n",
    "    for j in range(512):\n",
    "        inds1 = np.arange(n_dims)[(masked_z!=0)[i,-n_dims:]]\n",
    "        inds2 = np.arange(n_dims)[(masked_z!=0)[j,-n_dims:]]\n",
    "        distance_mtx[i,j] = len(set(inds1.tolist()).intersection(set(inds2.tolist())))#/(min(len(inds1),len(inds2))+1)\n",
    "        #distance_mtx[i,j] = 2*len(set(inds1.tolist()).intersection(set(inds2.tolist())))/(len(inds1)+len(inds2)+1)"
   ]
  },
  {
   "cell_type": "code",
   "execution_count": null,
   "id": "3b1de545-ba52-4f12-8a78-2ed5d1a85a25",
   "metadata": {},
   "outputs": [],
   "source": []
  },
  {
   "cell_type": "code",
   "execution_count": 116,
   "id": "2eb88596-8b2d-43d4-891f-91f5b9db32a6",
   "metadata": {},
   "outputs": [
    {
     "data": {
      "text/plain": [
       "(3.25, 3.041322314049587, 2.2240259740259742)"
      ]
     },
     "execution_count": 116,
     "metadata": {},
     "output_type": "execute_result"
    }
   ],
   "source": [
    "distance_mtx[11:39,11:39].mean(), distance_mtx[:11,:11].mean(), distance_mtx[11:39,:11].mean()"
   ]
  },
  {
   "cell_type": "code",
   "execution_count": 117,
   "id": "da180e26-1013-41e0-b917-531a69ac03b4",
   "metadata": {},
   "outputs": [
    {
     "data": {
      "text/plain": [
       "1.7614250183105469"
      ]
     },
     "execution_count": 117,
     "metadata": {},
     "output_type": "execute_result"
    }
   ],
   "source": [
    "distance_mtx.mean()"
   ]
  },
  {
   "cell_type": "code",
   "execution_count": 118,
   "id": "93b03458-fb23-42e8-9c15-a6d42ca26678",
   "metadata": {},
   "outputs": [
    {
     "data": {
      "text/plain": [
       "<Axes: >"
      ]
     },
     "execution_count": 118,
     "metadata": {},
     "output_type": "execute_result"
    },
    {
     "data": {
      "image/png": "[encoded data removed]",
      "text/plain": [
       "<Figure size 640x480 with 2 Axes>"
      ]
     },
     "metadata": {},
     "output_type": "display_data"
    }
   ],
   "source": [
    "import seaborn as sns\n",
    "sns.heatmap(distance_mtx)"
   ]
  },
  {
   "cell_type": "markdown",
   "id": "704c2f06-96bd-4514-8707-96cda001216f",
   "metadata": {},
   "source": [
    "## Let's get a UMAP of this and see whether clusters resemble the perturbations"
   ]
  },
  {
   "cell_type": "code",
   "execution_count": 101,
   "id": "b90d2369-5612-4e9c-9d22-f32d1329c818",
   "metadata": {},
   "outputs": [],
   "source": [
    "# For testing, you can run the model in evaluation mode\n",
    "vae.eval()\n",
    "masked_z = []\n",
    "first_all = []\n",
    "second_all = []\n",
    "with torch.no_grad():\n",
    "    for batch_ctrl, batch_pert, pert_labels in val_loader:\n",
    "        pert_x, recon_x, mu, logvar = vae(batch_ctrl, pert_labels)\n",
    "        z = vae.reparameterize(mu, logvar)\n",
    "        t_masked_z = vae.mask(z)[:,:n_dims_g].cpu().numpy()\n",
    "        masked_z.append(t_masked_z)\n",
    "        first_all.extend(pert_labels[:,0].cpu().numpy()) \n",
    "        second_all.extend(pert_labels[:,1].cpu().numpy()) "
   ]
  },
  {
   "cell_type": "code",
   "execution_count": 102,
   "id": "13cf9016-80eb-4635-bea8-8f97c3645ee5",
   "metadata": {},
   "outputs": [],
   "source": [
    "z = np.vstack(masked_z)"
   ]
  },
  {
   "cell_type": "code",
   "execution_count": 103,
   "id": "4bf2db24-e19d-47b1-ae88-34a0626f1ebe",
   "metadata": {},
   "outputs": [],
   "source": [
    "first = first_all\n",
    "second = second_all\n",
    "colors = []\n",
    "for i in range(len(first)):\n",
    "    colors.append(str(int(first[i]))+'_'+str(int(second[i])))\n",
    "\n",
    "unique_colors = np.unique(colors)\n",
    "color_map = {color: i for i, color in enumerate(unique_colors)}\n",
    "\n",
    "# Convert colors to numeric values\n",
    "numeric_colors = np.array([color_map[color] for color in colors])"
   ]
  },
  {
   "cell_type": "code",
   "execution_count": 104,
   "id": "e3671ec1-9f1c-4799-9e4e-629803076cad",
   "metadata": {},
   "outputs": [],
   "source": [
    "import umap.umap_ as umap\n",
    "\n",
    "# Generate a random distance matrix (replace with your actual data)\n",
    "#distance_mtx = np.random.rand(100, 100)\n",
    "\n",
    "# Generate arbitrary colors (replace with your actual colors)\n",
    "#colors = np.random.choice(['red', 'green', 'blue', 'yellow'], size=100)\n",
    "\n",
    "# Apply UMAP\n",
    "reducer = umap.UMAP(n_components=2,)\n",
    "embedding = reducer.fit_transform(z[:,:])"
   ]
  },
  {
   "cell_type": "code",
   "execution_count": 105,
   "id": "8b7f2bb9-5d1d-43cd-86e7-a6262f69398f",
   "metadata": {},
   "outputs": [],
   "source": [
    "#numeric_colors[numeric_colors>10] = -1"
   ]
  },
  {
   "cell_type": "code",
   "execution_count": 106,
   "id": "89173939-f98b-47ad-9b09-1a092510aae2",
   "metadata": {},
   "outputs": [
    {
     "data": {
      "image/png": "[encoded data removed]",
      "text/plain": [
       "<Figure size 800x600 with 2 Axes>"
      ]
     },
     "metadata": {},
     "output_type": "display_data"
    }
   ],
   "source": [
    "# Create a scatter plot\n",
    "plt.figure(figsize=(8, 6))\n",
    "plt.scatter(embedding[:, 0], embedding[:, 1], c=numeric_colors, cmap='tab20', s=10,alpha=0.99)\n",
    "plt.title(\"UMAP Embedding\")\n",
    "plt.xlabel(\"UMAP Dimension 1\")\n",
    "plt.ylabel(\"UMAP Dimension 2\")\n",
    "plt.colorbar(label=\"Color\")\n",
    "plt.show()"
   ]
  },
  {
   "cell_type": "code",
   "execution_count": null,
   "id": "26030394-d526-4040-a1e5-7f52354b9fc7",
   "metadata": {},
   "outputs": [],
   "source": []
  },
  {
   "cell_type": "code",
   "execution_count": null,
   "id": "2ea961d4-c770-44e5-8f8c-7e5a71a54e6d",
   "metadata": {},
   "outputs": [],
   "source": []
  },
  {
   "cell_type": "code",
   "execution_count": null,
   "id": "cc3e6ed0-ad50-4d9d-b293-1565b88281e0",
   "metadata": {},
   "outputs": [],
   "source": []
  },
  {
   "cell_type": "code",
   "execution_count": null,
   "id": "8ab023a1-e79c-4284-badb-950ab411e093",
   "metadata": {},
   "outputs": [],
   "source": []
  },
  {
   "cell_type": "code",
   "execution_count": 52,
   "id": "5183fad7-fa52-4784-8702-05f2fd08365f",
   "metadata": {},
   "outputs": [
    {
     "name": "stderr",
     "output_type": "stream",
     "text": [
      "  0%|          | 0/25 [00:00<?, ?it/s]\n"
     ]
    }
   ],
   "source": [
    "zs = []\n",
    "labels0 = []\n",
    "labels1 = []\n",
    "vae.eval()\n",
    "with torch.no_grad():\n",
    "    for batch_ctrl, batch_pert, pert_labels in tqdm(val_loader):\n",
    "        pert_x, recon_x, mu, logvar = vae(batch_ctrl, pert_labels)\n",
    "        z = vae.reparameterize(mu, logvar)\n",
    "        labels0.append(pert_labels[0].numpy())\n",
    "        labels1.append(pert_labels[1].numpy())\n",
    "        zs.append(z.detach().cpu().numpy())\n",
    "        break"
   ]
  },
  {
   "cell_type": "code",
   "execution_count": 53,
   "id": "3f33fe4b-f5d1-4724-873c-1cf88abb8b51",
   "metadata": {},
   "outputs": [],
   "source": [
    "zsnp = np.concatenate(zs)"
   ]
  },
  {
   "cell_type": "code",
   "execution_count": 54,
   "id": "c2063ad6-b2bd-45be-9008-c2bfcfa74e8a",
   "metadata": {},
   "outputs": [],
   "source": [
    "labels0 = np.concatenate(labels0)\n",
    "labels1 = np.concatenate(labels1)"
   ]
  },
  {
   "cell_type": "code",
   "execution_count": 55,
   "id": "506fe28f-0780-49e8-9bb2-40c67417eee3",
   "metadata": {},
   "outputs": [
    {
     "data": {
      "text/plain": [
       "(9, 70)"
      ]
     },
     "execution_count": 55,
     "metadata": {},
     "output_type": "execute_result"
    }
   ],
   "source": [
    "labels0[0], labels1[0]"
   ]
  },
  {
   "cell_type": "code",
   "execution_count": 56,
   "id": "54daf17b-5b24-42ec-ad5a-1de3750ddf40",
   "metadata": {},
   "outputs": [
    {
     "data": {
      "text/plain": [
       "(0, 69)"
      ]
     },
     "execution_count": 56,
     "metadata": {},
     "output_type": "execute_result"
    }
   ],
   "source": [
    "labels0[-2], labels1[-2]"
   ]
  },
  {
   "cell_type": "code",
   "execution_count": 57,
   "id": "58165269-3ae4-4127-80fe-632f8d0c683f",
   "metadata": {},
   "outputs": [
    {
     "data": {
      "text/plain": [
       "array([[3623, 2762, 4994, ..., 3687, 2630, 2158],\n",
       "       [3623,  831, 4994, ..., 4410, 3687, 2158],\n",
       "       [ 893,  831, 3623, ..., 2630, 4703, 2158],\n",
       "       ...,\n",
       "       [ 940, 4027, 4884, ..., 4410, 2061, 2158],\n",
       "       [3719, 4884, 1457, ..., 4410, 2061, 2158],\n",
       "       [ 893, 3623, 4994, ..., 4635, 1685, 1684]])"
      ]
     },
     "execution_count": 57,
     "metadata": {},
     "output_type": "execute_result"
    }
   ],
   "source": [
    "np.argsort(abs(pert_x.detach().cpu().numpy() - recon_x.detach().cpu().numpy()), axis=1)"
   ]
  },
  {
   "cell_type": "markdown",
   "id": "00c8e3a3-5040-4f32-bb43-e4490b06d91b",
   "metadata": {},
   "source": [
    "### Manual Explore"
   ]
  },
  {
   "cell_type": "code",
   "execution_count": 58,
   "id": "afc6cd33-8511-4b15-95a2-6f0e13c2044b",
   "metadata": {},
   "outputs": [
    {
     "data": {
      "text/plain": [
       "(tensor(0.6172), tensor(0.))"
      ]
     },
     "execution_count": 58,
     "metadata": {},
     "output_type": "execute_result"
    }
   ],
   "source": [
    "batch_pert[0,920], batch_ctrl[0,920]"
   ]
  },
  {
   "cell_type": "code",
   "execution_count": 60,
   "id": "1b564a26-fbe8-4618-8458-fd66570af74b",
   "metadata": {},
   "outputs": [
    {
     "data": {
      "text/plain": [
       "(tensor(0.1721, device='cuda:0'), tensor(0.0034, device='cuda:0'))"
      ]
     },
     "execution_count": 60,
     "metadata": {},
     "output_type": "execute_result"
    }
   ],
   "source": [
    "pert_x[0,920],recon_x[0,920]"
   ]
  },
  {
   "cell_type": "code",
   "execution_count": 61,
   "id": "1f658a24-6250-48a8-9b63-f6036d0d9e5e",
   "metadata": {},
   "outputs": [
    {
     "data": {
      "text/plain": [
       "('TGFBR2', 'BPGM', 'SAMD1')"
      ]
     },
     "execution_count": 61,
     "metadata": {},
     "output_type": "execute_result"
    }
   ],
   "source": [
    "gene_num_map[9], gene_num_map[69], gene_num_map[70]"
   ]
  },
  {
   "cell_type": "code",
   "execution_count": 62,
   "id": "6a02b7ab-65be-4acf-b347-dd3a7036d1b8",
   "metadata": {},
   "outputs": [
    {
     "data": {
      "text/plain": [
       "gene_id\n",
       "ENSG00000182871    COL18A1\n",
       "ENSG00000158578      ALAS2\n",
       "Name: gene_name, dtype: category\n",
       "Categories (5000, object): ['A2M', 'AAED1', 'AAK1', 'AAMDC', ..., 'ZPR1', 'ZRANB2', 'ZSCAN16-AS1', 'ZWINT']"
      ]
     },
     "execution_count": 62,
     "metadata": {},
     "output_type": "execute_result"
    }
   ],
   "source": [
    "adata.var.iloc[[4977,2158]].gene_name"
   ]
  },
  {
   "cell_type": "code",
   "execution_count": 63,
   "id": "611048b9-5b91-4973-a029-7f7e78bc107e",
   "metadata": {},
   "outputs": [
    {
     "data": {
      "text/plain": [
       "gene_id\n",
       "ENSG00000206172     HBA1\n",
       "ENSG00000158578    ALAS2\n",
       "Name: gene_name, dtype: category\n",
       "Categories (5000, object): ['A2M', 'AAED1', 'AAK1', 'AAMDC', ..., 'ZPR1', 'ZRANB2', 'ZSCAN16-AS1', 'ZWINT']"
      ]
     },
     "execution_count": 63,
     "metadata": {},
     "output_type": "execute_result"
    }
   ],
   "source": [
    "adata.var.iloc[[3687,2158]].gene_name"
   ]
  },
  {
   "cell_type": "code",
   "execution_count": 64,
   "id": "fda6e674-dfd1-4a31-ac8a-1bf10392710c",
   "metadata": {},
   "outputs": [
    {
     "data": {
      "text/plain": [
       "(tensor(0.1721, device='cuda:0'), tensor(0.0034, device='cuda:0'))"
      ]
     },
     "execution_count": 64,
     "metadata": {},
     "output_type": "execute_result"
    }
   ],
   "source": [
    "pert_x[0,920],recon_x[0,920]"
   ]
  },
  {
   "cell_type": "code",
   "execution_count": null,
   "id": "7c0e3d1c-6bb6-4184-9431-05c152c71cf9",
   "metadata": {},
   "outputs": [],
   "source": [
    "gene_num_map[9], gene_num_map[70]"
   ]
  },
  {
   "cell_type": "code",
   "execution_count": null,
   "id": "659e0030-7b6a-48d7-8a02-621d0cd46871",
   "metadata": {},
   "outputs": [],
   "source": [
    "adata.var.iloc[[3687,2158]].gene_name"
   ]
  },
  {
   "cell_type": "code",
   "execution_count": null,
   "id": "a28d2118-bda4-48d9-9db7-3c8245d99645",
   "metadata": {},
   "outputs": [],
   "source": []
  }
 ],
 "metadata": {
  "kernelspec": {
   "display_name": "Python 3 (ipykernel)",
   "language": "python",
   "name": "python3"
  },
  "language_info": {
   "codemirror_mode": {
    "name": "ipython",
    "version": 3
   },
   "file_extension": ".py",
   "mimetype": "text/x-python",
   "name": "python",
   "nbconvert_exporter": "python",
   "pygments_lexer": "ipython3",
   "version": "3.10.14"
  }
 },
 "nbformat": 4,
 "nbformat_minor": 5
}
