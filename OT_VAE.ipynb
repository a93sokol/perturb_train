{
 "cells": [
  {
   "cell_type": "markdown",
   "id": "e2357a85-4d3f-4793-9b5b-a356c9cf75c0",
   "metadata": {},
   "source": [
    "## OT - we want to use OT concept to find pairs btwn ctrl and treatment, then using VAE get the transformations. Should be a good baseline."
   ]
  },
  {
   "cell_type": "markdown",
   "id": "8bf26e58-960e-40d1-b160-be4876747e6f",
   "metadata": {},
   "source": [
    "### Imports"
   ]
  },
  {
   "cell_type": "code",
   "execution_count": 1,
   "id": "be7da009-644e-4c15-a074-ab1671daf24f",
   "metadata": {},
   "outputs": [],
   "source": [
    "import scanpy as scp\n",
    "import pandas as pd\n",
    "import numpy as np\n",
    "import catboost as cb\n",
    "from tqdm import tqdm\n",
    "from scipy import sparse\n",
    "from sklearn.model_selection import train_test_split\n",
    "\n",
    "from catboost import CatBoostClassifier, CatBoostRegressor\n",
    "from lightgbm import LGBMClassifier, LGBMRegressor\n",
    "from collections import Counter\n",
    "import lightgbm as lgb\n",
    "import matplotlib.pyplot as plt\n",
    "import umap\n",
    "from sklearn.model_selection import StratifiedKFold\n",
    "\n",
    "import ot\n",
    "from sklearn.decomposition import PCA"
   ]
  },
  {
   "cell_type": "markdown",
   "id": "28545cb6-f504-4523-8ea6-0e37ec165a9f",
   "metadata": {},
   "source": [
    "### Magics"
   ]
  },
  {
   "cell_type": "code",
   "execution_count": 48,
   "id": "2d1aad38-4497-4f8c-b5ed-c17b65b5fe84",
   "metadata": {},
   "outputs": [],
   "source": [
    "GENE_PER_CELL_BINNING = False\n",
    "N_BINS = 1000\n",
    "N_ITER = 50\n",
    "TOP_N_GENES = 5000"
   ]
  },
  {
   "cell_type": "markdown",
   "id": "29c34cd4-4903-47d4-aeba-57aa5aff6e2b",
   "metadata": {},
   "source": [
    "### Step 0"
   ]
  },
  {
   "cell_type": "code",
   "execution_count": 49,
   "id": "579f1ded-ce0a-442a-9f46-aac212209692",
   "metadata": {},
   "outputs": [],
   "source": [
    "adata = scp.read_h5ad('./data/Norman_2019/norman_umi_go/perturb_processed.h5ad')"
   ]
  },
  {
   "cell_type": "code",
   "execution_count": 50,
   "id": "dc17e045-10e5-4a5f-853c-c02d17410346",
   "metadata": {},
   "outputs": [
    {
     "name": "stdout",
     "output_type": "stream",
     "text": [
      "{1, 2, 3}\n"
     ]
    }
   ],
   "source": [
    "## Following the scGPT paper, we bin the genes within cell. \n",
    "\n",
    "def bin_nonzero_values(arr, num_bins):\n",
    "    # Filter out non-zero values\n",
    "    nonzero_vals = arr[arr != 0]\n",
    "    \n",
    "    # Calculate bin edges\n",
    "    bin_edges = np.linspace(nonzero_vals.min(), nonzero_vals.max(), num_bins)\n",
    "    \n",
    "    # Bin the values\n",
    "    binned_values = np.zeros_like(arr)\n",
    "    binned_nonzero = np.digitize(nonzero_vals, bin_edges)\n",
    "    binned_values[arr != 0] = binned_nonzero\n",
    "    \n",
    "    return binned_values\n",
    "\n",
    "# Example usage\n",
    "arr = np.random.randint(low=0, high=100, size=100)\n",
    "num_bins = 3\n",
    "binned_values = bin_nonzero_values(arr, num_bins)\n",
    "print(set(binned_values))"
   ]
  },
  {
   "cell_type": "code",
   "execution_count": 51,
   "id": "6ff55295-12fe-41f9-b7f6-b122df4533cc",
   "metadata": {},
   "outputs": [],
   "source": [
    "scp.pp.normalize_total(adata, exclude_highly_expressed=True)\n",
    "scp.pp.log1p(adata)\n",
    "scp.pp.highly_variable_genes(adata, n_top_genes=TOP_N_GENES,subset=True)"
   ]
  },
  {
   "cell_type": "code",
   "execution_count": 52,
   "id": "e7de02c3-4aa2-40cd-81e5-7d07ce966e92",
   "metadata": {},
   "outputs": [],
   "source": [
    "if GENE_PER_CELL_BINNING:\n",
    "    tempy = adata.X.toarray()\n",
    "    \n",
    "    for c in tqdm(range(adata.X.shape[0])):\n",
    "        tempy[c,:] = bin_nonzero_values(tempy[c,:], N_BINS)\n",
    "    \n",
    "    adata.X = sparse.csr_matrix(tempy)\n",
    "    del tempy"
   ]
  },
  {
   "cell_type": "code",
   "execution_count": 105,
   "id": "52090a5e-fa6d-4b5f-b6cb-f5a165b2e61b",
   "metadata": {},
   "outputs": [],
   "source": [
    "y = adata.obs.condition.values.astype(str)\n",
    "X = adata.X.toarray()"
   ]
  },
  {
   "cell_type": "code",
   "execution_count": 106,
   "id": "1396df13-e30e-4474-b771-9164bba45127",
   "metadata": {
    "scrolled": true
   },
   "outputs": [
    {
     "name": "stderr",
     "output_type": "stream",
     "text": [
      "100%|██████████████████████████████████████████████████████████| 91205/91205 [00:00<00:00, 324442.86it/s]\n"
     ]
    }
   ],
   "source": [
    "gene_num_map = ['ctrl']\n",
    "y_processed = []\n",
    "\n",
    "for rec in tqdm(y):\n",
    "    y_processed.append([])\n",
    "    comps = rec.split('+')\n",
    "    for c in comps:\n",
    "        if c not in gene_num_map:\n",
    "            gene_num_map.append(c)\n",
    "        y_processed[-1].append(gene_num_map.index(c))\n",
    "    if len(y_processed[-1])<2:\n",
    "        y_processed[-1].append(gene_num_map.index('ctrl'))"
   ]
  },
  {
   "cell_type": "code",
   "execution_count": 111,
   "id": "28ddd071-c86c-4cc9-86e5-1b336e3251b1",
   "metadata": {},
   "outputs": [
    {
     "name": "stdout",
     "output_type": "stream",
     "text": [
      "[(0, 32), (1, 41), (2, 17), (3, 13), (4, 6), (5, 15), (6, 11), (7, 8), (8, 54), (9, 9), (10, 18), (11, 0), (12, 5), (13, 7), (14, 20), (15, 1), (16, 60), (17, 22), (18, 43), (19, 58)]\n"
     ]
    }
   ],
   "source": [
    "def pair_records_optimal_transport(set1, set2):\n",
    "    \"\"\"\n",
    "    Pairs records from set1 with records from set2 using the optimal transport concept.\n",
    "    Records from set2 can be used multiple times if needed.\n",
    "\n",
    "    Args:\n",
    "    - set1 (np.ndarray): First 2D array of records (shape: n1 x features).\n",
    "    - set2 (np.ndarray): Second 2D array of records (shape: n2 x features).\n",
    "\n",
    "    Returns:\n",
    "    - pairs (list of tuples): List of index pairs (i, j) where i is the index\n",
    "      from set1 and j is the index from set2 that are paired.\n",
    "    \"\"\"\n",
    "\n",
    "    # Ensure the inputs are numpy arrays\n",
    "    set1 = np.array(set1)\n",
    "    set2 = np.array(set2)\n",
    "\n",
    "    # Compute the cost matrix (Euclidean distance between records)\n",
    "    cost_matrix = ot.dist(set1, set2, metric='euclidean')\n",
    "\n",
    "    # Compute the optimal transport plan using linear programming\n",
    "    n1, n2 = set1.shape[0], set2.shape[0]\n",
    "    a = np.ones(n1) / n1  # uniform distribution on set1\n",
    "    b = np.ones(n2)  # flexible distribution on set2\n",
    "\n",
    "    # Normalize b to sum to the same total mass as a\n",
    "    b = b / b.sum() * a.sum()\n",
    "\n",
    "    transport_plan = ot.emd(a, b, cost_matrix)\n",
    "\n",
    "    # Extract pairs based on the transport plan\n",
    "    pairs = []\n",
    "    for i in range(n1):\n",
    "        j = np.argmax(transport_plan[i])\n",
    "        pairs.append((i, j))\n",
    "\n",
    "    return pairs\n",
    "\n",
    "    \n",
    "# Example usage\n",
    "set1 = np.random.rand(20, 5000)  # 100 records with 5000 features each\n",
    "set2 = np.random.rand(100, 5000)  # 100 records with 5000 features each\n",
    "\n",
    "pairs = pair_records_optimal_transport(set1, set2)\n",
    "print(pairs)"
   ]
  },
  {
   "cell_type": "code",
   "execution_count": 108,
   "id": "5e768df8-9b34-40c2-a7c6-cfebe0892859",
   "metadata": {},
   "outputs": [],
   "source": [
    "X_train, X_test, y_train, y_test = train_test_split(X, y_processed, \n",
    "                                                  test_size=0.3, \n",
    "                                                  random_state=42,\n",
    "                                                  )\n",
    "\n",
    "X_train, X_val, y_train, y_val = train_test_split(X_train, y_train, \n",
    "                                                  test_size=0.2, \n",
    "                                                  random_state=42,\n",
    "                                                  )"
   ]
  },
  {
   "cell_type": "code",
   "execution_count": 118,
   "id": "851a99be-454a-4d24-b4ac-405401c9129a",
   "metadata": {},
   "outputs": [],
   "source": [
    "def vae_data_prep(X, y):\n",
    "    # Convert list of lists to a set of tuples to find unique classes\n",
    "    unique_classes = set(tuple(sorted(yi)) for yi in y)\n",
    "    \n",
    "    output_X = []\n",
    "    output_Y = []\n",
    "    labels = []\n",
    "    \n",
    "    # Convert y to a list of tuples for easier comparison\n",
    "    y_tuples = [tuple(sorted(yi)) for yi in y]\n",
    "    \n",
    "    for c in tqdm(unique_classes):\n",
    "        \n",
    "        set1_indices = [i for i, yi in enumerate(y_tuples) if yi == c]\n",
    "        set2_indices = [i for i, yi in enumerate(y_tuples) if yi == (0,0)]\n",
    "        \n",
    "        set1 = X[set1_indices]\n",
    "        set2 = X[set2_indices]\n",
    "        \n",
    "        pairs = pair_records_optimal_transport(set1, set2)\n",
    "        \n",
    "        for p in pairs:\n",
    "            output_X.append(set2[p[1]])\n",
    "            output_Y.append(set1[p[0]])\n",
    "            labels.append(c)\n",
    "    \n",
    "    output_X = np.array(output_X)\n",
    "    output_Y = np.array(output_Y)\n",
    "    \n",
    "    return output_X, output_Y, labels"
   ]
  },
  {
   "cell_type": "code",
   "execution_count": 122,
   "id": "9c2dee6e-eba0-4542-9889-b88c062896a7",
   "metadata": {},
   "outputs": [
    {
     "name": "stderr",
     "output_type": "stream",
     "text": [
      "100%|██████████████████████████████████████████████████████████████████| 237/237 [02:25<00:00,  1.63it/s]\n",
      "100%|██████████████████████████████████████████████████████████████████| 237/237 [00:17<00:00, 13.29it/s]\n",
      "100%|██████████████████████████████████████████████████████████████████| 237/237 [00:50<00:00,  4.69it/s]\n"
     ]
    }
   ],
   "source": [
    "X_trainv, Y_trainv, labels_trainv = vae_data_prep(X_train, y_train)\n",
    "X_valv, Y_valv, labels_valv = vae_data_prep(X_val, y_val)\n",
    "X_testv, Y_testv, labels_testv = vae_data_prep(X_test, y_test)"
   ]
  },
  {
   "cell_type": "code",
   "execution_count": 13,
   "id": "50d2cfc6-4603-4259-9102-c6a7b1958422",
   "metadata": {},
   "outputs": [],
   "source": [
    "pca = PCA(n_components=0.99)\n",
    "X_train_r = pca.fit_transform(X_trainv)\n",
    "X_val_r = pca.transform(X_valv)\n",
    "X_test_r = pca.transform(X_testv)"
   ]
  },
  {
   "cell_type": "code",
   "execution_count": 14,
   "id": "b34576ca-3f94-44a6-9b49-1f21fbdff7e4",
   "metadata": {},
   "outputs": [],
   "source": [
    "Y_train_r = pca.transform(Y_trainv)\n",
    "Y_val_r = pca.transform(Y_valv)\n",
    "Y_test_r = pca.transform(Y_testv)"
   ]
  },
  {
   "cell_type": "code",
   "execution_count": 16,
   "id": "e7e7cfcb-b34d-4a7f-8c5a-9dfbe3e07b1d",
   "metadata": {
    "scrolled": true
   },
   "outputs": [],
   "source": [
    "# model = LGBMClassifier(verbose=-1, n_jobs=10)\n",
    "# model.fit(X_train, y_train, eval_set=[(X_val, y_val)], eval_metric='auc_mu',    callbacks=[\n",
    "#         lgb.early_stopping(stopping_rounds=100),\n",
    "#         lgb.log_evaluation(1)\n",
    "#     ])"
   ]
  },
  {
   "cell_type": "code",
   "execution_count": null,
   "id": "2f3d6d85-c909-43be-9845-e80618492b6e",
   "metadata": {
    "scrolled": true
   },
   "outputs": [
    {
     "name": "stdout",
     "output_type": "stream",
     "text": [
      "Epoch 1, Train Loss: 3.1179, Val Loss: 2.9125\n",
      "Epoch 2, Train Loss: 2.9354, Val Loss: 2.9031\n"
     ]
    }
   ],
   "source": [
    "import torch\n",
    "import torch.nn as nn\n",
    "import torch.optim as optim\n",
    "from torch.utils.data import Dataset, DataLoader\n",
    "\n",
    "class CustomDataset(Dataset):\n",
    "    def __init__(self, X):\n",
    "        self.X = torch.tensor(X, dtype=torch.float32)\n",
    "    \n",
    "    def __len__(self):\n",
    "        return len(self.X)\n",
    "    \n",
    "    def __getitem__(self, idx):\n",
    "        return self.X[idx]\n",
    "\n",
    "class VAE(nn.Module):\n",
    "    def __init__(self, input_dim, latent_dim, hidden_dims):\n",
    "        super(VAE, self).__init__()\n",
    "        \n",
    "        self.encoder = self.build_encoder(input_dim, latent_dim, hidden_dims)\n",
    "        self.decoder = self.build_decoder(latent_dim, input_dim, hidden_dims)\n",
    "        \n",
    "        self.fc_mu = nn.Linear(hidden_dims[-1], latent_dim)\n",
    "        self.fc_logvar = nn.Linear(hidden_dims[-1], latent_dim)\n",
    "        \n",
    "    def build_encoder(self, input_dim, latent_dim, hidden_dims):\n",
    "        layers = []\n",
    "        for h_dim in hidden_dims:\n",
    "            layers.append(nn.Linear(input_dim, h_dim))\n",
    "            layers.append(nn.ReLU())\n",
    "            input_dim = h_dim\n",
    "        return nn.Sequential(*layers)\n",
    "    \n",
    "    def build_decoder(self, latent_dim, output_dim, hidden_dims):\n",
    "        layers = []\n",
    "        hidden_dims.reverse()\n",
    "        for h_dim in hidden_dims:\n",
    "            layers.append(nn.Linear(latent_dim, h_dim))\n",
    "            layers.append(nn.ReLU())\n",
    "            latent_dim = h_dim\n",
    "        layers.append(nn.Linear(hidden_dims[-1], output_dim))\n",
    "        layers.append(nn.Sigmoid())\n",
    "        return nn.Sequential(*layers)\n",
    "    \n",
    "    def encode(self, x):\n",
    "        h = self.encoder(x)\n",
    "        mu = self.fc_mu(h)\n",
    "        logvar = self.fc_logvar(h)\n",
    "        return mu, logvar\n",
    "    \n",
    "    def reparameterize(self, mu, logvar):\n",
    "        std = torch.exp(0.5 * logvar)\n",
    "        eps = torch.randn_like(std)\n",
    "        return mu + eps * std\n",
    "    \n",
    "    def decode(self, z):\n",
    "        return self.decoder(z)\n",
    "    \n",
    "    def forward(self, x, perturbs = []):\n",
    "        mu, logvar = self.encode(x)\n",
    "        z = self.reparameterize(mu, logvar)\n",
    "\n",
    "        #perturbation introduced at the latent space level\n",
    "        \n",
    "        for pert_n in perturbs:\n",
    "            c = 0\n",
    "            for p in pert_n:\n",
    "                if p>0:\n",
    "                    z[c, p] += 5\n",
    "                c+=1\n",
    "                \n",
    "        recon_x = self.decode(z)\n",
    "        return recon_x, mu, logvar\n",
    "\n",
    "def vae_loss(recon_x, x, mu, logvar):\n",
    "    recon_loss = nn.functional.mse_loss(recon_x, x, reduction='sum')\n",
    "    kl_loss = -0.5 * torch.sum(1 + logvar - mu.pow(2) - logvar.exp())\n",
    "    return recon_loss + kl_loss\n",
    "    \n",
    "def train_vae(model, train_loader, val_loader, epochs, learning_rate=1e-3):\n",
    "    optimizer = optim.Adam(model.parameters(), lr=learning_rate)\n",
    "    model.train()\n",
    "    \n",
    "    for epoch in range(epochs):\n",
    "        total_train_loss = 0\n",
    "        for batch_ctrl, batch_pert, pert_labels in train_loader:\n",
    "            optimizer.zero_grad()\n",
    "            \n",
    "            recon_x, mu, logvar = model(batch_ctrl, pert_labels)\n",
    "            \n",
    "            z = model.reparameterize(mu, logvar)\n",
    "            loss = vae_loss(recon_x, batch_pert, mu, logvar)\n",
    "            loss.backward()\n",
    "            optimizer.step()\n",
    "            total_train_loss += loss.item()\n",
    "        \n",
    "        avg_train_loss = total_train_loss / len(train_loader.dataset)\n",
    "        \n",
    "        model.eval()\n",
    "        total_val_loss = 0\n",
    "        with torch.no_grad():\n",
    "            for batch_ctrl, batch_pert, pert_labels in val_loader:\n",
    "                recon_x, mu, logvar = model(batch_ctrl, pert_labels)\n",
    "                z = model.reparameterize(mu, logvar)\n",
    "                loss = vae_loss(recon_x, batch_pert, mu, logvar)\n",
    "                total_val_loss += loss.item()\n",
    "        \n",
    "        avg_val_loss = total_val_loss / len(val_loader.dataset)\n",
    "        \n",
    "        print(f'Epoch {epoch+1}, Train Loss: {avg_train_loss:.4f}, Val Loss: {avg_val_loss:.4f}')\n",
    "        \n",
    "        model.train()\n",
    "\n",
    "# Example usage:\n",
    "\n",
    "# # Assuming X_train, X_val, Y_train, Y_val are defined numpy arrays\n",
    "# X_trainv = np.random.rand(1000, 50)  # Replace with your actual data\n",
    "# Y_trainv = np.random.rand(1000, 50)  # Replace with your actual class labels\n",
    "# X_valv = np.random.rand(200, 50)     # Replace with your actual data\n",
    "# Y_valv = np.random.rand(200, 50) # Replace with your actual class labels\n",
    "\n",
    "# l_val1 = np.random.randint(0,100,200)\n",
    "# l_val2 = np.random.randint(0,100,200)\n",
    "# labels_valv = [[l_val1[i], l_val2[i]] for i in range(len(l_val1))]\n",
    "\n",
    "# l_train1 = np.random.randint(0,100,1000)\n",
    "# l_train2 = np.random.randint(0,100,1000)\n",
    "# labels_train = [[l_train1[i], l_train2[i]] for i in range(len(l_train1))]\n",
    "\n",
    "class CustomDataset(Dataset):\n",
    "    def __init__(self, X, Y, labels):\n",
    "        self.X = torch.tensor(X, dtype=torch.float32)\n",
    "        self.Y = torch.tensor(Y, dtype=torch.float32)\n",
    "        self.labels = labels\n",
    "    \n",
    "    def __len__(self):\n",
    "        return len(self.X)\n",
    "    \n",
    "    def __getitem__(self, idx):\n",
    "        return self.X[idx], self.Y[idx], self.labels[idx]\n",
    "\n",
    "\n",
    "train_dataset = CustomDataset(X_trainv[:,:50], Y_trainv[:,:50], labels_trainv)\n",
    "val_dataset = CustomDataset(X_valv[:,:50], Y_valv[:,:50], labels_valv)\n",
    "\n",
    "train_loader = DataLoader(train_dataset, batch_size=32, shuffle=True)\n",
    "val_loader = DataLoader(val_dataset, batch_size=32, shuffle=False)\n",
    "\n",
    "input_dim = 50\n",
    "latent_dim = 125\n",
    "hidden_dims = [128]\n",
    "epochs = 20\n",
    "learning_rate = 1e-3\n",
    "\n",
    "vae = VAE(input_dim, latent_dim, hidden_dims)\n",
    "train_vae(vae, train_loader, val_loader, epochs, learning_rate)\n",
    "\n",
    "# For testing, you can run the model in evaluation mode\n",
    "vae.eval()\n",
    "with torch.no_grad():\n",
    "    for batch_ctrl, batch_pert, pert_labels in val_loader:\n",
    "        recon_x, mu, logvar = vae(batch_ctrl, pert_labels)\n",
    "        z = vae.reparameterize(mu, logvar)\n",
    "        break"
   ]
  },
  {
   "cell_type": "code",
   "execution_count": null,
   "id": "5183fad7-fa52-4784-8702-05f2fd08365f",
   "metadata": {},
   "outputs": [],
   "source": []
  },
  {
   "cell_type": "code",
   "execution_count": null,
   "id": "3f33fe4b-f5d1-4724-873c-1cf88abb8b51",
   "metadata": {},
   "outputs": [],
   "source": []
  },
  {
   "cell_type": "code",
   "execution_count": null,
   "id": "2d7f9157-f055-408a-9e54-13aecdb2bed0",
   "metadata": {},
   "outputs": [],
   "source": []
  }
 ],
 "metadata": {
  "kernelspec": {
   "display_name": "Python 3 (ipykernel)",
   "language": "python",
   "name": "python3"
  },
  "language_info": {
   "codemirror_mode": {
    "name": "ipython",
    "version": 3
   },
   "file_extension": ".py",
   "mimetype": "text/x-python",
   "name": "python",
   "nbconvert_exporter": "python",
   "pygments_lexer": "ipython3",
   "version": "3.10.12"
  }
 },
 "nbformat": 4,
 "nbformat_minor": 5
}
