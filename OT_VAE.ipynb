{
 "cells": [
  {
   "cell_type": "markdown",
   "id": "e2357a85-4d3f-4793-9b5b-a356c9cf75c0",
   "metadata": {},
   "source": [
    "## OT - we want to use OT concept to find pairs btwn ctrl and treatment, then using VAE get the transformations. Should be a good baseline."
   ]
  },
  {
   "cell_type": "markdown",
   "id": "8bf26e58-960e-40d1-b160-be4876747e6f",
   "metadata": {},
   "source": [
    "### Imports"
   ]
  },
  {
   "cell_type": "code",
   "execution_count": 1,
   "id": "3de4a09e-8df0-4041-b095-0273c7ba95be",
   "metadata": {},
   "outputs": [
    {
     "data": {
      "text/plain": [
       "True"
      ]
     },
     "execution_count": 1,
     "metadata": {},
     "output_type": "execute_result"
    }
   ],
   "source": [
    "import torch\n",
    "torch.cuda.is_available()"
   ]
  },
  {
   "cell_type": "code",
   "execution_count": 4,
   "id": "be7da009-644e-4c15-a074-ab1671daf24f",
   "metadata": {},
   "outputs": [],
   "source": [
    "import scanpy as scp\n",
    "import pandas as pd\n",
    "import numpy as np\n",
    "import catboost as cb\n",
    "from tqdm import tqdm\n",
    "from scipy import sparse\n",
    "from sklearn.model_selection import train_test_split\n",
    "\n",
    "from catboost import CatBoostClassifier, CatBoostRegressor\n",
    "from lightgbm import LGBMClassifier, LGBMRegressor\n",
    "from collections import Counter\n",
    "import lightgbm as lgb\n",
    "import matplotlib.pyplot as plt\n",
    "import umap\n",
    "from sklearn.model_selection import StratifiedKFold\n",
    "\n",
    "import ot\n",
    "from sklearn.decomposition import PCA"
   ]
  },
  {
   "cell_type": "markdown",
   "id": "28545cb6-f504-4523-8ea6-0e37ec165a9f",
   "metadata": {},
   "source": [
    "### Magics"
   ]
  },
  {
   "cell_type": "code",
   "execution_count": 5,
   "id": "2d1aad38-4497-4f8c-b5ed-c17b65b5fe84",
   "metadata": {},
   "outputs": [],
   "source": [
    "GENE_PER_CELL_BINNING = False\n",
    "N_BINS = 1000\n",
    "N_ITER = 50\n",
    "TOP_N_GENES = 5000"
   ]
  },
  {
   "cell_type": "markdown",
   "id": "29c34cd4-4903-47d4-aeba-57aa5aff6e2b",
   "metadata": {},
   "source": [
    "### Step 0"
   ]
  },
  {
   "cell_type": "code",
   "execution_count": 6,
   "id": "579f1ded-ce0a-442a-9f46-aac212209692",
   "metadata": {},
   "outputs": [],
   "source": [
    "adata = scp.read_h5ad('./data/Norman_2019/norman_umi_go/perturb_processed.h5ad')"
   ]
  },
  {
   "cell_type": "code",
   "execution_count": 7,
   "id": "dc17e045-10e5-4a5f-853c-c02d17410346",
   "metadata": {},
   "outputs": [
    {
     "name": "stdout",
     "output_type": "stream",
     "text": [
      "{0, 1, 2, 3}\n"
     ]
    }
   ],
   "source": [
    "## Following the scGPT paper, we bin the genes within cell. \n",
    "\n",
    "def bin_nonzero_values(arr, num_bins):\n",
    "    # Filter out non-zero values\n",
    "    nonzero_vals = arr[arr != 0]\n",
    "    \n",
    "    # Calculate bin edges\n",
    "    bin_edges = np.linspace(nonzero_vals.min(), nonzero_vals.max(), num_bins)\n",
    "    \n",
    "    # Bin the values\n",
    "    binned_values = np.zeros_like(arr)\n",
    "    binned_nonzero = np.digitize(nonzero_vals, bin_edges)\n",
    "    binned_values[arr != 0] = binned_nonzero\n",
    "    \n",
    "    return binned_values\n",
    "\n",
    "# Example usage\n",
    "arr = np.random.randint(low=0, high=100, size=100)\n",
    "num_bins = 3\n",
    "binned_values = bin_nonzero_values(arr, num_bins)\n",
    "print(set(binned_values))"
   ]
  },
  {
   "cell_type": "code",
   "execution_count": 8,
   "id": "6ff55295-12fe-41f9-b7f6-b122df4533cc",
   "metadata": {},
   "outputs": [],
   "source": [
    "scp.pp.normalize_total(adata, exclude_highly_expressed=True)\n",
    "scp.pp.log1p(adata)\n",
    "scp.pp.highly_variable_genes(adata, n_top_genes=TOP_N_GENES,subset=True)"
   ]
  },
  {
   "cell_type": "code",
   "execution_count": 9,
   "id": "e7de02c3-4aa2-40cd-81e5-7d07ce966e92",
   "metadata": {},
   "outputs": [],
   "source": [
    "if GENE_PER_CELL_BINNING:\n",
    "    tempy = adata.X.toarray()\n",
    "    \n",
    "    for c in tqdm(range(adata.X.shape[0])):\n",
    "        tempy[c,:] = bin_nonzero_values(tempy[c,:], N_BINS)\n",
    "    \n",
    "    adata.X = sparse.csr_matrix(tempy)\n",
    "    del tempy"
   ]
  },
  {
   "cell_type": "code",
   "execution_count": 10,
   "id": "52090a5e-fa6d-4b5f-b6cb-f5a165b2e61b",
   "metadata": {},
   "outputs": [],
   "source": [
    "y = adata.obs.condition.values.astype(str)\n",
    "X = adata.X.toarray()"
   ]
  },
  {
   "cell_type": "code",
   "execution_count": 11,
   "id": "1396df13-e30e-4474-b771-9164bba45127",
   "metadata": {
    "scrolled": true
   },
   "outputs": [
    {
     "name": "stderr",
     "output_type": "stream",
     "text": [
      "100%|██████████| 91205/91205 [00:00<00:00, 427255.97it/s]\n"
     ]
    }
   ],
   "source": [
    "gene_num_map = ['ctrl']\n",
    "y_processed = []\n",
    "\n",
    "for rec in tqdm(y):\n",
    "    y_processed.append([])\n",
    "    comps = rec.split('+')\n",
    "    for c in comps:\n",
    "        if c not in gene_num_map:\n",
    "            gene_num_map.append(c)\n",
    "        y_processed[-1].append(gene_num_map.index(c))\n",
    "    if len(y_processed[-1])<2:\n",
    "        y_processed[-1].append(gene_num_map.index('ctrl'))"
   ]
  },
  {
   "cell_type": "code",
   "execution_count": 12,
   "id": "28ddd071-c86c-4cc9-86e5-1b336e3251b1",
   "metadata": {},
   "outputs": [
    {
     "name": "stdout",
     "output_type": "stream",
     "text": [
      "[(0, 12), (1, 15), (2, 3), (3, 20), (4, 61), (5, 50), (6, 10), (7, 22), (8, 26), (9, 0), (10, 9), (11, 14), (12, 46), (13, 34), (14, 6), (15, 1), (16, 27), (17, 5), (18, 4), (19, 8)]\n"
     ]
    }
   ],
   "source": [
    "def pair_records_optimal_transport(set1, set2):\n",
    "    \"\"\"\n",
    "    Pairs records from set1 with records from set2 using the optimal transport concept.\n",
    "    Records from set2 can be used multiple times if needed.\n",
    "\n",
    "    Args:\n",
    "    - set1 (np.ndarray): First 2D array of records (shape: n1 x features).\n",
    "    - set2 (np.ndarray): Second 2D array of records (shape: n2 x features).\n",
    "\n",
    "    Returns:\n",
    "    - pairs (list of tuples): List of index pairs (i, j) where i is the index\n",
    "      from set1 and j is the index from set2 that are paired.\n",
    "    \"\"\"\n",
    "\n",
    "    # Ensure the inputs are numpy arrays\n",
    "    set1 = np.array(set1)\n",
    "    set2 = np.array(set2)\n",
    "\n",
    "    # Compute the cost matrix (Euclidean distance between records)\n",
    "    cost_matrix = ot.dist(set1, set2, metric='euclidean')\n",
    "\n",
    "    # Compute the optimal transport plan using linear programming\n",
    "    n1, n2 = set1.shape[0], set2.shape[0]\n",
    "    a = np.ones(n1) / n1  # uniform distribution on set1\n",
    "    b = np.ones(n2)  # flexible distribution on set2\n",
    "\n",
    "    # Normalize b to sum to the same total mass as a\n",
    "    b = b / b.sum() * a.sum()\n",
    "\n",
    "    transport_plan = ot.emd(a, b, cost_matrix)\n",
    "\n",
    "    # Extract pairs based on the transport plan\n",
    "    pairs = []\n",
    "    for i in range(n1):\n",
    "        j = np.argmax(transport_plan[i])\n",
    "        pairs.append((i, j))\n",
    "\n",
    "    return pairs\n",
    "\n",
    "    \n",
    "# Example usage\n",
    "set1 = np.random.rand(20, 5000)  # 100 records with 5000 features each\n",
    "set2 = np.random.rand(100, 5000)  # 100 records with 5000 features each\n",
    "\n",
    "pairs = pair_records_optimal_transport(set1, set2)\n",
    "print(pairs)"
   ]
  },
  {
   "cell_type": "code",
   "execution_count": 13,
   "id": "5e768df8-9b34-40c2-a7c6-cfebe0892859",
   "metadata": {},
   "outputs": [],
   "source": [
    "X_train, X_test, y_train, y_test = train_test_split(X, y_processed, \n",
    "                                                  test_size=0.3, \n",
    "                                                  random_state=42,\n",
    "                                                  )\n",
    "\n",
    "X_train, X_val, y_train, y_val = train_test_split(X_train, y_train, \n",
    "                                                  test_size=0.2, \n",
    "                                                  random_state=42,\n",
    "                                                  )"
   ]
  },
  {
   "cell_type": "code",
   "execution_count": 14,
   "id": "851a99be-454a-4d24-b4ac-405401c9129a",
   "metadata": {},
   "outputs": [],
   "source": [
    "def vae_data_prep(X, y):\n",
    "    # Convert list of lists to a set of tuples to find unique classes\n",
    "    unique_classes = set(tuple(sorted(yi)) for yi in y)\n",
    "    \n",
    "    output_X = []\n",
    "    output_Y = []\n",
    "    labels = []\n",
    "    \n",
    "    # Convert y to a list of tuples for easier comparison\n",
    "    y_tuples = [tuple(sorted(yi)) for yi in y]\n",
    "    \n",
    "    for c in tqdm(unique_classes):\n",
    "        \n",
    "        set1_indices = [i for i, yi in enumerate(y_tuples) if yi == c]\n",
    "        set2_indices = [i for i, yi in enumerate(y_tuples) if yi == (0,0)]\n",
    "        \n",
    "        set1 = X[set1_indices]\n",
    "        set2 = X[set2_indices]\n",
    "        \n",
    "        pairs = pair_records_optimal_transport(set1, set2)\n",
    "        \n",
    "        for p in pairs:\n",
    "            output_X.append(set2[p[1]])\n",
    "            output_Y.append(set1[p[0]])\n",
    "            labels.append(c)\n",
    "    \n",
    "    output_X = np.array(output_X)\n",
    "    output_Y = np.array(output_Y)\n",
    "    \n",
    "    return output_X, output_Y, labels"
   ]
  },
  {
   "cell_type": "code",
   "execution_count": 15,
   "id": "9c2dee6e-eba0-4542-9889-b88c062896a7",
   "metadata": {},
   "outputs": [
    {
     "name": "stderr",
     "output_type": "stream",
     "text": [
      " 27%|██▋       | 63/237 [00:21<00:48,  3.56it/s]/hpcfs/users/a1234104/miniconda3/envs/py310torch/lib/python3.10/site-packages/ot/lp/__init__.py:354: UserWarning: numItermax reached before optimality. Try to increase numItermax.\n",
      "  result_code_string = check_result(result_code)\n",
      "100%|██████████| 237/237 [01:25<00:00,  2.78it/s]\n",
      "100%|██████████| 237/237 [00:06<00:00, 35.54it/s]\n",
      "100%|██████████| 237/237 [00:23<00:00, 10.28it/s]\n"
     ]
    }
   ],
   "source": [
    "X_trainv, Y_trainv, labels_trainv = vae_data_prep(X_train, y_train)\n",
    "X_valv, Y_valv, labels_valv = vae_data_prep(X_val, y_val)\n",
    "X_testv, Y_testv, labels_testv = vae_data_prep(X_test, y_test)"
   ]
  },
  {
   "cell_type": "code",
   "execution_count": 52,
   "id": "50d2cfc6-4603-4259-9102-c6a7b1958422",
   "metadata": {},
   "outputs": [],
   "source": [
    "pca = PCA(n_components=0.99)\n",
    "X_train_r = X_trainv #pca.fit_transform(X_trainv)\n",
    "X_val_r = X_valv#pca.transform(X_valv)\n",
    "X_test_r = X_testv#pca.transform(X_testv)"
   ]
  },
  {
   "cell_type": "code",
   "execution_count": 53,
   "id": "b34576ca-3f94-44a6-9b49-1f21fbdff7e4",
   "metadata": {},
   "outputs": [],
   "source": [
    "Y_train_r = Y_trainv#pca.transform(Y_trainv)\n",
    "Y_val_r = Y_valv#pca.transform(Y_valv)\n",
    "Y_test_r = Y_testv#pca.transform(Y_testv)"
   ]
  },
  {
   "cell_type": "code",
   "execution_count": 54,
   "id": "e7e7cfcb-b34d-4a7f-8c5a-9dfbe3e07b1d",
   "metadata": {
    "scrolled": true
   },
   "outputs": [],
   "source": [
    "# model = LGBMClassifier(verbose=-1, n_jobs=10)\n",
    "# model.fit(X_train, y_train, eval_set=[(X_val, y_val)], eval_metric='auc_mu',    callbacks=[\n",
    "#         lgb.early_stopping(stopping_rounds=100),\n",
    "#         lgb.log_evaluation(1)\n",
    "#     ])"
   ]
  },
  {
   "cell_type": "code",
   "execution_count": 55,
   "id": "c98f9d6b-baca-4e4e-b211-e9cd148a994e",
   "metadata": {},
   "outputs": [],
   "source": [
    "device = 'cuda:0'"
   ]
  },
  {
   "cell_type": "code",
   "execution_count": 56,
   "id": "a48d90cb-6433-41c2-9fb5-3c6ec7082974",
   "metadata": {},
   "outputs": [
    {
     "data": {
      "text/plain": [
       "(51074, 5000)"
      ]
     },
     "execution_count": 56,
     "metadata": {},
     "output_type": "execute_result"
    }
   ],
   "source": [
    "X_train_r.shape"
   ]
  },
  {
   "cell_type": "code",
   "execution_count": 120,
   "id": "997c2a47-dd4f-4ece-995f-db1213c1c87a",
   "metadata": {
    "scrolled": true
   },
   "outputs": [],
   "source": [
    "import torch\n",
    "import torch.nn as nn\n",
    "import torch.optim as optim\n",
    "from torch.utils.data import Dataset, DataLoader\n",
    "\n",
    "class CustomDataset(Dataset):\n",
    "    def __init__(self, X):\n",
    "        self.X = torch.tensor(X, dtype=torch.float32)\n",
    "    \n",
    "    def __len__(self):\n",
    "        return len(self.X)\n",
    "    \n",
    "    def __getitem__(self, idx):\n",
    "        return self.X[idx]\n",
    "\n",
    "class VAE(nn.Module):\n",
    "    def __init__(self, input_dim, latent_dim, hidden_dims):\n",
    "        super(VAE, self).__init__()\n",
    "\n",
    "        self.fc_mu = nn.Linear(hidden_dims[-1], latent_dim)\n",
    "        self.fc_logvar = nn.Linear(hidden_dims[-1], latent_dim)\n",
    "        \n",
    "        self.encoder = self.build_encoder(input_dim, latent_dim, hidden_dims)\n",
    "        self.decoder = self.build_decoder(latent_dim, input_dim, hidden_dims)\n",
    "        \n",
    "    def build_encoder(self, input_dim, latent_dim, hidden_dims):\n",
    "        layers = []\n",
    "        for h_dim in hidden_dims:\n",
    "            layers.append(nn.Linear(input_dim, h_dim))\n",
    "            layers.append(nn.ReLU())\n",
    "            input_dim = h_dim\n",
    "        return nn.Sequential(*layers)\n",
    "    \n",
    "    def build_decoder(self, latent_dim, output_dim, hidden_dims):\n",
    "        layers = []\n",
    "        hidden_dims.reverse()\n",
    "        for h_dim in hidden_dims:\n",
    "            layers.append(nn.Linear(latent_dim, h_dim))\n",
    "            layers.append(nn.ReLU())\n",
    "            latent_dim = h_dim\n",
    "        layers.append(nn.Linear(hidden_dims[-1], output_dim))\n",
    "        layers.append(nn.Sigmoid())\n",
    "        return nn.Sequential(*layers)\n",
    "\n",
    "    def encode(self, x):\n",
    "        h = self.encoder(x)\n",
    "        mu = self.fc_mu(h)\n",
    "        logvar = self.fc_logvar(h)\n",
    "        return mu, logvar\n",
    "    \n",
    "    def reparameterize(self, mu, logvar):\n",
    "        std = torch.exp(0.5 * logvar)\n",
    "        eps = torch.randn_like(std)\n",
    "        return mu + eps * std\n",
    "    \n",
    "    def decode(self, z):\n",
    "        return self.decoder(z)\n",
    "    \n",
    "    def forward(self, x, perturbs = []):\n",
    "        mu, logvar = self.encode(x.to(device))\n",
    "        z = self.reparameterize(mu, logvar)\n",
    "        z_p = z.clone()\n",
    "        #perturbation introduced at the latent space level\n",
    "        for pert_n in perturbs:\n",
    "            perturbs_tensor = pert_n.to(device)\n",
    "            non_zero_batch_indices = perturbs_tensor.nonzero(as_tuple=False)\n",
    "            z_p[non_zero_batch_indices, perturbs_tensor[non_zero_batch_indices]] += 150\n",
    "        \n",
    "        pert_x = self.decode(z_p)\n",
    "        recon_x = self.decode(z)\n",
    "        \n",
    "        return pert_x, recon_x, mu, logvar\n",
    "        \n",
    "import matplotlib.pyplot as plt\n",
    "from IPython.display import clear_output\n",
    "\n",
    "def vae_loss(pert_x, y, recon_x, x, mu, logvar):\n",
    "    x = x.to(device)\n",
    "    recon_loss = nn.functional.mse_loss(recon_x, x, reduction='sum')\n",
    "    pert_loss = nn.functional.mse_loss(pert_x, y, reduction='sum')\n",
    "    kl_loss = -0.5 * torch.sum(1 + logvar - mu.pow(2) - logvar.exp())\n",
    "    return recon_loss, pert_loss, kl_loss\n",
    "\n",
    "def train_vae(model, train_loader, val_loader, epochs, learning_rate=1e-3):\n",
    "    optimizer = optim.Adam(model.parameters(), lr=learning_rate)\n",
    "    model.train()\n",
    "    \n",
    "    train_losses = []\n",
    "    val_losses = []\n",
    "    for epoch in range(epochs):\n",
    "        total_train_recon_loss = 0\n",
    "        total_train_pert_loss = 0\n",
    "        total_train_kl_loss = 0\n",
    "        for batch_ctrl, batch_pert, pert_labels in train_loader:\n",
    "            optimizer.zero_grad()\n",
    "            batch_ctrl = batch_ctrl.to(device)\n",
    "            batch_pert = batch_pert.to(device)\n",
    "                        \n",
    "            pert_x, recon_x, mu, logvar = model(batch_ctrl, pert_labels)\n",
    "            \n",
    "            z = model.reparameterize(mu, logvar)\n",
    "            recon_loss, pert_loss, kl_loss = vae_loss(pert_x, batch_pert, recon_x, batch_ctrl, mu, logvar)\n",
    "            loss = recon_loss + pert_loss + kl_loss\n",
    "            loss.backward()\n",
    "            optimizer.step()\n",
    "            total_train_recon_loss += recon_loss.item()\n",
    "            total_train_pert_loss += pert_loss.item()\n",
    "            total_train_kl_loss += kl_loss.item()\n",
    "        \n",
    "        avg_train_recon_loss = total_train_recon_loss / len(train_loader.dataset)\n",
    "        avg_train_pert_loss = total_train_pert_loss / len(train_loader.dataset)\n",
    "        avg_train_kl_loss = total_train_kl_loss / len(train_loader.dataset)\n",
    "        train_losses.append((avg_train_recon_loss, avg_train_pert_loss, avg_train_kl_loss))\n",
    "        \n",
    "        model.eval()\n",
    "        total_val_recon_loss = 0\n",
    "        total_val_pert_loss = 0\n",
    "        total_val_kl_loss = 0\n",
    "        with torch.no_grad():\n",
    "            for batch_ctrl, batch_pert, pert_labels in val_loader:\n",
    "\n",
    "                batch_ctrl = batch_ctrl.to(device)\n",
    "                batch_pert = batch_pert.to(device)\n",
    "                                \n",
    "                pert_x, recon_x, mu, logvar = model(batch_ctrl, pert_labels)\n",
    "                z = model.reparameterize(mu, logvar)\n",
    "                recon_loss, pert_loss, kl_loss = vae_loss(pert_x, batch_pert, recon_x, batch_ctrl, mu, logvar)\n",
    "                total_val_recon_loss += recon_loss.item()\n",
    "                total_val_pert_loss += pert_loss.item()\n",
    "                total_val_kl_loss += kl_loss.item()\n",
    "        \n",
    "        avg_val_recon_loss = total_val_recon_loss / len(val_loader.dataset)\n",
    "        avg_val_pert_loss = total_val_pert_loss / len(val_loader.dataset)\n",
    "        avg_val_kl_loss = total_val_kl_loss / len(val_loader.dataset)\n",
    "        val_losses.append((avg_val_recon_loss, avg_val_pert_loss, avg_val_kl_loss))\n",
    "        \n",
    "        #print(f'Epoch {epoch+1}, Train Recon Loss: {avg_train_recon_loss:.4f}, Train Pert Loss: {avg_train_pert_loss:.4f}, Train KL Loss: {avg_train_kl_loss:.4f}, Val Recon Loss: {avg_val_recon_loss:.4f}, Val Pert Loss: {avg_val_pert_loss:.4f}, Val KL Loss: {avg_val_kl_loss:.4f}')\n",
    "        \n",
    "        model.train()\n",
    "\n",
    "        # Plotting the losses\n",
    "        clear_output(wait=True)\n",
    "        fig, ax = plt.subplots(3, 1, sharex=True, sharey=False, figsize=(10, 7))\n",
    "        \n",
    "        ax[0].plot([x[0] for x in train_losses], label='Train Recon Loss')\n",
    "        ax[1].plot([x[1] for x in train_losses], label='Train Pert Loss')\n",
    "        ax[2].plot([x[2] for x in train_losses], label='Train KL Loss')\n",
    "        # Plot validation losses\n",
    "        ax[0].plot([x[0] for x in val_losses], label='Val Recon Loss')\n",
    "        ax[1].plot([x[1] for x in val_losses], label='Val Pert Loss')\n",
    "        ax[2].plot([x[2] for x in val_losses], label='Val KL Loss')\n",
    "        \n",
    "        # Add legends\n",
    "        ax[0].legend()\n",
    "        ax[1].legend()\n",
    "        ax[2].legend()\n",
    "        plt.show()\n",
    "        # Add titles\n"
   ]
  },
  {
   "cell_type": "code",
   "execution_count": 122,
   "id": "8d28a378-bcec-44c4-92e8-133f9dfb90e3",
   "metadata": {},
   "outputs": [
    {
     "data": {
      "image/png": "[encoded data removed]",
      "text/plain": [
       "<Figure size 1000x700 with 3 Axes>"
      ]
     },
     "metadata": {},
     "output_type": "display_data"
    }
   ],
   "source": [
    "class CustomDataset(Dataset):\n",
    "    def __init__(self, X, Y, labels):\n",
    "        self.X = torch.tensor(X, dtype=torch.float32)\n",
    "        self.Y = torch.tensor(Y, dtype=torch.float32)\n",
    "        self.labels = labels\n",
    "    \n",
    "    def __len__(self):\n",
    "        return len(self.X)\n",
    "    \n",
    "    def __getitem__(self, idx):\n",
    "        return self.X[idx], self.Y[idx], self.labels[idx]\n",
    "\n",
    "\n",
    "train_dataset = CustomDataset(X_trainv[:,:], Y_trainv[:,:], labels_trainv)\n",
    "val_dataset = CustomDataset(X_valv[:,:], Y_valv[:,:], labels_valv)\n",
    "\n",
    "train_loader = DataLoader(train_dataset, batch_size=512, shuffle=True)\n",
    "val_loader = DataLoader(val_dataset, batch_size=512, shuffle=False)\n",
    "\n",
    "input_dim = X_trainv.shape[1]\n",
    "latent_dim = 128\n",
    "hidden_dims = [512,256]\n",
    "epochs = 60\n",
    "learning_rate = 1e-3\n",
    "\n",
    "vae = VAE(input_dim, latent_dim, hidden_dims).to(device)\n",
    "train_vae(vae, train_loader, val_loader, epochs, learning_rate)\n",
    "\n",
    "# For testing, you can run the model in evaluation mode\n",
    "vae.eval()\n",
    "with torch.no_grad():\n",
    "    for batch_ctrl, batch_pert, pert_labels in val_loader:\n",
    "        pert_x, recon_x, mu, logvar = vae(batch_ctrl, pert_labels)\n",
    "        z = vae.reparameterize(mu, logvar)\n",
    "        break"
   ]
  },
  {
   "cell_type": "code",
   "execution_count": 124,
   "id": "5183fad7-fa52-4784-8702-05f2fd08365f",
   "metadata": {},
   "outputs": [
    {
     "name": "stderr",
     "output_type": "stream",
     "text": [
      "  0%|          | 0/25 [00:00<?, ?it/s]\n"
     ]
    }
   ],
   "source": [
    "\n",
    "zs = []\n",
    "labels0 = []\n",
    "labels1 = []\n",
    "vae.eval()\n",
    "with torch.no_grad():\n",
    "    for batch_ctrl, batch_pert, pert_labels in tqdm(val_loader):\n",
    "        pert_x, recon_x, mu, logvar = vae(batch_ctrl, pert_labels)\n",
    "        z = vae.reparameterize(mu, logvar)\n",
    "        labels0.append(pert_labels[0].numpy())\n",
    "        labels1.append(pert_labels[1].numpy())\n",
    "        zs.append(z.detach().cpu().numpy())\n",
    "        break"
   ]
  },
  {
   "cell_type": "code",
   "execution_count": 125,
   "id": "3f33fe4b-f5d1-4724-873c-1cf88abb8b51",
   "metadata": {},
   "outputs": [],
   "source": [
    "zsnp = np.concatenate(zs)"
   ]
  },
  {
   "cell_type": "code",
   "execution_count": 126,
   "id": "c2063ad6-b2bd-45be-9008-c2bfcfa74e8a",
   "metadata": {},
   "outputs": [],
   "source": [
    "labels0 = np.concatenate(labels0)\n",
    "labels1 = np.concatenate(labels1)"
   ]
  },
  {
   "cell_type": "code",
   "execution_count": 127,
   "id": "8b269fb2-0c7a-4989-a0a9-eb43b183f598",
   "metadata": {},
   "outputs": [
    {
     "data": {
      "text/plain": [
       "0.5860499"
      ]
     },
     "execution_count": 127,
     "metadata": {},
     "output_type": "execute_result"
    }
   ],
   "source": [
    "zsnp[0][70]"
   ]
  },
  {
   "cell_type": "code",
   "execution_count": 128,
   "id": "506fe28f-0780-49e8-9bb2-40c67417eee3",
   "metadata": {},
   "outputs": [
    {
     "data": {
      "text/plain": [
       "(9, 70)"
      ]
     },
     "execution_count": 128,
     "metadata": {},
     "output_type": "execute_result"
    }
   ],
   "source": [
    "labels0[0], labels1[0]"
   ]
  },
  {
   "cell_type": "code",
   "execution_count": 140,
   "id": "58165269-3ae4-4127-80fe-632f8d0c683f",
   "metadata": {},
   "outputs": [
    {
     "data": {
      "text/plain": [
       "array([[2386, 1022, 4995, ..., 4977, 4650, 4410],\n",
       "       [3522,  201, 4989, ..., 1564, 2382, 2158],\n",
       "       [4995, 4992, 3651, ..., 2630, 2515, 1770],\n",
       "       ...,\n",
       "       [ 535, 4633, 2526, ..., 2630, 2158, 3687],\n",
       "       [1154, 4994, 4390, ..., 4410, 3687, 2158],\n",
       "       [1728,  201, 1901, ..., 4635, 1685, 1684]])"
      ]
     },
     "execution_count": 140,
     "metadata": {},
     "output_type": "execute_result"
    }
   ],
   "source": [
    "np.argsort(abs(pert_x.detach().cpu().numpy() - recon_x.detach().cpu().numpy()), axis=1)"
   ]
  },
  {
   "cell_type": "code",
   "execution_count": 145,
   "id": "7ab39621-21af-4209-9f67-75d0dcdb8f87",
   "metadata": {},
   "outputs": [
    {
     "data": {
      "text/plain": [
       "array([[0.0000000e+00, 0.0000000e+00, 1.1920929e-07, ..., 3.0508175e-01,\n",
       "        3.0867815e-01, 4.0538299e-01],\n",
       "       [0.0000000e+00, 5.9604645e-07, 8.3446503e-07, ..., 3.8746563e-01,\n",
       "        4.1775230e-01, 6.0782218e-01],\n",
       "       [0.0000000e+00, 0.0000000e+00, 1.1920929e-07, ..., 6.4983231e-01,\n",
       "        6.6140211e-01, 6.8144780e-01],\n",
       "       ...,\n",
       "       [1.1920929e-07, 2.3841858e-07, 2.3841858e-07, ..., 3.4722522e-01,\n",
       "        3.7420887e-01, 4.0138888e-01],\n",
       "       [0.0000000e+00, 0.0000000e+00, 0.0000000e+00, ..., 2.3800322e-01,\n",
       "        3.1727046e-01, 3.9547196e-01],\n",
       "       [5.9604645e-08, 7.1525574e-07, 8.3446503e-07, ..., 5.3513062e-01,\n",
       "        6.0006779e-01, 7.7175033e-01]], dtype=float32)"
      ]
     },
     "execution_count": 145,
     "metadata": {},
     "output_type": "execute_result"
    }
   ],
   "source": [
    "np.sort(abs(pert_x.detach().cpu().numpy() - recon_x.detach().cpu().numpy()), axis=1)"
   ]
  },
  {
   "cell_type": "code",
   "execution_count": 148,
   "id": "fda6e674-dfd1-4a31-ac8a-1bf10392710c",
   "metadata": {},
   "outputs": [
    {
     "data": {
      "text/plain": [
       "(tensor(0.3361, device='cuda:0'), tensor(0.7415, device='cuda:0'))"
      ]
     },
     "execution_count": 148,
     "metadata": {},
     "output_type": "execute_result"
    }
   ],
   "source": [
    "pert_x[0,4410],recon_x[0,4410]"
   ]
  },
  {
   "cell_type": "code",
   "execution_count": 142,
   "id": "7c0e3d1c-6bb6-4184-9431-05c152c71cf9",
   "metadata": {},
   "outputs": [
    {
     "data": {
      "text/plain": [
       "('TGFBR2', 'SAMD1')"
      ]
     },
     "execution_count": 142,
     "metadata": {},
     "output_type": "execute_result"
    }
   ],
   "source": [
    "gene_num_map[9], gene_num_map[70]"
   ]
  },
  {
   "cell_type": "code",
   "execution_count": 144,
   "id": "659e0030-7b6a-48d7-8a02-621d0cd46871",
   "metadata": {},
   "outputs": [
    {
     "data": {
      "text/plain": [
       "gene_id\n",
       "ENSG00000185198     PRSS57\n",
       "ENSG00000130755       GMFG\n",
       "ENSG00000182871    COL18A1\n",
       "Name: gene_name, dtype: category\n",
       "Categories (5000, object): ['A2M', 'AAED1', 'AAK1', 'AAMDC', ..., 'ZPR1', 'ZRANB2', 'ZSCAN16-AS1', 'ZWINT']"
      ]
     },
     "execution_count": 144,
     "metadata": {},
     "output_type": "execute_result"
    }
   ],
   "source": [
    "adata.var.iloc[[4410,4650, 4977]].gene_name"
   ]
  },
  {
   "cell_type": "code",
   "execution_count": null,
   "id": "48292142-1a2a-4549-8144-62ded2526819",
   "metadata": {},
   "outputs": [],
   "source": []
  }
 ],
 "metadata": {
  "kernelspec": {
   "display_name": "Python 3 (ipykernel)",
   "language": "python",
   "name": "python3"
  },
  "language_info": {
   "codemirror_mode": {
    "name": "ipython",
    "version": 3
   },
   "file_extension": ".py",
   "mimetype": "text/x-python",
   "name": "python",
   "nbconvert_exporter": "python",
   "pygments_lexer": "ipython3",
   "version": "3.10.14"
  }
 },
 "nbformat": 4,
 "nbformat_minor": 5
}
