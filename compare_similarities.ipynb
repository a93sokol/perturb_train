{
 "cells": [
  {
   "cell_type": "code",
   "execution_count": 268,
   "id": "80abe554-9ffd-4f22-bcb9-970e6bfc42f0",
   "metadata": {},
   "outputs": [],
   "source": [
    "import pandas as pd\n",
    "import numpy as np\n",
    "\n",
    "from sklearn.utils import shuffle"
   ]
  },
  {
   "cell_type": "code",
   "execution_count": 269,
   "id": "dfa1a48b-b63d-4d6e-9e4e-b28b520f4eee",
   "metadata": {},
   "outputs": [],
   "source": [
    "tree = pd.read_csv('./little_data/CatBoost_sim_mtx.csv',index_col=0)\n",
    "try:\n",
    "    tree = tree.loc[tree.index.drop('ctrl'),tree.columns.drop('ctrl')]\n",
    "except:\n",
    "    pass\n",
    "np.fill_diagonal(tree.values, 0)"
   ]
  },
  {
   "cell_type": "code",
   "execution_count": 270,
   "id": "fa470529-ca2c-4303-a00b-cf952f8e262e",
   "metadata": {},
   "outputs": [
    {
     "data": {
      "text/plain": [
       "12"
      ]
     },
     "execution_count": 270,
     "metadata": {},
     "output_type": "execute_result"
    }
   ],
   "source": [
    "tree.max().max()"
   ]
  },
  {
   "cell_type": "code",
   "execution_count": 271,
   "id": "ae06b53d-1a04-4535-a3e6-98a38bd6b58d",
   "metadata": {},
   "outputs": [],
   "source": [
    "performance_mtx = pd.read_csv('./little_data/CatBoost_performance_mtx.csv',index_col=0)"
   ]
  },
  {
   "cell_type": "code",
   "execution_count": 272,
   "id": "61f79042-3524-4fc6-9a57-40f538c0322a",
   "metadata": {},
   "outputs": [],
   "source": [
    "react = pd.read_csv('./little_data/reactome_distance_mtx_inDisease.csv',index_col=0)\n",
    "np.fill_diagonal(react.values, 0)\n",
    "react = react.loc[tree.index, tree.columns]"
   ]
  },
  {
   "cell_type": "code",
   "execution_count": 273,
   "id": "87a4ce6e-1a5c-49f3-a643-cb7a9401481d",
   "metadata": {},
   "outputs": [
    {
     "data": {
      "text/plain": [
       "((105, 105), (105, 105))"
      ]
     },
     "execution_count": 273,
     "metadata": {},
     "output_type": "execute_result"
    }
   ],
   "source": [
    "tree.shape, react.shape"
   ]
  },
  {
   "cell_type": "code",
   "execution_count": 274,
   "id": "b768b659-c9c3-46ae-a3ed-1ff8a160d10c",
   "metadata": {},
   "outputs": [
    {
     "data": {
      "text/plain": [
       "362"
      ]
     },
     "execution_count": 274,
     "metadata": {},
     "output_type": "execute_result"
    }
   ],
   "source": [
    "(tree>5).sum().sum()"
   ]
  },
  {
   "cell_type": "code",
   "execution_count": 275,
   "id": "001077b6-7ac6-4a8f-9cd6-141da780277a",
   "metadata": {},
   "outputs": [],
   "source": [
    "tree[tree<=5] = 0"
   ]
  },
  {
   "cell_type": "code",
   "execution_count": 276,
   "id": "0a2a8466-04a6-4497-a202-c7db1a4dc4fc",
   "metadata": {},
   "outputs": [],
   "source": [
    "tree[performance_mtx>0.8] = 0"
   ]
  },
  {
   "cell_type": "code",
   "execution_count": 277,
   "id": "ec208c94-b7ff-471b-b9ed-42ea10bbf67f",
   "metadata": {},
   "outputs": [
    {
     "data": {
      "text/plain": [
       "46"
      ]
     },
     "execution_count": 277,
     "metadata": {},
     "output_type": "execute_result"
    }
   ],
   "source": [
    "(tree>5).sum().sum()"
   ]
  },
  {
   "cell_type": "code",
   "execution_count": 278,
   "id": "bf7844a2-7516-4908-bce2-31fd489d062d",
   "metadata": {},
   "outputs": [],
   "source": [
    "#(react>1).sum().sum()\n",
    "#react[react<2] = 0"
   ]
  },
  {
   "cell_type": "code",
   "execution_count": 279,
   "id": "0a50d00a-3522-4cd8-bc35-c973e6dcd365",
   "metadata": {},
   "outputs": [
    {
     "data": {
      "text/plain": [
       "7"
      ]
     },
     "execution_count": 279,
     "metadata": {},
     "output_type": "execute_result"
    }
   ],
   "source": [
    "overlap = ((tree != 0) & (react != 0)).sum().sum()\n",
    "overlap"
   ]
  },
  {
   "cell_type": "code",
   "execution_count": 280,
   "id": "5dc1764c-565b-42e5-b7be-459410de14ec",
   "metadata": {},
   "outputs": [
    {
     "data": {
      "text/plain": [
       "(46, 100)"
      ]
     },
     "execution_count": 280,
     "metadata": {},
     "output_type": "execute_result"
    }
   ],
   "source": [
    "(tree != 0).sum().sum(), (react != 0).sum().sum()"
   ]
  },
  {
   "cell_type": "markdown",
   "id": "cf65a3d2-8394-4401-933a-9d2d83ca016f",
   "metadata": {},
   "source": [
    "### Permutation test"
   ]
  },
  {
   "cell_type": "code",
   "execution_count": 281,
   "id": "d72ff37a-7a80-4662-8d49-08d9fc7d1e1c",
   "metadata": {},
   "outputs": [
    {
     "name": "stdout",
     "output_type": "stream",
     "text": [
      "p_value=9.999000099990002e-05\n"
     ]
    }
   ],
   "source": [
    "n_perm = 10000\n",
    "null_hyp = 0\n",
    "null_recs = []\n",
    "for i in range(n_perm):\n",
    "    shuffled_tree = shuffle(tree,random_state=i)\n",
    "    t = tree.values.copy()\n",
    "    np.random.shuffle(t)\n",
    "    t = t.T\n",
    "    np.random.shuffle(t)\n",
    "    t = t.T\n",
    "    sim = ((t != 0) & (react.values != 0)).sum().sum()\n",
    "    if sim >= overlap:\n",
    "        null_hyp += 1\n",
    "    null_recs.append(sim)\n",
    "p_value = (null_hyp+1)/(n_perm+1)\n",
    "print(f\"p_value={p_value}\")"
   ]
  },
  {
   "cell_type": "code",
   "execution_count": 282,
   "id": "c1b5647a-d00b-44f0-a656-607cfa6f0cda",
   "metadata": {},
   "outputs": [
    {
     "data": {
      "image/png": "[encoded data removed]",
      "text/plain": [
       "<Figure size 1000x600 with 1 Axes>"
      ]
     },
     "metadata": {},
     "output_type": "display_data"
    }
   ],
   "source": [
    "import numpy as np\n",
    "import matplotlib.pyplot as plt\n",
    "from scipy import stats\n",
    "\n",
    "# Assuming we have the following variables defined:\n",
    "# overlap: The observed overlap between the two datasets\n",
    "# null_recs: List of simulated overlaps under the null hypothesis\n",
    "# p_value: The calculated p-value from the permutation test\n",
    "\n",
    "# Convert null_recs to a numpy array\n",
    "null_recs = np.array(null_recs)\n",
    "\n",
    "# Create the plot\n",
    "plt.figure(figsize=(10, 6))\n",
    "plt.hist(null_recs, bins=30, edgecolor='black', alpha=0.7)\n",
    "plt.axvline(overlap, color='red', linestyle='dashed', linewidth=2, label='Observed Overlap')\n",
    "\n",
    "# Add labels and title\n",
    "plt.xlabel('Overlap')\n",
    "plt.ylabel('Frequency')\n",
    "plt.title('Permutation Test Results')\n",
    "\n",
    "# Add text for p-value\n",
    "plt.text(0.95, 0.95, f'p-value: {p_value:.4f}', \n",
    "         horizontalalignment='right', verticalalignment='top', \n",
    "         transform=plt.gca().transAxes, fontsize=12,\n",
    "         bbox=dict(facecolor='white', alpha=0.8, edgecolor='none'))\n",
    "\n",
    "# Add legend\n",
    "plt.legend()\n",
    "\n",
    "# Show the plot\n",
    "plt.show()"
   ]
  },
  {
   "cell_type": "code",
   "execution_count": null,
   "id": "f6e60805-aee9-4d32-8eb8-90d73b85469d",
   "metadata": {},
   "outputs": [],
   "source": []
  }
 ],
 "metadata": {
  "kernelspec": {
   "display_name": "Python 3 (ipykernel)",
   "language": "python",
   "name": "python3"
  },
  "language_info": {
   "codemirror_mode": {
    "name": "ipython",
    "version": 3
   },
   "file_extension": ".py",
   "mimetype": "text/x-python",
   "name": "python",
   "nbconvert_exporter": "python",
   "pygments_lexer": "ipython3",
   "version": "3.10.14"
  }
 },
 "nbformat": 4,
 "nbformat_minor": 5
}
