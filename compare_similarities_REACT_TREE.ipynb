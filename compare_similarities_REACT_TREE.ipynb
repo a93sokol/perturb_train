{
 "cells": [
  {
   "cell_type": "code",
   "execution_count": 152,
   "id": "80abe554-9ffd-4f22-bcb9-970e6bfc42f0",
   "metadata": {},
   "outputs": [],
   "source": [
    "import pandas as pd\n",
    "import numpy as np\n",
    "from sklearn.utils import shuffle"
   ]
  },
  {
   "cell_type": "code",
   "execution_count": 153,
   "id": "dfa1a48b-b63d-4d6e-9e4e-b28b520f4eee",
   "metadata": {},
   "outputs": [],
   "source": [
    "tree = pd.read_csv('./little_data/VAE_tree_similarities.csv',index_col=0)\n",
    "np.fill_diagonal(tree.values, 0)"
   ]
  },
  {
   "cell_type": "code",
   "execution_count": 154,
   "id": "fa470529-ca2c-4303-a00b-cf952f8e262e",
   "metadata": {},
   "outputs": [
    {
     "data": {
      "text/plain": [
       "8.0"
      ]
     },
     "execution_count": 154,
     "metadata": {},
     "output_type": "execute_result"
    }
   ],
   "source": [
    "tree.max().max()"
   ]
  },
  {
   "cell_type": "code",
   "execution_count": 155,
   "id": "61f79042-3524-4fc6-9a57-40f538c0322a",
   "metadata": {},
   "outputs": [],
   "source": [
    "react = pd.read_csv('./little_data/reactome_distance_mtx.csv',index_col=0)\n",
    "np.fill_diagonal(react.values, 0)\n",
    "react = react.loc[tree.index, tree.columns]"
   ]
  },
  {
   "cell_type": "code",
   "execution_count": 156,
   "id": "87a4ce6e-1a5c-49f3-a643-cb7a9401481d",
   "metadata": {},
   "outputs": [
    {
     "data": {
      "text/plain": [
       "((105, 105), (105, 105))"
      ]
     },
     "execution_count": 156,
     "metadata": {},
     "output_type": "execute_result"
    }
   ],
   "source": [
    "tree.shape, react.shape"
   ]
  },
  {
   "cell_type": "code",
   "execution_count": 159,
   "id": "b768b659-c9c3-46ae-a3ed-1ff8a160d10c",
   "metadata": {},
   "outputs": [
    {
     "data": {
      "text/plain": [
       "954"
      ]
     },
     "execution_count": 159,
     "metadata": {},
     "output_type": "execute_result"
    }
   ],
   "source": [
    "(tree>7.1).sum().sum()"
   ]
  },
  {
   "cell_type": "code",
   "execution_count": 160,
   "id": "001077b6-7ac6-4a8f-9cd6-141da780277a",
   "metadata": {},
   "outputs": [],
   "source": [
    "tree[tree<7.1] = 0"
   ]
  },
  {
   "cell_type": "code",
   "execution_count": 161,
   "id": "0a50d00a-3522-4cd8-bc35-c973e6dcd365",
   "metadata": {},
   "outputs": [
    {
     "data": {
      "text/plain": [
       "82"
      ]
     },
     "execution_count": 161,
     "metadata": {},
     "output_type": "execute_result"
    }
   ],
   "source": [
    "overlap = ((tree.values != 0) & (react.values != 0)).sum().sum()\n",
    "overlap"
   ]
  },
  {
   "cell_type": "code",
   "execution_count": 162,
   "id": "5dc1764c-565b-42e5-b7be-459410de14ec",
   "metadata": {},
   "outputs": [
    {
     "data": {
      "text/plain": [
       "(632, 954)"
      ]
     },
     "execution_count": 162,
     "metadata": {},
     "output_type": "execute_result"
    }
   ],
   "source": [
    "(react != 0).sum().sum(), (tree != 0).sum().sum()"
   ]
  },
  {
   "cell_type": "markdown",
   "id": "cf65a3d2-8394-4401-933a-9d2d83ca016f",
   "metadata": {},
   "source": [
    "### Permutation test"
   ]
  },
  {
   "cell_type": "code",
   "execution_count": 164,
   "id": "d72ff37a-7a80-4662-8d49-08d9fc7d1e1c",
   "metadata": {},
   "outputs": [
    {
     "name": "stdout",
     "output_type": "stream",
     "text": [
      "p_value=0.00999000999000999\n"
     ]
    }
   ],
   "source": [
    "null_hyp = 0\n",
    "null_recs = []\n",
    "for i in range(1000):\n",
    "    shuffled_tree = shuffle(tree,random_state=i)\n",
    "    t = tree.values\n",
    "    np.random.shuffle(t)\n",
    "    t = t.T\n",
    "    np.random.shuffle(t)\n",
    "    t = t.T\n",
    "    sim = ((t != 0) & (react.values != 0)).sum().sum()\n",
    "    if sim >= overlap:\n",
    "        null_hyp += 1\n",
    "    null_recs.append(sim)\n",
    "print(f\"p_value={(null_hyp+1)/1001}\")"
   ]
  },
  {
   "cell_type": "code",
   "execution_count": 150,
   "id": "c1b5647a-d00b-44f0-a656-607cfa6f0cda",
   "metadata": {},
   "outputs": [
    {
     "data": {
      "text/plain": [
       "9"
      ]
     },
     "execution_count": 150,
     "metadata": {},
     "output_type": "execute_result"
    }
   ],
   "source": [
    "null_hyp"
   ]
  },
  {
   "cell_type": "code",
   "execution_count": null,
   "id": "0dfc9649-464f-40d6-965a-35f0d562aecc",
   "metadata": {},
   "outputs": [],
   "source": []
  }
 ],
 "metadata": {
  "kernelspec": {
   "display_name": "Python 3 (ipykernel)",
   "language": "python",
   "name": "python3"
  },
  "language_info": {
   "codemirror_mode": {
    "name": "ipython",
    "version": 3
   },
   "file_extension": ".py",
   "mimetype": "text/x-python",
   "name": "python",
   "nbconvert_exporter": "python",
   "pygments_lexer": "ipython3",
   "version": "3.10.14"
  }
 },
 "nbformat": 4,
 "nbformat_minor": 5
}
