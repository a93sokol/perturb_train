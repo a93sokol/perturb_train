{
 "cells": [
  {
   "cell_type": "code",
   "execution_count": 19,
   "id": "57fc5baa-658c-4429-8461-4e4f26a7ecc0",
   "metadata": {},
   "outputs": [],
   "source": [
    "import requests\n",
    "import json\n",
    "from tqdm import tqdm"
   ]
  },
  {
   "cell_type": "code",
   "execution_count": 20,
   "id": "e2a0d907-3e54-4699-bd17-81da67962b26",
   "metadata": {},
   "outputs": [],
   "source": [
    "genes = ['TSC22D1',\n",
    " 'KLF1',\n",
    " 'MAP2K6',\n",
    " 'CEBPE',\n",
    " 'RUNX1T1',\n",
    " 'MAML2',\n",
    " 'CBL',\n",
    " 'PTPN9',\n",
    " 'TGFBR2',\n",
    " 'ETS2',\n",
    " 'SGK1',\n",
    " 'TBX3',\n",
    " 'DUSP9',\n",
    " 'SPI1',\n",
    " 'ELMSAN1',\n",
    " 'UBASH3B',\n",
    " 'PTPN12',\n",
    " 'FOXA1',\n",
    " 'FOXA3',\n",
    " 'IGDCC3',\n",
    " 'BCORL1',\n",
    " 'MEIS1',\n",
    " 'GLB1L2',\n",
    " 'IKZF3',\n",
    " 'BAK1',\n",
    " 'FEV',\n",
    " 'MAP2K3',\n",
    " 'SLC38A2',\n",
    " 'SET',\n",
    " 'LHX1',\n",
    " 'TBX2',\n",
    " 'SLC4A1',\n",
    " 'RREB1',\n",
    " 'ZNF318',\n",
    " 'MAPK1',\n",
    " 'COL2A1',\n",
    " 'ZBTB25',\n",
    " 'MAP4K5',\n",
    " 'SLC6A9',\n",
    " 'MIDN',\n",
    " 'OSR2',\n",
    " 'DLX2',\n",
    " 'CBFA2T3',\n",
    " 'HES7',\n",
    " 'FOXL2',\n",
    " 'AHR',\n",
    " 'FOXO4',\n",
    " 'RHOXF2BB',\n",
    " 'S1PR2',\n",
    " 'POU3F2',\n",
    " 'LYL1',\n",
    " 'IER5L',\n",
    " 'CNN1',\n",
    " 'CELF2',\n",
    " 'JUN',\n",
    " 'CEBPA',\n",
    " 'MAP4K3',\n",
    " 'ZC3HAV1',\n",
    " 'CDKN1A',\n",
    " 'UBASH3A',\n",
    " 'PRTG',\n",
    " 'PTPN1',\n",
    " 'TP73',\n",
    " 'MAP7D1',\n",
    " 'FOSB',\n",
    " 'C19orf26',\n",
    " 'IRF1',\n",
    " 'TMSB4X',\n",
    " 'BPGM',\n",
    " 'SAMD1',\n",
    " 'HOXB9',\n",
    " 'HOXC13',\n",
    " 'CKS1B',\n",
    " 'CLDN6',\n",
    " 'KIF18B',\n",
    " 'KIF2C',\n",
    " 'BCL2L11',\n",
    " 'COL1A1',\n",
    " 'CEBPB',\n",
    " 'FOXF1',\n",
    " 'ZBTB1',\n",
    " 'PLK4',\n",
    " 'ARRDC3',\n",
    " 'C3orf72',\n",
    " 'KIAA1804',\n",
    " 'HNF4A',\n",
    " 'SNAI1',\n",
    " 'KMT2A',\n",
    " 'ISL2',\n",
    " 'CSRNP1',\n",
    " 'ARID1A',\n",
    " 'CNNM4',\n",
    " 'NCL',\n",
    " 'ZBTB10',\n",
    " 'STIL',\n",
    " 'ATL1',\n",
    " 'NIT1',\n",
    " 'CDKN1B',\n",
    " 'PTPN13',\n",
    " 'HOXA13',\n",
    " 'CITED1',\n",
    " 'PRDM1',\n",
    " 'HK2',\n",
    " 'CDKN1C',\n",
    " 'EGR1']"
   ]
  },
  {
   "cell_type": "code",
   "execution_count": 21,
   "id": "d7e5006c-57d4-4fed-83cc-8c34f8f697e2",
   "metadata": {},
   "outputs": [
    {
     "name": "stderr",
     "output_type": "stream",
     "text": [
      "100%|██████████████████████████████████████████████████████████████████| 105/105 [02:08<00:00,  1.23s/it]\n"
     ]
    }
   ],
   "source": [
    "result = {}\n",
    "for gene in tqdm(genes):\n",
    "    gene_code = gene\n",
    "    headers = {\n",
    "        'accept': 'application/json',\n",
    "    }\n",
    "    \n",
    "    params = {\n",
    "        'interactors': 'true',\n",
    "        'species': 'Homo sapiens',\n",
    "        'pageSize': '20',\n",
    "        'page': '1',\n",
    "        'sortBy': 'ENTITIES_PVALUE',\n",
    "        'order': 'ASC',\n",
    "        'resource': 'TOTAL',\n",
    "        'pValue': '1',\n",
    "        'includeDisease': 'true',\n",
    "    }\n",
    "    \n",
    "    response = requests.get(f'https://reactome.org/AnalysisService/identifier/{gene_code}/projection', params=params, headers=headers)\n",
    "    if response.status_code != 200:\n",
    "        print(response.status_code)\n",
    "    else:\n",
    "        r = json.loads(response.content.decode())\n",
    "        result[gene] = r    \n",
    "    "
   ]
  },
  {
   "cell_type": "code",
   "execution_count": 22,
   "id": "5888a34c-5831-458c-a2a4-3747c03d2e88",
   "metadata": {},
   "outputs": [],
   "source": [
    "with open('reactome_genes.json', 'w') as json_file:\n",
    "    json.dump(result, json_file, indent=4)"
   ]
  },
  {
   "cell_type": "markdown",
   "id": "5b27a2a5-87e1-4bde-9dc0-8147cf13461f",
   "metadata": {},
   "source": [
    "## Building the similarity/distance matrix"
   ]
  },
  {
   "cell_type": "code",
   "execution_count": 1,
   "id": "874b574a-ffb8-4094-99b9-5dcd7bddddd1",
   "metadata": {},
   "outputs": [],
   "source": [
    "import json\n",
    "import pandas as pd"
   ]
  },
  {
   "cell_type": "code",
   "execution_count": 2,
   "id": "7c702cbf-43a9-4908-9698-af6ac5061b58",
   "metadata": {},
   "outputs": [],
   "source": [
    "with open('./little_data/reactome_genes.json', 'r') as f:\n",
    "    data = json.load(f)"
   ]
  },
  {
   "cell_type": "code",
   "execution_count": 4,
   "id": "4048c627-3b32-43cc-ad55-8544fff8b4dd",
   "metadata": {},
   "outputs": [
    {
     "data": {
      "text/plain": [
       "{'stId': 'R-HSA-8950505',\n",
       " 'dbId': 8950505,\n",
       " 'name': 'Gene and protein expression by JAK-STAT signaling after Interleukin-12 stimulation',\n",
       " 'species': {'dbId': 48887, 'taxId': '9606', 'name': 'Homo sapiens'},\n",
       " 'llp': True,\n",
       " 'entities': {'resource': 'TOTAL',\n",
       "  'total': 748,\n",
       "  'found': 1,\n",
       "  'ratio': 0.03128529005813711,\n",
       "  'curatedTotal': 73,\n",
       "  'curatedFound': 0,\n",
       "  'interactorsTotal': 684,\n",
       "  'interactorsFound': 1,\n",
       "  'pValue': 0.03128529005813707,\n",
       "  'fdr': 0.09845664812413735,\n",
       "  'exp': []},\n",
       " 'reactions': {'resource': 'TOTAL', 'total': 36, 'found': 1, 'ratio': 0.0024},\n",
       " 'inDisease': False}"
      ]
     },
     "execution_count": 4,
     "metadata": {},
     "output_type": "execute_result"
    }
   ],
   "source": [
    "data['KLF1']['pathways'][0]"
   ]
  },
  {
   "cell_type": "code",
   "execution_count": 10,
   "id": "f0e0af7f-c874-4104-9481-990034393ad7",
   "metadata": {
    "scrolled": true
   },
   "outputs": [],
   "source": [
    "pathways = []\n",
    "for gene in list(data.keys()):\n",
    "    for path in data[gene]['pathways']:\n",
    "        pathways.append(path['dbId'])"
   ]
  },
  {
   "cell_type": "code",
   "execution_count": 20,
   "id": "bcc65d4a-04b6-4e4a-a90c-ddef00eed6aa",
   "metadata": {
    "scrolled": true
   },
   "outputs": [
    {
     "data": {
      "text/plain": [
       "882"
      ]
     },
     "execution_count": 20,
     "metadata": {},
     "output_type": "execute_result"
    }
   ],
   "source": [
    "len(set(pathways))"
   ]
  },
  {
   "cell_type": "code",
   "execution_count": 11,
   "id": "53fc5cfe-0b40-433b-9137-3f73ebe39f37",
   "metadata": {},
   "outputs": [],
   "source": [
    "gene_path = pd.DataFrame(columns=list(set(pathways)), index = list(data.keys()))\n",
    "pval = 0.05\n",
    "for gene in list(data.keys()):\n",
    "    for path in data[gene]['pathways']:\n",
    "        if path['entities']['pValue'] < pval and path['entities']['found']==1 and path['inDisease']==True:\n",
    "            gene_path.loc[gene, path['dbId']] = 1"
   ]
  },
  {
   "cell_type": "code",
   "execution_count": 12,
   "id": "e8bc38b8-4f4c-4603-a11c-93574944366b",
   "metadata": {},
   "outputs": [
    {
     "data": {
      "text/plain": [
       "5"
      ]
     },
     "execution_count": 12,
     "metadata": {},
     "output_type": "execute_result"
    }
   ],
   "source": [
    "gene_path.sum(axis=0).max()"
   ]
  },
  {
   "cell_type": "code",
   "execution_count": 13,
   "id": "b8970f72-3f69-4774-9095-94dcb71f0323",
   "metadata": {},
   "outputs": [],
   "source": [
    "sim_mtx = pd.DataFrame(index = list(data.keys()), columns = list(data.keys()))"
   ]
  },
  {
   "cell_type": "code",
   "execution_count": 14,
   "id": "72c5aa88-16b0-4227-85ec-8c3e1716bf53",
   "metadata": {},
   "outputs": [],
   "source": [
    "for gene1 in sim_mtx.index:\n",
    "    for gene2 in sim_mtx.columns:\n",
    "        t1 = gene_path.loc[gene1]\n",
    "        t1 = t1.dropna().index.tolist()\n",
    "        t2 = gene_path.loc[gene2]\n",
    "        t2 = t2.dropna().index.tolist()\n",
    "        sim_mtx.loc[gene1, gene2] = len(set(t1).intersection(set(t2)))\n",
    "sim_mtx.fillna(0, inplace=True)"
   ]
  },
  {
   "cell_type": "code",
   "execution_count": 16,
   "id": "6d167f8d-6e81-4913-8ab2-b4d00dee0b11",
   "metadata": {},
   "outputs": [],
   "source": [
    "sim_mtx.to_csv('reactome_distance_mtx_inDisease.csv')"
   ]
  },
  {
   "cell_type": "code",
   "execution_count": null,
   "id": "ec2e13db-1829-4d1d-88e1-602f8b380b04",
   "metadata": {},
   "outputs": [],
   "source": []
  }
 ],
 "metadata": {
  "kernelspec": {
   "display_name": "Python 3 (ipykernel)",
   "language": "python",
   "name": "python3"
  },
  "language_info": {
   "codemirror_mode": {
    "name": "ipython",
    "version": 3
   },
   "file_extension": ".py",
   "mimetype": "text/x-python",
   "name": "python",
   "nbconvert_exporter": "python",
   "pygments_lexer": "ipython3",
   "version": "3.10.14"
  }
 },
 "nbformat": 4,
 "nbformat_minor": 5
}
